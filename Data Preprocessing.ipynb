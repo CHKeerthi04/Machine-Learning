{
 "cells": [
  {
   "cell_type": "code",
   "execution_count": 18,
   "id": "1cb92fda",
   "metadata": {},
   "outputs": [],
   "source": [
    "                                            # DATA PREPROCESSING\n",
    "#MULTIVARIATE DATA\n",
    "\n",
    "# 1)check duplicate columns and variables-info()\n",
    "# If any duplicate variables delete them accordingly\n",
    "\n",
    "# 2)Single value columns/variables- All the values and the variables are of single value like 1,0\n",
    "# Describe()- mean, Min, Max all are 0.\n",
    "\n",
    "#3) Missing value imputation- Missing value occus due to negiligence in data entry, wrong entry,machine faliure etc\n",
    "# If missing values are greater than 70% of the columnn the with word \"Missing\" /\"Not available\"\n",
    "# If it is numerical column replace with \"999\"\n",
    "# If missing values are less than 70% column or variable imputation is based on variable type\n",
    "#  If Numeric variable mean or median type imputation\n",
    "# if categoric variable / Non numeric- Most frequent or Mode\n",
    "# This manual imputation where the specif column or variables mean/median/ mode is used for impputation and do not consider the impact of other variables on missing value.\n",
    "\n",
    "\n",
    "# Alogratim based missing value imputation.\n",
    "# Considers the impact of other variables on the missing value and imputes accordingly.\n",
    "\n",
    "# Multivariate imputation based on chained Equations(MICE) \n",
    "# Impute both numerical and categorical data simultaneously-Python skilearn iterative imputer\n",
    "\n",
    "#KNN Imputer- Uses K nearest algorithm  using Euclidean disatnce. Imputation is based on closest neighbours.\n",
    "# KNN Imputer works only on numeric data.\n",
    "# Other algorithms available in python like pobablistic principal component analysis Algorithm.\n",
    "\n",
    " "
   ]
  },
  {
   "cell_type": "code",
   "execution_count": 19,
   "id": "bf44d5e8",
   "metadata": {},
   "outputs": [],
   "source": [
    "# 4) DATA TRANSFORMATION\n",
    "# Its where we resize or reshape the range to specific range of values.\n",
    "# Dependent variables (y)- is the variable which is asked to predict- Regression problem- Skewness and outliners are the biggest issues\n",
    "# Y is numerical , continuous,closer to normal distribution with minimum outliners and no missing values-Regression Models.\n",
    "# Positive skewness - Lograthmic Transformation or square root transformation\n",
    "# Negative skewness - Exponentinal transorfation or power transformation\n",
    "\n",
    "# Dependent variables (y)- is non numeric or either Binary (Yes/No) OR Multinomial(more than 2 levels)- Classification models must be used\n",
    "# Ex- Multinomial- Emotional variable- Happy,sad,very sad, neutral.\n",
    "# Imbalance data is biggest problem. Ex- Credit card default(y) -Yes(1000),No(9000). Minority class (yes) prediction will be worst.\n",
    "# Sampling like under sampling and oversampling must be impleted.\n",
    "\n",
    "\n",
    "# Independent variables(X)- Numeric variables- When variables are in different mathematical units\n",
    "# Ex- X1-Lakhs,X2-Thousands,X3-Hundreds, X4-Tens,X5-Discrete values.-Scaling of the data must be done.\n",
    "# 1) Srandard scaler or standardization- Calculate Z Score= (X-Mean)/ SD\n",
    "# Scaling will give both +ve and -Ve values\n",
    "# 2) Min Max scaler Or Normalisation- (X-Min)/(Xmax-XMin) will scale all values in the range of 0 to 1 without negative values.\n",
    "# 3) Robust values based on Quartiles - (X-Q2)/(Q3-Q1) is used when data has many outliners.\n",
    "\n",
    "# 5)dummy variables Encoding.\n",
    "#Independent variables(X)- Non Numeric or Categorical.- X should be always numeric SO,\n",
    "# Assign numerical identifiers to text categories called dummy variables Encoding.\n",
    "# A) Label encoder- encodes the object or categorical data by assigning numeric identifiers from 0 to n levels/classes in alphabetic order\n",
    "# EX- Gender-F,M,M,M,F,F,F,M\n",
    "#     Gender-1,0,0,0,1,1,1,0\n",
    "\n",
    "# B) pd.get_dummies()-encodes the object or categorical data using binary encoding(Yes-1,No-0) and also adds additional columns/variables based on levels in categorical data\n",
    "# EX- Gender-F,M,M,M,F,F,F,M\n",
    "#  Gender_F-1,0,0,0,1,1,1,0\n",
    "#   Gender_M-0,1,1,1,0,0,0,1\n",
    "\n",
    "\n",
    "#5) Dealing with DUPLICATE LEVELS OR CLASSESIN CATEGORICAL VARIABLES\n",
    "#Ex- Male,M,m,F,Female\n",
    " \n",
    "#6) Dealing with characters like coma, space,currency in numeric data. String or regular expression functions must be used.\n",
    "\n",
    "#7) Extracting information like codes from Alpha numeric Identifiers Or ID\n",
    "\n",
    "#8) Formatting dates into default YYYY-MM-DD HH:MM:SS. pd.to_datetime()\n",
    "\n",
    "#9) Create new variables from existing variables. Combination of multiple variable\n",
    "\n",
    "#10) Converting variables from categorical to numeric or vice-versa.\n"
   ]
  },
  {
   "cell_type": "code",
   "execution_count": 20,
   "id": "fb993d9c",
   "metadata": {},
   "outputs": [],
   "source": [
    "import pandas as pd\n",
    "import numpy as np\n",
    "import matplotlib.pyplot as plt\n",
    "%matplotlib inline"
   ]
  },
  {
   "cell_type": "code",
   "execution_count": 21,
   "id": "64900041",
   "metadata": {},
   "outputs": [
    {
     "name": "stdout",
     "output_type": "stream",
     "text": [
      "C:\\Users\\chkee\\Downloads\\Imarticus Learning\\Python\n"
     ]
    }
   ],
   "source": [
    "import io\n",
    "%cd \"C:\\Users\\chkee\\Downloads\\Imarticus Learning\\Python\""
   ]
  },
  {
   "cell_type": "code",
   "execution_count": 22,
   "id": "14d9c6f0",
   "metadata": {},
   "outputs": [],
   "source": [
    "bigmarttrain=pd.read_csv('train_v9rqX0R.csv')"
   ]
  },
  {
   "cell_type": "code",
   "execution_count": 23,
   "id": "f90a92f3",
   "metadata": {},
   "outputs": [],
   "source": [
    "bigmarttest=pd.read_csv(\"test_AbJTz2l.csv\")"
   ]
  },
  {
   "cell_type": "code",
   "execution_count": 24,
   "id": "9057cf13",
   "metadata": {},
   "outputs": [
    {
     "name": "stdout",
     "output_type": "stream",
     "text": [
      "(8523, 12)\n",
      "(5681, 11)\n"
     ]
    }
   ],
   "source": [
    "print(bigmarttrain.shape)\n",
    "print(bigmarttest.shape)"
   ]
  },
  {
   "cell_type": "code",
   "execution_count": 25,
   "id": "bf3e785a",
   "metadata": {},
   "outputs": [],
   "source": [
    "# Train data is complete data with dependent variable inclued which will be used for building machine learning models\n",
    "# test data will not have dependent variable and needs to be predicted using the model built on train data.\n",
    "# Sample submission is where we copy the prediction of test data and submit the file to competition site for checking score and rank.\n"
   ]
  },
  {
   "cell_type": "code",
   "execution_count": 26,
   "id": "b4dfcb85",
   "metadata": {},
   "outputs": [
    {
     "name": "stdout",
     "output_type": "stream",
     "text": [
      "<class 'pandas.core.frame.DataFrame'>\n",
      "RangeIndex: 8523 entries, 0 to 8522\n",
      "Data columns (total 12 columns):\n",
      " #   Column                     Non-Null Count  Dtype  \n",
      "---  ------                     --------------  -----  \n",
      " 0   Item_Identifier            8523 non-null   object \n",
      " 1   Item_Weight                7060 non-null   float64\n",
      " 2   Item_Fat_Content           8523 non-null   object \n",
      " 3   Item_Visibility            8523 non-null   float64\n",
      " 4   Item_Type                  8523 non-null   object \n",
      " 5   Item_MRP                   8523 non-null   float64\n",
      " 6   Outlet_Identifier          8523 non-null   object \n",
      " 7   Outlet_Establishment_Year  8523 non-null   int64  \n",
      " 8   Outlet_Size                6113 non-null   object \n",
      " 9   Outlet_Location_Type       8523 non-null   object \n",
      " 10  Outlet_Type                8523 non-null   object \n",
      " 11  Item_Outlet_Sales          8523 non-null   float64\n",
      "dtypes: float64(4), int64(1), object(7)\n",
      "memory usage: 799.2+ KB\n"
     ]
    }
   ],
   "source": [
    "bigmarttrain.info()"
   ]
  },
  {
   "cell_type": "code",
   "execution_count": 27,
   "id": "082728c6",
   "metadata": {},
   "outputs": [
    {
     "name": "stdout",
     "output_type": "stream",
     "text": [
      "<class 'pandas.core.frame.DataFrame'>\n",
      "RangeIndex: 5681 entries, 0 to 5680\n",
      "Data columns (total 11 columns):\n",
      " #   Column                     Non-Null Count  Dtype  \n",
      "---  ------                     --------------  -----  \n",
      " 0   Item_Identifier            5681 non-null   object \n",
      " 1   Item_Weight                4705 non-null   float64\n",
      " 2   Item_Fat_Content           5681 non-null   object \n",
      " 3   Item_Visibility            5681 non-null   float64\n",
      " 4   Item_Type                  5681 non-null   object \n",
      " 5   Item_MRP                   5681 non-null   float64\n",
      " 6   Outlet_Identifier          5681 non-null   object \n",
      " 7   Outlet_Establishment_Year  5681 non-null   int64  \n",
      " 8   Outlet_Size                4075 non-null   object \n",
      " 9   Outlet_Location_Type       5681 non-null   object \n",
      " 10  Outlet_Type                5681 non-null   object \n",
      "dtypes: float64(3), int64(1), object(7)\n",
      "memory usage: 488.3+ KB\n"
     ]
    }
   ],
   "source": [
    "bigmarttest.info()"
   ]
  },
  {
   "cell_type": "code",
   "execution_count": 28,
   "id": "2c05e983",
   "metadata": {},
   "outputs": [],
   "source": [
    "# Data preprocessing- Whatever preprocessing done on train data same must be done on the test data.\n",
    "# For preprocessing typicaly combine both train and test data into single frame\n",
    "# For concatination  of 2 data frames must have equal columns and rows and in same order"
   ]
  },
  {
   "cell_type": "code",
   "execution_count": 29,
   "id": "dbbc6f5f",
   "metadata": {},
   "outputs": [],
   "source": [
    "# Temporarily add dependent variable to test data for concatination\n",
    "bigmarttest['Item_Outlet_Sales']='test'"
   ]
  },
  {
   "cell_type": "code",
   "execution_count": 30,
   "id": "19b995d9",
   "metadata": {},
   "outputs": [],
   "source": [
    "combinedf=pd.concat([bigmarttrain,bigmarttest],axis=0)\n",
    "#axis=0 is row wise concat\n",
    "# axis=1 is column concat"
   ]
  },
  {
   "cell_type": "code",
   "execution_count": 31,
   "id": "d10c793c",
   "metadata": {},
   "outputs": [
    {
     "data": {
      "text/plain": [
       "Medium    4655\n",
       "NaN       4016\n",
       "Small     3980\n",
       "High      1553\n",
       "Name: Outlet_Size, dtype: int64"
      ]
     },
     "execution_count": 31,
     "metadata": {},
     "output_type": "execute_result"
    }
   ],
   "source": [
    "combinedf.Outlet_Size.value_counts(dropna=False)"
   ]
  },
  {
   "cell_type": "code",
   "execution_count": 32,
   "id": "f863b73f",
   "metadata": {},
   "outputs": [],
   "source": [
    "#Since we cannot replace NaN with the 3 levels as it will create large bias,impute with word \"missing\"\n",
    "combinedf.Outlet_Size=combinedf.Outlet_Size.fillna(\"Missing\")  # fillna is the function for filling the missing values"
   ]
  },
  {
   "cell_type": "code",
   "execution_count": 33,
   "id": "6542741b",
   "metadata": {},
   "outputs": [
    {
     "data": {
      "text/plain": [
       "count    11765.000000\n",
       "mean        12.792854\n",
       "std          4.652502\n",
       "min          4.555000\n",
       "25%          8.710000\n",
       "50%         12.600000\n",
       "75%         16.750000\n",
       "max         21.350000\n",
       "Name: Item_Weight, dtype: float64"
      ]
     },
     "execution_count": 33,
     "metadata": {},
     "output_type": "execute_result"
    }
   ],
   "source": [
    "combinedf.Item_Weight.describe()"
   ]
  },
  {
   "cell_type": "code",
   "execution_count": 34,
   "id": "8ef76f2c",
   "metadata": {},
   "outputs": [],
   "source": [
    "combinedf.Item_Weight=combinedf.Item_Weight.fillna(combinedf.Item_Weight.mean())"
   ]
  },
  {
   "cell_type": "code",
   "execution_count": 35,
   "id": "2e1bb9da",
   "metadata": {},
   "outputs": [
    {
     "data": {
      "text/plain": [
       "Low Fat    8485\n",
       "Regular    4824\n",
       "LF          522\n",
       "reg         195\n",
       "low fat     178\n",
       "Name: Item_Fat_Content, dtype: int64"
      ]
     },
     "execution_count": 35,
     "metadata": {},
     "output_type": "execute_result"
    }
   ],
   "source": [
    "combinedf.Item_Fat_Content.value_counts(dropna=False)  # Duplicate levels"
   ]
  },
  {
   "cell_type": "code",
   "execution_count": 36,
   "id": "f86ebf55",
   "metadata": {},
   "outputs": [],
   "source": [
    "combinedf.Item_Fat_Content=combinedf.Item_Fat_Content.replace(['LF','low fat'], 'Low Fat') # Replace"
   ]
  },
  {
   "cell_type": "code",
   "execution_count": 37,
   "id": "191606bf",
   "metadata": {},
   "outputs": [],
   "source": [
    "combinedf.Item_Fat_Content=combinedf.Item_Fat_Content.replace('reg','Regular')"
   ]
  },
  {
   "cell_type": "code",
   "execution_count": 38,
   "id": "02de2ca3",
   "metadata": {},
   "outputs": [
    {
     "data": {
      "text/plain": [
       "count    14204.000000\n",
       "mean         0.065953\n",
       "std          0.051459\n",
       "min          0.000000\n",
       "25%          0.027036\n",
       "50%          0.054021\n",
       "75%          0.094037\n",
       "max          0.328391\n",
       "Name: Item_Visibility, dtype: float64"
      ]
     },
     "execution_count": 38,
     "metadata": {},
     "output_type": "execute_result"
    }
   ],
   "source": [
    "combinedf.Item_Visibility.describe()"
   ]
  },
  {
   "cell_type": "code",
   "execution_count": 39,
   "id": "6f8b0590",
   "metadata": {},
   "outputs": [
    {
     "data": {
      "text/plain": [
       "count    14204.000000\n",
       "mean       141.004977\n",
       "std         62.086938\n",
       "min         31.290000\n",
       "25%         94.012000\n",
       "50%        142.247000\n",
       "75%        185.855600\n",
       "max        266.888400\n",
       "Name: Item_MRP, dtype: float64"
      ]
     },
     "execution_count": 39,
     "metadata": {},
     "output_type": "execute_result"
    }
   ],
   "source": [
    "combinedf.Item_MRP.describe()\n"
   ]
  },
  {
   "cell_type": "code",
   "execution_count": 40,
   "id": "9f434e68",
   "metadata": {},
   "outputs": [
    {
     "data": {
      "text/plain": [
       "Index(['Item_Identifier', 'Item_Weight', 'Item_Fat_Content', 'Item_Visibility',\n",
       "       'Item_Type', 'Item_MRP', 'Outlet_Identifier',\n",
       "       'Outlet_Establishment_Year', 'Outlet_Size', 'Outlet_Location_Type',\n",
       "       'Outlet_Type', 'Item_Outlet_Sales'],\n",
       "      dtype='object')"
      ]
     },
     "execution_count": 40,
     "metadata": {},
     "output_type": "execute_result"
    }
   ],
   "source": [
    "combinedf.columns"
   ]
  },
  {
   "cell_type": "code",
   "execution_count": 41,
   "id": "e1260b03",
   "metadata": {},
   "outputs": [],
   "source": [
    "objcols=['Item_Type','Outlet_Identifier','Outlet_Size','Outlet_Location_Type',\n",
    "       'Outlet_Type']"
   ]
  },
  {
   "cell_type": "code",
   "execution_count": 42,
   "id": "761608d1",
   "metadata": {},
   "outputs": [
    {
     "name": "stdout",
     "output_type": "stream",
     "text": [
      "Fruits and Vegetables    2013\n",
      "Snack Foods              1989\n",
      "Household                1548\n",
      "Frozen Foods             1426\n",
      "Dairy                    1136\n",
      "Baking Goods             1086\n",
      "Canned                   1084\n",
      "Health and Hygiene        858\n",
      "Meat                      736\n",
      "Soft Drinks               726\n",
      "Breads                    416\n",
      "Hard Drinks               362\n",
      "Others                    280\n",
      "Starchy Foods             269\n",
      "Breakfast                 186\n",
      "Seafood                    89\n",
      "Name: Item_Type, dtype: int64\n",
      "OUT027    1559\n",
      "OUT013    1553\n",
      "OUT049    1550\n",
      "OUT046    1550\n",
      "OUT035    1550\n",
      "OUT045    1548\n",
      "OUT018    1546\n",
      "OUT017    1543\n",
      "OUT010     925\n",
      "OUT019     880\n",
      "Name: Outlet_Identifier, dtype: int64\n",
      "Medium     4655\n",
      "Missing    4016\n",
      "Small      3980\n",
      "High       1553\n",
      "Name: Outlet_Size, dtype: int64\n",
      "Tier 3    5583\n",
      "Tier 2    4641\n",
      "Tier 1    3980\n",
      "Name: Outlet_Location_Type, dtype: int64\n",
      "Supermarket Type1    9294\n",
      "Grocery Store        1805\n",
      "Supermarket Type3    1559\n",
      "Supermarket Type2    1546\n",
      "Name: Outlet_Type, dtype: int64\n"
     ]
    }
   ],
   "source": [
    "for col in objcols:\n",
    "    freq=combinedf[col].value_counts(dropna=False)\n",
    "    print (freq)    # to see the output, if not given print it will store the data in backend."
   ]
  },
  {
   "cell_type": "code",
   "execution_count": 43,
   "id": "e3bcd470",
   "metadata": {},
   "outputs": [
    {
     "data": {
      "text/plain": [
       "0    FDA15\n",
       "1    DRC01\n",
       "2    FDN15\n",
       "3    FDX07\n",
       "4    NCD19\n",
       "5    FDP36\n",
       "6    FDO10\n",
       "7    FDP10\n",
       "8    FDH17\n",
       "9    FDU28\n",
       "Name: Item_Identifier, dtype: object"
      ]
     },
     "execution_count": 43,
     "metadata": {},
     "output_type": "execute_result"
    }
   ],
   "source": [
    "combinedf.Item_Identifier.head(10)"
   ]
  },
  {
   "cell_type": "code",
   "execution_count": 44,
   "id": "5d1e0244",
   "metadata": {},
   "outputs": [],
   "source": [
    "#Creation of new variable\n",
    "combinedf['Iteam_code']=combinedf.Item_Identifier.apply(lambda x:x[0:2]) # split the first 2 alphabets of item identifier and created new column as item code\n"
   ]
  },
  {
   "cell_type": "code",
   "execution_count": 45,
   "id": "51007e90",
   "metadata": {},
   "outputs": [
    {
     "data": {
      "text/plain": [
       "FD    10201\n",
       "NC     2686\n",
       "DR     1317\n",
       "Name: Iteam_code, dtype: int64"
      ]
     },
     "execution_count": 45,
     "metadata": {},
     "output_type": "execute_result"
    }
   ],
   "source": [
    "combinedf.Iteam_code.value_counts(dropna=False)\n",
    "# FD-Food\n",
    "#NC-Non consumables\n",
    "#DR-D rinks"
   ]
  },
  {
   "cell_type": "code",
   "execution_count": 46,
   "id": "15cf17ac",
   "metadata": {},
   "outputs": [],
   "source": [
    "# Create ne variable called 'outlet_Age' using \"outlet establishment year\"\n",
    "combinedf[\"Outlet_Age\"]=2022-combinedf.Outlet_Establishment_Year"
   ]
  },
  {
   "cell_type": "code",
   "execution_count": 47,
   "id": "a7712ddd",
   "metadata": {},
   "outputs": [
    {
     "data": {
      "text/plain": [
       "count    14204.000000\n",
       "mean        24.169319\n",
       "std          8.371664\n",
       "min         13.000000\n",
       "25%         18.000000\n",
       "50%         23.000000\n",
       "75%         35.000000\n",
       "max         37.000000\n",
       "Name: Outlet_Age, dtype: float64"
      ]
     },
     "execution_count": 47,
     "metadata": {},
     "output_type": "execute_result"
    }
   ],
   "source": [
    "combinedf.Outlet_Age.describe()"
   ]
  },
  {
   "cell_type": "code",
   "execution_count": 48,
   "id": "69eb1158",
   "metadata": {},
   "outputs": [
    {
     "data": {
      "text/plain": [
       "Index(['Item_Identifier', 'Item_Weight', 'Item_Fat_Content', 'Item_Visibility',\n",
       "       'Item_Type', 'Item_MRP', 'Outlet_Identifier',\n",
       "       'Outlet_Establishment_Year', 'Outlet_Size', 'Outlet_Location_Type',\n",
       "       'Outlet_Type', 'Item_Outlet_Sales', 'Iteam_code', 'Outlet_Age'],\n",
       "      dtype='object')"
      ]
     },
     "execution_count": 48,
     "metadata": {},
     "output_type": "execute_result"
    }
   ],
   "source": [
    "combinedf.columns"
   ]
  },
  {
   "cell_type": "code",
   "execution_count": 49,
   "id": "cc2428c2",
   "metadata": {},
   "outputs": [],
   "source": [
    "numcols=combinedf[['Item_Weight','Item_Visibility','Item_MRP','Outlet_Age']]\n",
    "objcols=combinedf[['Item_Fat_Content','Item_Type','Outlet_Identifier','Outlet_Size', 'Outlet_Location_Type',\n",
    "       'Outlet_Type','Iteam_code',]]"
   ]
  },
  {
   "cell_type": "code",
   "execution_count": 50,
   "id": "d65d0947",
   "metadata": {},
   "outputs": [
    {
     "data": {
      "text/html": [
       "<div>\n",
       "<style scoped>\n",
       "    .dataframe tbody tr th:only-of-type {\n",
       "        vertical-align: middle;\n",
       "    }\n",
       "\n",
       "    .dataframe tbody tr th {\n",
       "        vertical-align: top;\n",
       "    }\n",
       "\n",
       "    .dataframe thead th {\n",
       "        text-align: right;\n",
       "    }\n",
       "</style>\n",
       "<table border=\"1\" class=\"dataframe\">\n",
       "  <thead>\n",
       "    <tr style=\"text-align: right;\">\n",
       "      <th></th>\n",
       "      <th>Item_Weight</th>\n",
       "      <th>Item_Visibility</th>\n",
       "      <th>Item_MRP</th>\n",
       "      <th>Outlet_Age</th>\n",
       "    </tr>\n",
       "  </thead>\n",
       "  <tbody>\n",
       "    <tr>\n",
       "      <th>0</th>\n",
       "      <td>9.30</td>\n",
       "      <td>0.016047</td>\n",
       "      <td>249.8092</td>\n",
       "      <td>23</td>\n",
       "    </tr>\n",
       "    <tr>\n",
       "      <th>1</th>\n",
       "      <td>5.92</td>\n",
       "      <td>0.019278</td>\n",
       "      <td>48.2692</td>\n",
       "      <td>13</td>\n",
       "    </tr>\n",
       "    <tr>\n",
       "      <th>2</th>\n",
       "      <td>17.50</td>\n",
       "      <td>0.016760</td>\n",
       "      <td>141.6180</td>\n",
       "      <td>23</td>\n",
       "    </tr>\n",
       "    <tr>\n",
       "      <th>3</th>\n",
       "      <td>19.20</td>\n",
       "      <td>0.000000</td>\n",
       "      <td>182.0950</td>\n",
       "      <td>24</td>\n",
       "    </tr>\n",
       "    <tr>\n",
       "      <th>4</th>\n",
       "      <td>8.93</td>\n",
       "      <td>0.000000</td>\n",
       "      <td>53.8614</td>\n",
       "      <td>35</td>\n",
       "    </tr>\n",
       "  </tbody>\n",
       "</table>\n",
       "</div>"
      ],
      "text/plain": [
       "   Item_Weight  Item_Visibility  Item_MRP  Outlet_Age\n",
       "0         9.30         0.016047  249.8092          23\n",
       "1         5.92         0.019278   48.2692          13\n",
       "2        17.50         0.016760  141.6180          23\n",
       "3        19.20         0.000000  182.0950          24\n",
       "4         8.93         0.000000   53.8614          35"
      ]
     },
     "execution_count": 50,
     "metadata": {},
     "output_type": "execute_result"
    }
   ],
   "source": [
    "numcols.head()  # numbers are in hundreds, decimals, tens\n",
    "# scale the data"
   ]
  },
  {
   "cell_type": "code",
   "execution_count": 51,
   "id": "8790e9f4",
   "metadata": {},
   "outputs": [],
   "source": [
    "# Standardisation\n",
    "\n",
    "from sklearn.preprocessing import StandardScaler"
   ]
  },
  {
   "cell_type": "code",
   "execution_count": 52,
   "id": "30d6d736",
   "metadata": {},
   "outputs": [],
   "source": [
    "scaler=StandardScaler() #StandardScaler is renamed as scaler"
   ]
  },
  {
   "cell_type": "code",
   "execution_count": 53,
   "id": "4d39415d",
   "metadata": {},
   "outputs": [],
   "source": [
    "numcols_std_scale=scaler.fit_transform(numcols)\n"
   ]
  },
  {
   "cell_type": "code",
   "execution_count": 54,
   "id": "9e8540e2",
   "metadata": {},
   "outputs": [],
   "source": [
    "numcols_std_scale=pd.DataFrame(numcols_std_scale,columns=numcols.columns)"
   ]
  },
  {
   "cell_type": "code",
   "execution_count": 55,
   "id": "378d180b",
   "metadata": {},
   "outputs": [
    {
     "data": {
      "text/html": [
       "<div>\n",
       "<style scoped>\n",
       "    .dataframe tbody tr th:only-of-type {\n",
       "        vertical-align: middle;\n",
       "    }\n",
       "\n",
       "    .dataframe tbody tr th {\n",
       "        vertical-align: top;\n",
       "    }\n",
       "\n",
       "    .dataframe thead th {\n",
       "        text-align: right;\n",
       "    }\n",
       "</style>\n",
       "<table border=\"1\" class=\"dataframe\">\n",
       "  <thead>\n",
       "    <tr style=\"text-align: right;\">\n",
       "      <th></th>\n",
       "      <th>Item_Weight</th>\n",
       "      <th>Item_Visibility</th>\n",
       "      <th>Item_MRP</th>\n",
       "      <th>Outlet_Age</th>\n",
       "    </tr>\n",
       "  </thead>\n",
       "  <tbody>\n",
       "    <tr>\n",
       "      <th>0</th>\n",
       "      <td>-0.824939</td>\n",
       "      <td>-0.969852</td>\n",
       "      <td>1.752511</td>\n",
       "      <td>-0.139681</td>\n",
       "    </tr>\n",
       "    <tr>\n",
       "      <th>1</th>\n",
       "      <td>-1.623224</td>\n",
       "      <td>-0.907063</td>\n",
       "      <td>-1.493696</td>\n",
       "      <td>-1.334228</td>\n",
       "    </tr>\n",
       "    <tr>\n",
       "      <th>2</th>\n",
       "      <td>1.111729</td>\n",
       "      <td>-0.956000</td>\n",
       "      <td>0.009874</td>\n",
       "      <td>-0.139681</td>\n",
       "    </tr>\n",
       "    <tr>\n",
       "      <th>3</th>\n",
       "      <td>1.513233</td>\n",
       "      <td>-1.281712</td>\n",
       "      <td>0.661838</td>\n",
       "      <td>-0.020226</td>\n",
       "    </tr>\n",
       "    <tr>\n",
       "      <th>4</th>\n",
       "      <td>-0.912325</td>\n",
       "      <td>-1.281712</td>\n",
       "      <td>-1.403623</td>\n",
       "      <td>1.293777</td>\n",
       "    </tr>\n",
       "  </tbody>\n",
       "</table>\n",
       "</div>"
      ],
      "text/plain": [
       "   Item_Weight  Item_Visibility  Item_MRP  Outlet_Age\n",
       "0    -0.824939        -0.969852  1.752511   -0.139681\n",
       "1    -1.623224        -0.907063 -1.493696   -1.334228\n",
       "2     1.111729        -0.956000  0.009874   -0.139681\n",
       "3     1.513233        -1.281712  0.661838   -0.020226\n",
       "4    -0.912325        -1.281712 -1.403623    1.293777"
      ]
     },
     "execution_count": 55,
     "metadata": {},
     "output_type": "execute_result"
    }
   ],
   "source": [
    "numcols_std_scale.head()  # values are in bothe -ve and +ve as the values are both above and below mean.\n"
   ]
  },
  {
   "cell_type": "code",
   "execution_count": 56,
   "id": "211b4640",
   "metadata": {},
   "outputs": [],
   "source": [
    "from sklearn.preprocessing import MinMaxScaler"
   ]
  },
  {
   "cell_type": "code",
   "execution_count": 57,
   "id": "e24f7047",
   "metadata": {},
   "outputs": [],
   "source": [
    "minmax=MinMaxScaler()"
   ]
  },
  {
   "cell_type": "code",
   "execution_count": 58,
   "id": "8ad163d0",
   "metadata": {},
   "outputs": [],
   "source": [
    "numcols_minmax=minmax.fit_transform(numcols)"
   ]
  },
  {
   "cell_type": "code",
   "execution_count": 59,
   "id": "1b001b33",
   "metadata": {},
   "outputs": [],
   "source": [
    "numcols_minmax=pd.DataFrame(numcols_minmax,columns=numcols.columns)"
   ]
  },
  {
   "cell_type": "code",
   "execution_count": 60,
   "id": "2dcd868f",
   "metadata": {},
   "outputs": [],
   "source": [
    "from sklearn.preprocessing import RobustScaler"
   ]
  },
  {
   "cell_type": "code",
   "execution_count": 61,
   "id": "e108a06d",
   "metadata": {},
   "outputs": [],
   "source": [
    "robust=RobustScaler()"
   ]
  },
  {
   "cell_type": "code",
   "execution_count": 62,
   "id": "e50a6ae0",
   "metadata": {},
   "outputs": [],
   "source": [
    "numcols_robust=robust.fit_transform(numcols)"
   ]
  },
  {
   "cell_type": "code",
   "execution_count": 63,
   "id": "8d407015",
   "metadata": {},
   "outputs": [],
   "source": [
    "numcols_robust=pd.DataFrame(numcols_robust,columns=numcols.columns)"
   ]
  },
  {
   "cell_type": "code",
   "execution_count": 64,
   "id": "2ca1d0fa",
   "metadata": {},
   "outputs": [
    {
     "data": {
      "text/html": [
       "<div>\n",
       "<style scoped>\n",
       "    .dataframe tbody tr th:only-of-type {\n",
       "        vertical-align: middle;\n",
       "    }\n",
       "\n",
       "    .dataframe tbody tr th {\n",
       "        vertical-align: top;\n",
       "    }\n",
       "\n",
       "    .dataframe thead th {\n",
       "        text-align: right;\n",
       "    }\n",
       "</style>\n",
       "<table border=\"1\" class=\"dataframe\">\n",
       "  <thead>\n",
       "    <tr style=\"text-align: right;\">\n",
       "      <th></th>\n",
       "      <th>Item_Weight</th>\n",
       "      <th>Item_Visibility</th>\n",
       "      <th>Item_MRP</th>\n",
       "      <th>Outlet_Age</th>\n",
       "    </tr>\n",
       "  </thead>\n",
       "  <tbody>\n",
       "    <tr>\n",
       "      <th>0</th>\n",
       "      <td>-0.521322</td>\n",
       "      <td>-0.566751</td>\n",
       "      <td>1.171145</td>\n",
       "      <td>0.000000</td>\n",
       "    </tr>\n",
       "    <tr>\n",
       "      <th>1</th>\n",
       "      <td>-1.025799</td>\n",
       "      <td>-0.518530</td>\n",
       "      <td>-1.023237</td>\n",
       "      <td>-0.588235</td>\n",
       "    </tr>\n",
       "    <tr>\n",
       "      <th>2</th>\n",
       "      <td>0.702559</td>\n",
       "      <td>-0.556113</td>\n",
       "      <td>-0.006849</td>\n",
       "      <td>0.000000</td>\n",
       "    </tr>\n",
       "    <tr>\n",
       "      <th>3</th>\n",
       "      <td>0.956290</td>\n",
       "      <td>-0.806258</td>\n",
       "      <td>0.433868</td>\n",
       "      <td>0.058824</td>\n",
       "    </tr>\n",
       "    <tr>\n",
       "      <th>4</th>\n",
       "      <td>-0.576545</td>\n",
       "      <td>-0.806258</td>\n",
       "      <td>-0.962349</td>\n",
       "      <td>0.705882</td>\n",
       "    </tr>\n",
       "  </tbody>\n",
       "</table>\n",
       "</div>"
      ],
      "text/plain": [
       "   Item_Weight  Item_Visibility  Item_MRP  Outlet_Age\n",
       "0    -0.521322        -0.566751  1.171145    0.000000\n",
       "1    -1.025799        -0.518530 -1.023237   -0.588235\n",
       "2     0.702559        -0.556113 -0.006849    0.000000\n",
       "3     0.956290        -0.806258  0.433868    0.058824\n",
       "4    -0.576545        -0.806258 -0.962349    0.705882"
      ]
     },
     "execution_count": 64,
     "metadata": {},
     "output_type": "execute_result"
    }
   ],
   "source": [
    "numcols_robust.head()"
   ]
  },
  {
   "cell_type": "code",
   "execution_count": 65,
   "id": "13053f31",
   "metadata": {},
   "outputs": [
    {
     "data": {
      "text/html": [
       "<div>\n",
       "<style scoped>\n",
       "    .dataframe tbody tr th:only-of-type {\n",
       "        vertical-align: middle;\n",
       "    }\n",
       "\n",
       "    .dataframe tbody tr th {\n",
       "        vertical-align: top;\n",
       "    }\n",
       "\n",
       "    .dataframe thead th {\n",
       "        text-align: right;\n",
       "    }\n",
       "</style>\n",
       "<table border=\"1\" class=\"dataframe\">\n",
       "  <thead>\n",
       "    <tr style=\"text-align: right;\">\n",
       "      <th></th>\n",
       "      <th>Item_Fat_Content</th>\n",
       "      <th>Item_Type</th>\n",
       "      <th>Outlet_Identifier</th>\n",
       "      <th>Outlet_Size</th>\n",
       "      <th>Outlet_Location_Type</th>\n",
       "      <th>Outlet_Type</th>\n",
       "      <th>Iteam_code</th>\n",
       "    </tr>\n",
       "  </thead>\n",
       "  <tbody>\n",
       "    <tr>\n",
       "      <th>0</th>\n",
       "      <td>Low Fat</td>\n",
       "      <td>Dairy</td>\n",
       "      <td>OUT049</td>\n",
       "      <td>Medium</td>\n",
       "      <td>Tier 1</td>\n",
       "      <td>Supermarket Type1</td>\n",
       "      <td>FD</td>\n",
       "    </tr>\n",
       "    <tr>\n",
       "      <th>1</th>\n",
       "      <td>Regular</td>\n",
       "      <td>Soft Drinks</td>\n",
       "      <td>OUT018</td>\n",
       "      <td>Medium</td>\n",
       "      <td>Tier 3</td>\n",
       "      <td>Supermarket Type2</td>\n",
       "      <td>DR</td>\n",
       "    </tr>\n",
       "    <tr>\n",
       "      <th>2</th>\n",
       "      <td>Low Fat</td>\n",
       "      <td>Meat</td>\n",
       "      <td>OUT049</td>\n",
       "      <td>Medium</td>\n",
       "      <td>Tier 1</td>\n",
       "      <td>Supermarket Type1</td>\n",
       "      <td>FD</td>\n",
       "    </tr>\n",
       "    <tr>\n",
       "      <th>3</th>\n",
       "      <td>Regular</td>\n",
       "      <td>Fruits and Vegetables</td>\n",
       "      <td>OUT010</td>\n",
       "      <td>Missing</td>\n",
       "      <td>Tier 3</td>\n",
       "      <td>Grocery Store</td>\n",
       "      <td>FD</td>\n",
       "    </tr>\n",
       "    <tr>\n",
       "      <th>4</th>\n",
       "      <td>Low Fat</td>\n",
       "      <td>Household</td>\n",
       "      <td>OUT013</td>\n",
       "      <td>High</td>\n",
       "      <td>Tier 3</td>\n",
       "      <td>Supermarket Type1</td>\n",
       "      <td>NC</td>\n",
       "    </tr>\n",
       "  </tbody>\n",
       "</table>\n",
       "</div>"
      ],
      "text/plain": [
       "  Item_Fat_Content              Item_Type Outlet_Identifier Outlet_Size  \\\n",
       "0          Low Fat                  Dairy            OUT049      Medium   \n",
       "1          Regular            Soft Drinks            OUT018      Medium   \n",
       "2          Low Fat                   Meat            OUT049      Medium   \n",
       "3          Regular  Fruits and Vegetables            OUT010     Missing   \n",
       "4          Low Fat              Household            OUT013        High   \n",
       "\n",
       "  Outlet_Location_Type        Outlet_Type Iteam_code  \n",
       "0               Tier 1  Supermarket Type1         FD  \n",
       "1               Tier 3  Supermarket Type2         DR  \n",
       "2               Tier 1  Supermarket Type1         FD  \n",
       "3               Tier 3      Grocery Store         FD  \n",
       "4               Tier 3  Supermarket Type1         NC  "
      ]
     },
     "execution_count": 65,
     "metadata": {},
     "output_type": "execute_result"
    }
   ],
   "source": [
    "#Data tarnsformation for non numeric categorical variables\n",
    "objcols.head()     # object or text data\n",
    "\n",
    "# We have to encode the text as the algorithem doesnt accept the text"
   ]
  },
  {
   "cell_type": "code",
   "execution_count": 66,
   "id": "6512041e",
   "metadata": {},
   "outputs": [],
   "source": [
    "from sklearn.preprocessing import LabelEncoder"
   ]
  },
  {
   "cell_type": "code",
   "execution_count": 67,
   "id": "a3014f2e",
   "metadata": {},
   "outputs": [],
   "source": [
    "le=LabelEncoder"
   ]
  },
  {
   "cell_type": "code",
   "execution_count": 68,
   "id": "8db164e7",
   "metadata": {},
   "outputs": [
    {
     "ename": "NameError",
     "evalue": "name 'x' is not defined",
     "output_type": "error",
     "traceback": [
      "\u001b[1;31m---------------------------------------------------------------------------\u001b[0m",
      "\u001b[1;31mNameError\u001b[0m                                 Traceback (most recent call last)",
      "Cell \u001b[1;32mIn[68], line 1\u001b[0m\n\u001b[1;32m----> 1\u001b[0m \u001b[43mx\u001b[49m\u001b[38;5;241m.\u001b[39mhead()\n",
      "\u001b[1;31mNameError\u001b[0m: name 'x' is not defined"
     ]
    }
   ],
   "source": []
  },
  {
   "cell_type": "code",
   "execution_count": null,
   "id": "e5f542bf",
   "metadata": {},
   "outputs": [],
   "source": []
  }
 ],
 "metadata": {
  "kernelspec": {
   "display_name": "Python 3 (ipykernel)",
   "language": "python",
   "name": "python3"
  },
  "language_info": {
   "codemirror_mode": {
    "name": "ipython",
    "version": 3
   },
   "file_extension": ".py",
   "mimetype": "text/x-python",
   "name": "python",
   "nbconvert_exporter": "python",
   "pygments_lexer": "ipython3",
   "version": "3.9.16"
  }
 },
 "nbformat": 4,
 "nbformat_minor": 5
}
