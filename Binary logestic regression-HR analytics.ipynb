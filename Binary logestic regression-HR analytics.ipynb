{
 "cells": [
  {
   "cell_type": "code",
   "execution_count": 1,
   "id": "c3a07bf5",
   "metadata": {},
   "outputs": [],
   "source": [
    "\n",
    "# Machine Learning - Supervised Learning - Classification Algorithms\n",
    "# Classification algorithms are used when dependent variable(y) is non\n",
    "# numerical and either Binary or Multinomial(more than 2 levels/groups)\n",
    "# Classification ALgorithms - Binary Logistic Regression explains the\n",
    "# relationship between a binary(yes/no) dependent variable(y) and \n",
    "# multiple independent variables (X's).\n",
    "# Binary Logistic Regression is an equation.\n",
    "# exp^B0+B1X1+B2X2+B3X3+...........+BnXn\n",
    "# p = --------------------------------------------- or p=1/(1+exp(-Z))\n",
    "# 1+ exp^B0+B1X1+B2X2+B3X3+...........+BnXn Z=B0+B1X1+...BnXn\n",
    "# p - probability lies between 0 and 1. Classification predicted probability\n",
    "# exp - exponential or 2.7138\n",
    "# B0 - intercept or constant\n",
    "# B1,B2,B3,...Bn -Coefficients\n",
    "# X1,X2,X3,...Xn -Independent Variables\n",
    "# Classification Rule for all classification algorithms (Binary)\n",
    "# probability >=0.50 ---- 1(yes)\n",
    "# probability <0.50 ---- 0(no)\n",
    "# Assumptions\n",
    "# 1) Logical linear relationship between dependent variable and independnet\n",
    "# variables\n",
    "# 2) No Multicollinearity\n",
    "# 3) Sample Size required is minimum 50 observations per variable\n",
    "# Interpretation of Output\n",
    "# Primary metric is Accuracy which is calculated from Confusion Matrix\n",
    "# Confusion Matrix is a 2 X 2 cross tabulation of Actual Class and \n",
    "# Predicted Class.\n",
    "# Actual Positive and Predicted Positive - True Positive\n",
    "# Actual Positive and Predicted Negative - False Negative (Type II Error)\n",
    "# Actual Negative and Predicted Positive - False Positive (Type I Error)\n",
    "# Actual Negative and predicted Negative - True Negative\n",
    "# Type II Error means PAtient has Covid but RTPCR Test gave Negative result\n",
    "# Type I Error means Pateint has no covid but RTPCR Test gave Positive \n",
    "# result.\n",
    "# Python Output\n",
    "# model.score(X,y) - Accuracy which is calculated from ConfusionMatrix\n",
    "# intercept + Coefficients\n",
    "# Other metrics using Classification_report - Sensitivity, F1 Score ,\n",
    "# Precision, etc."
   ]
  },
  {
   "attachments": {
    "image.png": {
     "image/png": "[encoded data removed]"
    }
   },
   "cell_type": "markdown",
   "id": "f547b7a3",
   "metadata": {},
   "source": [
    "![image.png](attachment:image.png)"
   ]
  },
  {
   "cell_type": "code",
   "execution_count": 2,
   "id": "cc44f5c6",
   "metadata": {},
   "outputs": [],
   "source": [
    "import pandas as pd\n",
    "import numpy as np\n",
    "import matplotlib.pyplot as plt\n",
    "%matplotlib inline"
   ]
  },
  {
   "cell_type": "code",
   "execution_count": 3,
   "id": "8aaa1098",
   "metadata": {},
   "outputs": [
    {
     "name": "stdout",
     "output_type": "stream",
     "text": [
      "C:\\Users\\chkee\\Downloads\\Imarticus Learning\\Python\n"
     ]
    }
   ],
   "source": [
    "import io\n",
    "%cd \"C:\\Users\\chkee\\Downloads\\Imarticus Learning\\Python\""
   ]
  },
  {
   "cell_type": "code",
   "execution_count": 4,
   "id": "30105aed",
   "metadata": {},
   "outputs": [],
   "source": [
    "hrtrain=pd.read_csv(\"train_hranalytics.csv\")"
   ]
  },
  {
   "cell_type": "code",
   "execution_count": 5,
   "id": "b95bfea4",
   "metadata": {},
   "outputs": [],
   "source": [
    "hrtest=pd.read_csv(\"test_hranalytics.csv\")"
   ]
  },
  {
   "cell_type": "code",
   "execution_count": 6,
   "id": "1705d1fb",
   "metadata": {},
   "outputs": [
    {
     "name": "stdout",
     "output_type": "stream",
     "text": [
      "<class 'pandas.core.frame.DataFrame'>\n",
      "RangeIndex: 23490 entries, 0 to 23489\n",
      "Data columns (total 13 columns):\n",
      " #   Column                Non-Null Count  Dtype  \n",
      "---  ------                --------------  -----  \n",
      " 0   employee_id           23490 non-null  int64  \n",
      " 1   department            23490 non-null  object \n",
      " 2   region                23490 non-null  object \n",
      " 3   education             22456 non-null  object \n",
      " 4   gender                23490 non-null  object \n",
      " 5   recruitment_channel   23490 non-null  object \n",
      " 6   no_of_trainings       23490 non-null  int64  \n",
      " 7   age                   23490 non-null  int64  \n",
      " 8   previous_year_rating  21678 non-null  float64\n",
      " 9   length_of_service     23490 non-null  int64  \n",
      " 10  KPIs_met >80%         23490 non-null  int64  \n",
      " 11  awards_won?           23490 non-null  int64  \n",
      " 12  avg_training_score    23490 non-null  int64  \n",
      "dtypes: float64(1), int64(7), object(5)\n",
      "memory usage: 2.3+ MB\n"
     ]
    }
   ],
   "source": [
    "hrtest.info()"
   ]
  },
  {
   "cell_type": "code",
   "execution_count": 7,
   "id": "9349e519",
   "metadata": {},
   "outputs": [
    {
     "name": "stdout",
     "output_type": "stream",
     "text": [
      "<class 'pandas.core.frame.DataFrame'>\n",
      "RangeIndex: 54808 entries, 0 to 54807\n",
      "Data columns (total 14 columns):\n",
      " #   Column                Non-Null Count  Dtype  \n",
      "---  ------                --------------  -----  \n",
      " 0   employee_id           54808 non-null  int64  \n",
      " 1   department            54808 non-null  object \n",
      " 2   region                54808 non-null  object \n",
      " 3   education             52399 non-null  object \n",
      " 4   gender                54808 non-null  object \n",
      " 5   recruitment_channel   54808 non-null  object \n",
      " 6   no_of_trainings       54808 non-null  int64  \n",
      " 7   age                   54808 non-null  int64  \n",
      " 8   previous_year_rating  50684 non-null  float64\n",
      " 9   length_of_service     54808 non-null  int64  \n",
      " 10  KPIs_met >80%         54808 non-null  int64  \n",
      " 11  awards_won?           54808 non-null  int64  \n",
      " 12  avg_training_score    54808 non-null  int64  \n",
      " 13  is_promoted           54808 non-null  int64  \n",
      "dtypes: float64(1), int64(8), object(5)\n",
      "memory usage: 5.9+ MB\n"
     ]
    }
   ],
   "source": [
    "hrtrain.info()"
   ]
  },
  {
   "cell_type": "code",
   "execution_count": 8,
   "id": "cdf50c07",
   "metadata": {},
   "outputs": [],
   "source": [
    "# As similar variables has missing values we concatnate the data to test data\n",
    "#add dependent variable to test temporarily\n",
    "hrtest['is_promoted']='test'"
   ]
  },
  {
   "cell_type": "code",
   "execution_count": 9,
   "id": "f8a46db3",
   "metadata": {},
   "outputs": [],
   "source": [
    "combinedf=pd.concat([hrtrain,hrtest],axis=0)"
   ]
  },
  {
   "cell_type": "code",
   "execution_count": 10,
   "id": "5d7fc0bd",
   "metadata": {},
   "outputs": [],
   "source": [
    "objcols=combinedf[['department','region', 'education', 'gender',\n",
    "                   'recruitment_channel','KPIs_met >80%', 'awards_won?','is_promoted','previous_year_rating']]"
   ]
  },
  {
   "cell_type": "code",
   "execution_count": 11,
   "id": "b19bcced",
   "metadata": {},
   "outputs": [],
   "source": [
    "numcols=combinedf[['no_of_trainings', 'age','avg_training_score','length_of_service']]"
   ]
  },
  {
   "cell_type": "code",
   "execution_count": 12,
   "id": "0252f12c",
   "metadata": {},
   "outputs": [],
   "source": [
    "#concat both dataframes\n",
    "combinedf=pd.concat([hrtrain,hrtest],axis=0)"
   ]
  },
  {
   "cell_type": "code",
   "execution_count": 13,
   "id": "afe5ebf9",
   "metadata": {},
   "outputs": [
    {
     "data": {
      "text/plain": [
       "Bachelor's          52247\n",
       "Master's & above    21429\n",
       "NaN                  3443\n",
       "Below Secondary      1179\n",
       "Name: education, dtype: int64"
      ]
     },
     "execution_count": 13,
     "metadata": {},
     "output_type": "execute_result"
    }
   ],
   "source": [
    "# education and previous year rating has missing values\n",
    "combinedf.education.value_counts(dropna=False)"
   ]
  },
  {
   "cell_type": "code",
   "execution_count": 14,
   "id": "680b3d6a",
   "metadata": {},
   "outputs": [
    {
     "name": "stdout",
     "output_type": "stream",
     "text": [
      "Sales & Marketing    24155\n",
      "Operations           16112\n",
      "Procurement          10158\n",
      "Technology           10149\n",
      "Analytics             7671\n",
      "Finance               3627\n",
      "HR                    3503\n",
      "Legal                 1484\n",
      "R&D                   1439\n",
      "Name: department, dtype: int64\n",
      "region_2     17642\n",
      "region_22     9167\n",
      "region_7      6825\n",
      "region_15     3938\n",
      "region_13     3815\n",
      "region_26     3271\n",
      "region_31     2779\n",
      "region_4      2478\n",
      "region_27     2369\n",
      "region_16     2055\n",
      "region_28     1913\n",
      "region_11     1886\n",
      "region_23     1691\n",
      "region_29     1408\n",
      "region_32     1378\n",
      "region_19     1284\n",
      "region_14     1177\n",
      "region_20     1176\n",
      "region_17     1157\n",
      "region_25     1156\n",
      "region_5      1108\n",
      "region_6       988\n",
      "region_30      930\n",
      "region_8       924\n",
      "region_10      917\n",
      "region_1       848\n",
      "region_24      727\n",
      "region_12      715\n",
      "region_9       600\n",
      "region_21      590\n",
      "region_3       493\n",
      "region_34      447\n",
      "region_33      395\n",
      "region_18       51\n",
      "Name: region, dtype: int64\n",
      "Bachelor's          52247\n",
      "Master's & above    21429\n",
      "NaN                  3443\n",
      "Below Secondary      1179\n",
      "Name: education, dtype: int64\n",
      "m    55092\n",
      "f    23206\n",
      "Name: gender, dtype: int64\n",
      "other       43524\n",
      "sourcing    33181\n",
      "referred     1593\n",
      "Name: recruitment_channel, dtype: int64\n",
      "0    50578\n",
      "1    27720\n",
      "Name: KPIs_met >80%, dtype: int64\n",
      "0    76493\n",
      "1     1805\n",
      "Name: awards_won?, dtype: int64\n",
      "0       50140\n",
      "test    23490\n",
      "1        4668\n",
      "Name: is_promoted, dtype: int64\n",
      "3.0    26539\n",
      "5.0    16838\n",
      "4.0    14126\n",
      "1.0     8903\n",
      "2.0     5956\n",
      "NaN     5936\n",
      "Name: previous_year_rating, dtype: int64\n"
     ]
    }
   ],
   "source": [
    "# gives the count of all the columns in descending order in order to understand the most frequent value\n",
    "for i in objcols.columns:\n",
    "    freq=objcols[i].value_counts(dropna =False)\n",
    "    print(freq)"
   ]
  },
  {
   "cell_type": "code",
   "execution_count": 15,
   "id": "d3675ea9",
   "metadata": {},
   "outputs": [],
   "source": [
    "#most_frequent imputation\n",
    "# all the nan are replaced with most frequent values\n",
    "for i in objcols.columns:\n",
    "    objcols[i]=objcols[i].fillna(objcols[i].value_counts().idxmax())\n",
    "    \n",
    "#idxmax-index maximum-its the index corresponding to max frequency or most frequent.\n",
    "#it imputes the most repeated value in nan position"
   ]
  },
  {
   "cell_type": "code",
   "execution_count": 16,
   "id": "995e04bc",
   "metadata": {},
   "outputs": [
    {
     "data": {
      "text/plain": [
       "Index(['department', 'region', 'education', 'gender', 'recruitment_channel',\n",
       "       'KPIs_met >80%', 'awards_won?', 'is_promoted', 'previous_year_rating'],\n",
       "      dtype='object')"
      ]
     },
     "execution_count": 16,
     "metadata": {},
     "output_type": "execute_result"
    }
   ],
   "source": [
    "objcols.columns"
   ]
  },
  {
   "cell_type": "code",
   "execution_count": 17,
   "id": "1af9d94d",
   "metadata": {},
   "outputs": [],
   "source": [
    "#Encoding-label and getdummies\n",
    "#Whenerver there is regression data we do  getdummies encoding\n",
    "#dummy encoding only on independent variables(x)\n",
    "#Label encoding is done only on dependent variable(Y) in classification only\n",
    "\n",
    "objcols_dummy=pd.get_dummies(objcols,columns=['department', 'region', 'education', 'gender', 'recruitment_channel',\n",
    "       'KPIs_met >80%', 'awards_won?', 'previous_year_rating'])"
   ]
  },
  {
   "cell_type": "code",
   "execution_count": 18,
   "id": "0e73c737",
   "metadata": {},
   "outputs": [
    {
     "data": {
      "text/plain": [
       "(78298, 61)"
      ]
     },
     "execution_count": 18,
     "metadata": {},
     "output_type": "execute_result"
    }
   ],
   "source": [
    "objcols_dummy.shape"
   ]
  },
  {
   "cell_type": "code",
   "execution_count": 19,
   "id": "99d6c9b3",
   "metadata": {},
   "outputs": [
    {
     "data": {
      "text/html": [
       "<div>\n",
       "<style scoped>\n",
       "    .dataframe tbody tr th:only-of-type {\n",
       "        vertical-align: middle;\n",
       "    }\n",
       "\n",
       "    .dataframe tbody tr th {\n",
       "        vertical-align: top;\n",
       "    }\n",
       "\n",
       "    .dataframe thead th {\n",
       "        text-align: right;\n",
       "    }\n",
       "</style>\n",
       "<table border=\"1\" class=\"dataframe\">\n",
       "  <thead>\n",
       "    <tr style=\"text-align: right;\">\n",
       "      <th></th>\n",
       "      <th>is_promoted</th>\n",
       "      <th>department_Analytics</th>\n",
       "      <th>department_Finance</th>\n",
       "      <th>department_HR</th>\n",
       "      <th>department_Legal</th>\n",
       "      <th>department_Operations</th>\n",
       "      <th>department_Procurement</th>\n",
       "      <th>department_R&amp;D</th>\n",
       "      <th>department_Sales &amp; Marketing</th>\n",
       "      <th>department_Technology</th>\n",
       "      <th>...</th>\n",
       "      <th>recruitment_channel_sourcing</th>\n",
       "      <th>KPIs_met &gt;80%_0</th>\n",
       "      <th>KPIs_met &gt;80%_1</th>\n",
       "      <th>awards_won?_0</th>\n",
       "      <th>awards_won?_1</th>\n",
       "      <th>previous_year_rating_1.0</th>\n",
       "      <th>previous_year_rating_2.0</th>\n",
       "      <th>previous_year_rating_3.0</th>\n",
       "      <th>previous_year_rating_4.0</th>\n",
       "      <th>previous_year_rating_5.0</th>\n",
       "    </tr>\n",
       "  </thead>\n",
       "  <tbody>\n",
       "    <tr>\n",
       "      <th>0</th>\n",
       "      <td>0</td>\n",
       "      <td>0</td>\n",
       "      <td>0</td>\n",
       "      <td>0</td>\n",
       "      <td>0</td>\n",
       "      <td>0</td>\n",
       "      <td>0</td>\n",
       "      <td>0</td>\n",
       "      <td>1</td>\n",
       "      <td>0</td>\n",
       "      <td>...</td>\n",
       "      <td>1</td>\n",
       "      <td>0</td>\n",
       "      <td>1</td>\n",
       "      <td>1</td>\n",
       "      <td>0</td>\n",
       "      <td>0</td>\n",
       "      <td>0</td>\n",
       "      <td>0</td>\n",
       "      <td>0</td>\n",
       "      <td>1</td>\n",
       "    </tr>\n",
       "    <tr>\n",
       "      <th>1</th>\n",
       "      <td>0</td>\n",
       "      <td>0</td>\n",
       "      <td>0</td>\n",
       "      <td>0</td>\n",
       "      <td>0</td>\n",
       "      <td>1</td>\n",
       "      <td>0</td>\n",
       "      <td>0</td>\n",
       "      <td>0</td>\n",
       "      <td>0</td>\n",
       "      <td>...</td>\n",
       "      <td>0</td>\n",
       "      <td>1</td>\n",
       "      <td>0</td>\n",
       "      <td>1</td>\n",
       "      <td>0</td>\n",
       "      <td>0</td>\n",
       "      <td>0</td>\n",
       "      <td>0</td>\n",
       "      <td>0</td>\n",
       "      <td>1</td>\n",
       "    </tr>\n",
       "    <tr>\n",
       "      <th>2</th>\n",
       "      <td>0</td>\n",
       "      <td>0</td>\n",
       "      <td>0</td>\n",
       "      <td>0</td>\n",
       "      <td>0</td>\n",
       "      <td>0</td>\n",
       "      <td>0</td>\n",
       "      <td>0</td>\n",
       "      <td>1</td>\n",
       "      <td>0</td>\n",
       "      <td>...</td>\n",
       "      <td>1</td>\n",
       "      <td>1</td>\n",
       "      <td>0</td>\n",
       "      <td>1</td>\n",
       "      <td>0</td>\n",
       "      <td>0</td>\n",
       "      <td>0</td>\n",
       "      <td>1</td>\n",
       "      <td>0</td>\n",
       "      <td>0</td>\n",
       "    </tr>\n",
       "    <tr>\n",
       "      <th>3</th>\n",
       "      <td>0</td>\n",
       "      <td>0</td>\n",
       "      <td>0</td>\n",
       "      <td>0</td>\n",
       "      <td>0</td>\n",
       "      <td>0</td>\n",
       "      <td>0</td>\n",
       "      <td>0</td>\n",
       "      <td>1</td>\n",
       "      <td>0</td>\n",
       "      <td>...</td>\n",
       "      <td>0</td>\n",
       "      <td>1</td>\n",
       "      <td>0</td>\n",
       "      <td>1</td>\n",
       "      <td>0</td>\n",
       "      <td>1</td>\n",
       "      <td>0</td>\n",
       "      <td>0</td>\n",
       "      <td>0</td>\n",
       "      <td>0</td>\n",
       "    </tr>\n",
       "    <tr>\n",
       "      <th>4</th>\n",
       "      <td>0</td>\n",
       "      <td>0</td>\n",
       "      <td>0</td>\n",
       "      <td>0</td>\n",
       "      <td>0</td>\n",
       "      <td>0</td>\n",
       "      <td>0</td>\n",
       "      <td>0</td>\n",
       "      <td>0</td>\n",
       "      <td>1</td>\n",
       "      <td>...</td>\n",
       "      <td>0</td>\n",
       "      <td>1</td>\n",
       "      <td>0</td>\n",
       "      <td>1</td>\n",
       "      <td>0</td>\n",
       "      <td>0</td>\n",
       "      <td>0</td>\n",
       "      <td>1</td>\n",
       "      <td>0</td>\n",
       "      <td>0</td>\n",
       "    </tr>\n",
       "  </tbody>\n",
       "</table>\n",
       "<p>5 rows × 61 columns</p>\n",
       "</div>"
      ],
      "text/plain": [
       "  is_promoted  department_Analytics  department_Finance  department_HR  \\\n",
       "0           0                     0                   0              0   \n",
       "1           0                     0                   0              0   \n",
       "2           0                     0                   0              0   \n",
       "3           0                     0                   0              0   \n",
       "4           0                     0                   0              0   \n",
       "\n",
       "   department_Legal  department_Operations  department_Procurement  \\\n",
       "0                 0                      0                       0   \n",
       "1                 0                      1                       0   \n",
       "2                 0                      0                       0   \n",
       "3                 0                      0                       0   \n",
       "4                 0                      0                       0   \n",
       "\n",
       "   department_R&D  department_Sales & Marketing  department_Technology  ...  \\\n",
       "0               0                             1                      0  ...   \n",
       "1               0                             0                      0  ...   \n",
       "2               0                             1                      0  ...   \n",
       "3               0                             1                      0  ...   \n",
       "4               0                             0                      1  ...   \n",
       "\n",
       "   recruitment_channel_sourcing  KPIs_met >80%_0  KPIs_met >80%_1  \\\n",
       "0                             1                0                1   \n",
       "1                             0                1                0   \n",
       "2                             1                1                0   \n",
       "3                             0                1                0   \n",
       "4                             0                1                0   \n",
       "\n",
       "   awards_won?_0  awards_won?_1  previous_year_rating_1.0  \\\n",
       "0              1              0                         0   \n",
       "1              1              0                         0   \n",
       "2              1              0                         0   \n",
       "3              1              0                         1   \n",
       "4              1              0                         0   \n",
       "\n",
       "   previous_year_rating_2.0  previous_year_rating_3.0  \\\n",
       "0                         0                         0   \n",
       "1                         0                         0   \n",
       "2                         0                         1   \n",
       "3                         0                         0   \n",
       "4                         0                         1   \n",
       "\n",
       "   previous_year_rating_4.0  previous_year_rating_5.0  \n",
       "0                         0                         1  \n",
       "1                         0                         1  \n",
       "2                         0                         0  \n",
       "3                         0                         0  \n",
       "4                         0                         0  \n",
       "\n",
       "[5 rows x 61 columns]"
      ]
     },
     "execution_count": 19,
     "metadata": {},
     "output_type": "execute_result"
    }
   ],
   "source": [
    "objcols_dummy.head()"
   ]
  },
  {
   "cell_type": "code",
   "execution_count": 20,
   "id": "33fe08f4",
   "metadata": {},
   "outputs": [],
   "source": [
    "#combine both dataframes-column concatination\n",
    "combinedf_clean=pd.concat([numcols,objcols_dummy],axis=1)"
   ]
  },
  {
   "cell_type": "code",
   "execution_count": 21,
   "id": "c85450c3",
   "metadata": {},
   "outputs": [
    {
     "data": {
      "text/html": [
       "<div>\n",
       "<style scoped>\n",
       "    .dataframe tbody tr th:only-of-type {\n",
       "        vertical-align: middle;\n",
       "    }\n",
       "\n",
       "    .dataframe tbody tr th {\n",
       "        vertical-align: top;\n",
       "    }\n",
       "\n",
       "    .dataframe thead th {\n",
       "        text-align: right;\n",
       "    }\n",
       "</style>\n",
       "<table border=\"1\" class=\"dataframe\">\n",
       "  <thead>\n",
       "    <tr style=\"text-align: right;\">\n",
       "      <th></th>\n",
       "      <th>no_of_trainings</th>\n",
       "      <th>age</th>\n",
       "      <th>avg_training_score</th>\n",
       "      <th>length_of_service</th>\n",
       "      <th>is_promoted</th>\n",
       "      <th>department_Analytics</th>\n",
       "      <th>department_Finance</th>\n",
       "      <th>department_HR</th>\n",
       "      <th>department_Legal</th>\n",
       "      <th>department_Operations</th>\n",
       "      <th>...</th>\n",
       "      <th>recruitment_channel_sourcing</th>\n",
       "      <th>KPIs_met &gt;80%_0</th>\n",
       "      <th>KPIs_met &gt;80%_1</th>\n",
       "      <th>awards_won?_0</th>\n",
       "      <th>awards_won?_1</th>\n",
       "      <th>previous_year_rating_1.0</th>\n",
       "      <th>previous_year_rating_2.0</th>\n",
       "      <th>previous_year_rating_3.0</th>\n",
       "      <th>previous_year_rating_4.0</th>\n",
       "      <th>previous_year_rating_5.0</th>\n",
       "    </tr>\n",
       "  </thead>\n",
       "  <tbody>\n",
       "    <tr>\n",
       "      <th>0</th>\n",
       "      <td>1</td>\n",
       "      <td>35</td>\n",
       "      <td>49</td>\n",
       "      <td>8</td>\n",
       "      <td>0</td>\n",
       "      <td>0</td>\n",
       "      <td>0</td>\n",
       "      <td>0</td>\n",
       "      <td>0</td>\n",
       "      <td>0</td>\n",
       "      <td>...</td>\n",
       "      <td>1</td>\n",
       "      <td>0</td>\n",
       "      <td>1</td>\n",
       "      <td>1</td>\n",
       "      <td>0</td>\n",
       "      <td>0</td>\n",
       "      <td>0</td>\n",
       "      <td>0</td>\n",
       "      <td>0</td>\n",
       "      <td>1</td>\n",
       "    </tr>\n",
       "    <tr>\n",
       "      <th>1</th>\n",
       "      <td>1</td>\n",
       "      <td>30</td>\n",
       "      <td>60</td>\n",
       "      <td>4</td>\n",
       "      <td>0</td>\n",
       "      <td>0</td>\n",
       "      <td>0</td>\n",
       "      <td>0</td>\n",
       "      <td>0</td>\n",
       "      <td>1</td>\n",
       "      <td>...</td>\n",
       "      <td>0</td>\n",
       "      <td>1</td>\n",
       "      <td>0</td>\n",
       "      <td>1</td>\n",
       "      <td>0</td>\n",
       "      <td>0</td>\n",
       "      <td>0</td>\n",
       "      <td>0</td>\n",
       "      <td>0</td>\n",
       "      <td>1</td>\n",
       "    </tr>\n",
       "    <tr>\n",
       "      <th>2</th>\n",
       "      <td>1</td>\n",
       "      <td>34</td>\n",
       "      <td>50</td>\n",
       "      <td>7</td>\n",
       "      <td>0</td>\n",
       "      <td>0</td>\n",
       "      <td>0</td>\n",
       "      <td>0</td>\n",
       "      <td>0</td>\n",
       "      <td>0</td>\n",
       "      <td>...</td>\n",
       "      <td>1</td>\n",
       "      <td>1</td>\n",
       "      <td>0</td>\n",
       "      <td>1</td>\n",
       "      <td>0</td>\n",
       "      <td>0</td>\n",
       "      <td>0</td>\n",
       "      <td>1</td>\n",
       "      <td>0</td>\n",
       "      <td>0</td>\n",
       "    </tr>\n",
       "    <tr>\n",
       "      <th>3</th>\n",
       "      <td>2</td>\n",
       "      <td>39</td>\n",
       "      <td>50</td>\n",
       "      <td>10</td>\n",
       "      <td>0</td>\n",
       "      <td>0</td>\n",
       "      <td>0</td>\n",
       "      <td>0</td>\n",
       "      <td>0</td>\n",
       "      <td>0</td>\n",
       "      <td>...</td>\n",
       "      <td>0</td>\n",
       "      <td>1</td>\n",
       "      <td>0</td>\n",
       "      <td>1</td>\n",
       "      <td>0</td>\n",
       "      <td>1</td>\n",
       "      <td>0</td>\n",
       "      <td>0</td>\n",
       "      <td>0</td>\n",
       "      <td>0</td>\n",
       "    </tr>\n",
       "    <tr>\n",
       "      <th>4</th>\n",
       "      <td>1</td>\n",
       "      <td>45</td>\n",
       "      <td>73</td>\n",
       "      <td>2</td>\n",
       "      <td>0</td>\n",
       "      <td>0</td>\n",
       "      <td>0</td>\n",
       "      <td>0</td>\n",
       "      <td>0</td>\n",
       "      <td>0</td>\n",
       "      <td>...</td>\n",
       "      <td>0</td>\n",
       "      <td>1</td>\n",
       "      <td>0</td>\n",
       "      <td>1</td>\n",
       "      <td>0</td>\n",
       "      <td>0</td>\n",
       "      <td>0</td>\n",
       "      <td>1</td>\n",
       "      <td>0</td>\n",
       "      <td>0</td>\n",
       "    </tr>\n",
       "  </tbody>\n",
       "</table>\n",
       "<p>5 rows × 65 columns</p>\n",
       "</div>"
      ],
      "text/plain": [
       "   no_of_trainings  age  avg_training_score  length_of_service is_promoted  \\\n",
       "0                1   35                  49                  8           0   \n",
       "1                1   30                  60                  4           0   \n",
       "2                1   34                  50                  7           0   \n",
       "3                2   39                  50                 10           0   \n",
       "4                1   45                  73                  2           0   \n",
       "\n",
       "   department_Analytics  department_Finance  department_HR  department_Legal  \\\n",
       "0                     0                   0              0                 0   \n",
       "1                     0                   0              0                 0   \n",
       "2                     0                   0              0                 0   \n",
       "3                     0                   0              0                 0   \n",
       "4                     0                   0              0                 0   \n",
       "\n",
       "   department_Operations  ...  recruitment_channel_sourcing  KPIs_met >80%_0  \\\n",
       "0                      0  ...                             1                0   \n",
       "1                      1  ...                             0                1   \n",
       "2                      0  ...                             1                1   \n",
       "3                      0  ...                             0                1   \n",
       "4                      0  ...                             0                1   \n",
       "\n",
       "   KPIs_met >80%_1  awards_won?_0  awards_won?_1  previous_year_rating_1.0  \\\n",
       "0                1              1              0                         0   \n",
       "1                0              1              0                         0   \n",
       "2                0              1              0                         0   \n",
       "3                0              1              0                         1   \n",
       "4                0              1              0                         0   \n",
       "\n",
       "   previous_year_rating_2.0  previous_year_rating_3.0  \\\n",
       "0                         0                         0   \n",
       "1                         0                         0   \n",
       "2                         0                         1   \n",
       "3                         0                         0   \n",
       "4                         0                         1   \n",
       "\n",
       "   previous_year_rating_4.0  previous_year_rating_5.0  \n",
       "0                         0                         1  \n",
       "1                         0                         1  \n",
       "2                         0                         0  \n",
       "3                         0                         0  \n",
       "4                         0                         0  \n",
       "\n",
       "[5 rows x 65 columns]"
      ]
     },
     "execution_count": 21,
     "metadata": {},
     "output_type": "execute_result"
    }
   ],
   "source": [
    "combinedf_clean.head()"
   ]
  },
  {
   "cell_type": "code",
   "execution_count": 22,
   "id": "1bbf80b9",
   "metadata": {},
   "outputs": [],
   "source": [
    "hrtrain_df=combinedf_clean[combinedf_clean.is_promoted!='test']\n",
    "hrtest_df=combinedf_clean[combinedf_clean.is_promoted=='test']"
   ]
  },
  {
   "cell_type": "code",
   "execution_count": 23,
   "id": "9e005a05",
   "metadata": {},
   "outputs": [],
   "source": [
    "hrtest_df=hrtest_df.drop('is_promoted',axis=1)"
   ]
  },
  {
   "cell_type": "code",
   "execution_count": 24,
   "id": "9d6fcf0b",
   "metadata": {},
   "outputs": [],
   "source": [
    "# to check excel output\n",
    "X=hrtrain_df[['no_of_trainings', 'age','avg_training_score','length_of_service']]\n",
    "y=hrtrain_df.is_promoted"
   ]
  },
  {
   "cell_type": "code",
   "execution_count": 25,
   "id": "e53139a4",
   "metadata": {},
   "outputs": [],
   "source": [
    "from sklearn.preprocessing import LabelEncoder"
   ]
  },
  {
   "cell_type": "code",
   "execution_count": 26,
   "id": "a69eb5c7",
   "metadata": {},
   "outputs": [],
   "source": [
    "le=LabelEncoder()"
   ]
  },
  {
   "cell_type": "code",
   "execution_count": 27,
   "id": "e456ff90",
   "metadata": {},
   "outputs": [],
   "source": [
    "y=le.fit_transform(y)"
   ]
  },
  {
   "cell_type": "code",
   "execution_count": 28,
   "id": "7bc1d1e0",
   "metadata": {},
   "outputs": [],
   "source": [
    "from sklearn.linear_model import LogisticRegression"
   ]
  },
  {
   "cell_type": "code",
   "execution_count": 29,
   "id": "be87af24",
   "metadata": {},
   "outputs": [],
   "source": [
    "logit=LogisticRegression()"
   ]
  },
  {
   "cell_type": "code",
   "execution_count": 30,
   "id": "dd3d67c2",
   "metadata": {},
   "outputs": [],
   "source": [
    "logitmodel=logit.fit(X,y)"
   ]
  },
  {
   "cell_type": "code",
   "execution_count": 31,
   "id": "600261b2",
   "metadata": {},
   "outputs": [
    {
     "data": {
      "text/plain": [
       "0.9148299518318493"
      ]
     },
     "execution_count": 31,
     "metadata": {},
     "output_type": "execute_result"
    }
   ],
   "source": [
    "logitmodel.score(X,y)  #Accuracy from confusion matrix"
   ]
  },
  {
   "cell_type": "code",
   "execution_count": 32,
   "id": "0ce58b3e",
   "metadata": {},
   "outputs": [
    {
     "data": {
      "text/plain": [
       "array([-5.06231887])"
      ]
     },
     "execution_count": 32,
     "metadata": {},
     "output_type": "execute_result"
    }
   ],
   "source": [
    "logitmodel.intercept_"
   ]
  },
  {
   "cell_type": "code",
   "execution_count": 33,
   "id": "55278a9b",
   "metadata": {},
   "outputs": [
    {
     "data": {
      "text/html": [
       "<div>\n",
       "<style scoped>\n",
       "    .dataframe tbody tr th:only-of-type {\n",
       "        vertical-align: middle;\n",
       "    }\n",
       "\n",
       "    .dataframe tbody tr th {\n",
       "        vertical-align: top;\n",
       "    }\n",
       "\n",
       "    .dataframe thead th {\n",
       "        text-align: right;\n",
       "    }\n",
       "</style>\n",
       "<table border=\"1\" class=\"dataframe\">\n",
       "  <thead>\n",
       "    <tr style=\"text-align: right;\">\n",
       "      <th></th>\n",
       "      <th>no_of_trainings</th>\n",
       "      <th>age</th>\n",
       "      <th>avg_training_score</th>\n",
       "      <th>length_of_service</th>\n",
       "    </tr>\n",
       "  </thead>\n",
       "  <tbody>\n",
       "    <tr>\n",
       "      <th>0</th>\n",
       "      <td>-0.244386</td>\n",
       "      <td>-0.005327</td>\n",
       "      <td>0.047163</td>\n",
       "      <td>0.002718</td>\n",
       "    </tr>\n",
       "  </tbody>\n",
       "</table>\n",
       "</div>"
      ],
      "text/plain": [
       "   no_of_trainings       age  avg_training_score  length_of_service\n",
       "0        -0.244386 -0.005327            0.047163           0.002718"
      ]
     },
     "execution_count": 33,
     "metadata": {},
     "output_type": "execute_result"
    }
   ],
   "source": [
    "pd.DataFrame(logitmodel.coef_,columns=X.columns)"
   ]
  },
  {
   "cell_type": "code",
   "execution_count": 34,
   "id": "11b7b312",
   "metadata": {},
   "outputs": [],
   "source": [
    "logit_predict=logitmodel.predict(X)"
   ]
  },
  {
   "cell_type": "code",
   "execution_count": 35,
   "id": "6eb52526",
   "metadata": {},
   "outputs": [
    {
     "data": {
      "text/html": [
       "<div>\n",
       "<style scoped>\n",
       "    .dataframe tbody tr th:only-of-type {\n",
       "        vertical-align: middle;\n",
       "    }\n",
       "\n",
       "    .dataframe tbody tr th {\n",
       "        vertical-align: top;\n",
       "    }\n",
       "\n",
       "    .dataframe thead th {\n",
       "        text-align: right;\n",
       "    }\n",
       "</style>\n",
       "<table border=\"1\" class=\"dataframe\">\n",
       "  <thead>\n",
       "    <tr style=\"text-align: right;\">\n",
       "      <th>col_0</th>\n",
       "      <th>0</th>\n",
       "    </tr>\n",
       "    <tr>\n",
       "      <th>row_0</th>\n",
       "      <th></th>\n",
       "    </tr>\n",
       "  </thead>\n",
       "  <tbody>\n",
       "    <tr>\n",
       "      <th>0</th>\n",
       "      <td>50140</td>\n",
       "    </tr>\n",
       "    <tr>\n",
       "      <th>1</th>\n",
       "      <td>4668</td>\n",
       "    </tr>\n",
       "  </tbody>\n",
       "</table>\n",
       "</div>"
      ],
      "text/plain": [
       "col_0      0\n",
       "row_0       \n",
       "0      50140\n",
       "1       4668"
      ]
     },
     "execution_count": 35,
     "metadata": {},
     "output_type": "execute_result"
    }
   ],
   "source": [
    "pd.crosstab(y,logit_predict)  #confusion matrix"
   ]
  },
  {
   "cell_type": "code",
   "execution_count": 36,
   "id": "949ed1b9",
   "metadata": {},
   "outputs": [],
   "source": [
    "X=hrtrain_df.drop('is_promoted',axis=1)"
   ]
  },
  {
   "cell_type": "code",
   "execution_count": 37,
   "id": "19e775f7",
   "metadata": {},
   "outputs": [],
   "source": [
    "#convergence warning- is that all the coefficients are not calculated in the equation\n",
    "#Solution-increase the iterations or scale the independent variables\n",
    "logit=LogisticRegression(max_iter=2000)"
   ]
  },
  {
   "cell_type": "code",
   "execution_count": 38,
   "id": "1e1f8748",
   "metadata": {},
   "outputs": [],
   "source": [
    "logitmodel=logit.fit(X,y)"
   ]
  },
  {
   "cell_type": "code",
   "execution_count": 39,
   "id": "01d9602f",
   "metadata": {},
   "outputs": [
    {
     "data": {
      "text/plain": [
       "0.9317982776237046"
      ]
     },
     "execution_count": 39,
     "metadata": {},
     "output_type": "execute_result"
    }
   ],
   "source": [
    "logitmodel.score(X,y)  #Accuracy from confusion matrix"
   ]
  },
  {
   "cell_type": "code",
   "execution_count": 40,
   "id": "1c5fd62f",
   "metadata": {},
   "outputs": [],
   "source": [
    "logitpredict=logitmodel.predict(X)"
   ]
  },
  {
   "cell_type": "code",
   "execution_count": 41,
   "id": "40f6940a",
   "metadata": {},
   "outputs": [
    {
     "data": {
      "text/html": [
       "<div>\n",
       "<style scoped>\n",
       "    .dataframe tbody tr th:only-of-type {\n",
       "        vertical-align: middle;\n",
       "    }\n",
       "\n",
       "    .dataframe tbody tr th {\n",
       "        vertical-align: top;\n",
       "    }\n",
       "\n",
       "    .dataframe thead th {\n",
       "        text-align: right;\n",
       "    }\n",
       "</style>\n",
       "<table border=\"1\" class=\"dataframe\">\n",
       "  <thead>\n",
       "    <tr style=\"text-align: right;\">\n",
       "      <th>col_0</th>\n",
       "      <th>0</th>\n",
       "      <th>1</th>\n",
       "    </tr>\n",
       "    <tr>\n",
       "      <th>row_0</th>\n",
       "      <th></th>\n",
       "      <th></th>\n",
       "    </tr>\n",
       "  </thead>\n",
       "  <tbody>\n",
       "    <tr>\n",
       "      <th>0</th>\n",
       "      <td>49834</td>\n",
       "      <td>306</td>\n",
       "    </tr>\n",
       "    <tr>\n",
       "      <th>1</th>\n",
       "      <td>3432</td>\n",
       "      <td>1236</td>\n",
       "    </tr>\n",
       "  </tbody>\n",
       "</table>\n",
       "</div>"
      ],
      "text/plain": [
       "col_0      0     1\n",
       "row_0             \n",
       "0      49834   306\n",
       "1       3432  1236"
      ]
     },
     "execution_count": 41,
     "metadata": {},
     "output_type": "execute_result"
    }
   ],
   "source": [
    "pd.crosstab(y,logitpredict)"
   ]
  },
  {
   "cell_type": "code",
   "execution_count": 42,
   "id": "609590e6",
   "metadata": {},
   "outputs": [
    {
     "data": {
      "text/plain": [
       "0.9317982776237046"
      ]
     },
     "execution_count": 42,
     "metadata": {},
     "output_type": "execute_result"
    }
   ],
   "source": [
    "logitmodel.score(X,y)"
   ]
  },
  {
   "cell_type": "code",
   "execution_count": 43,
   "id": "8dcaf5e1",
   "metadata": {},
   "outputs": [
    {
     "data": {
      "text/plain": [
       "0.9316888045540797"
      ]
     },
     "execution_count": 43,
     "metadata": {},
     "output_type": "execute_result"
    }
   ],
   "source": [
    "(49834+1230)/(49834+306+3432+1236)  #accuracy"
   ]
  },
  {
   "cell_type": "code",
   "execution_count": 44,
   "id": "7d2f7b17",
   "metadata": {},
   "outputs": [
    {
     "data": {
      "text/plain": [
       "0.2647814910025707"
      ]
     },
     "execution_count": 44,
     "metadata": {},
     "output_type": "execute_result"
    }
   ],
   "source": [
    "#Senstivity/recall=TP/(TP+FN)\n",
    "1236/(3432+1236)"
   ]
  },
  {
   "cell_type": "code",
   "execution_count": 45,
   "id": "1f38ecea",
   "metadata": {},
   "outputs": [
    {
     "data": {
      "text/plain": [
       "0.9938970881531711"
      ]
     },
     "execution_count": 45,
     "metadata": {},
     "output_type": "execute_result"
    }
   ],
   "source": [
    "#Specifity=TN/(TN+FP)\n",
    "49834/(49834+306)"
   ]
  },
  {
   "cell_type": "code",
   "execution_count": 46,
   "id": "5292ad3b",
   "metadata": {},
   "outputs": [
    {
     "data": {
      "text/plain": [
       "0.8015564202334631"
      ]
     },
     "execution_count": 46,
     "metadata": {},
     "output_type": "execute_result"
    }
   ],
   "source": [
    "#Precision-TP/(TP+FP)\n",
    "1236/(1236+306)"
   ]
  },
  {
   "cell_type": "code",
   "execution_count": 47,
   "id": "8faa1d53",
   "metadata": {},
   "outputs": [
    {
     "data": {
      "text/plain": [
       "0.39806702615777184"
      ]
     },
     "execution_count": 47,
     "metadata": {},
     "output_type": "execute_result"
    }
   ],
   "source": [
    "#F1 SCORE=2*((Precision*recall)/(Precision+recall))\n",
    "2*((0.801556*0.264781/(0.801556+0.264781)))"
   ]
  },
  {
   "cell_type": "code",
   "execution_count": 48,
   "id": "445ccc13",
   "metadata": {},
   "outputs": [],
   "source": [
    "from sklearn.metrics import classification_report"
   ]
  },
  {
   "cell_type": "code",
   "execution_count": 49,
   "id": "cd6e9b85",
   "metadata": {},
   "outputs": [
    {
     "name": "stdout",
     "output_type": "stream",
     "text": [
      "              precision    recall  f1-score   support\n",
      "\n",
      "           0       0.94      0.99      0.96     50140\n",
      "           1       0.80      0.26      0.40      4668\n",
      "\n",
      "    accuracy                           0.93     54808\n",
      "   macro avg       0.87      0.63      0.68     54808\n",
      "weighted avg       0.92      0.93      0.92     54808\n",
      "\n"
     ]
    }
   ],
   "source": [
    "print(classification_report(y,logitpredict))\n",
    "\n",
    "# imbalace in data or imbalance in dependent variable classes\n",
    "# 0-50140 (Majoroty class)\n",
    "# 1_4668  (Minority class)\n",
    "\n",
    "# Minority class predicition is worst."
   ]
  },
  {
   "cell_type": "code",
   "execution_count": 50,
   "id": "ccbdc9bf",
   "metadata": {},
   "outputs": [],
   "source": [
    "from sklearn.tree import DecisionTreeClassifier"
   ]
  },
  {
   "cell_type": "code",
   "execution_count": 51,
   "id": "8d190f9e",
   "metadata": {},
   "outputs": [],
   "source": [
    "tree=DecisionTreeClassifier(max_depth=12)"
   ]
  },
  {
   "cell_type": "code",
   "execution_count": 52,
   "id": "ffe48571",
   "metadata": {},
   "outputs": [],
   "source": [
    "treemodel=tree.fit(X,y)"
   ]
  },
  {
   "cell_type": "code",
   "execution_count": 53,
   "id": "c647e75d",
   "metadata": {},
   "outputs": [
    {
     "data": {
      "text/plain": [
       "0.9448620639322727"
      ]
     },
     "execution_count": 53,
     "metadata": {},
     "output_type": "execute_result"
    }
   ],
   "source": [
    "treemodel.score(X,y)  #overfitting value is near to 1"
   ]
  },
  {
   "cell_type": "code",
   "execution_count": 66,
   "id": "f3d69066",
   "metadata": {},
   "outputs": [],
   "source": [
    "tree_predict=treemodel.predict(X)"
   ]
  },
  {
   "cell_type": "code",
   "execution_count": 54,
   "id": "2536cb0e",
   "metadata": {},
   "outputs": [],
   "source": [
    "tree_test_pred=treemodel.predict(hrtest_df)"
   ]
  },
  {
   "cell_type": "code",
   "execution_count": 55,
   "id": "a4d3ffe2",
   "metadata": {},
   "outputs": [],
   "source": [
    "pd.DataFrame(tree_test_pred).to_csv(\"hr.csv\")"
   ]
  },
  {
   "cell_type": "code",
   "execution_count": 67,
   "id": "a056731a",
   "metadata": {},
   "outputs": [
    {
     "name": "stdout",
     "output_type": "stream",
     "text": [
      "              precision    recall  f1-score   support\n",
      "\n",
      "           0       0.94      1.00      0.97     50140\n",
      "           1       0.98      0.36      0.53      4668\n",
      "\n",
      "    accuracy                           0.94     54808\n",
      "   macro avg       0.96      0.68      0.75     54808\n",
      "weighted avg       0.95      0.94      0.93     54808\n",
      "\n"
     ]
    }
   ],
   "source": [
    "print(classification_report(y,tree_predict))"
   ]
  },
  {
   "cell_type": "code",
   "execution_count": 56,
   "id": "7dccd7db",
   "metadata": {},
   "outputs": [],
   "source": [
    "#RANDOM FOREST REGRESSION"
   ]
  },
  {
   "cell_type": "code",
   "execution_count": 57,
   "id": "daca416b",
   "metadata": {},
   "outputs": [],
   "source": [
    "from sklearn.ensemble import RandomForestClassifier"
   ]
  },
  {
   "cell_type": "code",
   "execution_count": 58,
   "id": "433b1814",
   "metadata": {},
   "outputs": [],
   "source": [
    "rf=RandomForestClassifier()"
   ]
  },
  {
   "cell_type": "code",
   "execution_count": 59,
   "id": "60b85ec2",
   "metadata": {},
   "outputs": [],
   "source": [
    "rfmodel=rf.fit(X,y)"
   ]
  },
  {
   "cell_type": "code",
   "execution_count": 60,
   "id": "a3329fd7",
   "metadata": {},
   "outputs": [
    {
     "data": {
      "text/plain": [
       "0.9997080718143336"
      ]
     },
     "execution_count": 60,
     "metadata": {},
     "output_type": "execute_result"
    }
   ],
   "source": [
    "rfmodel.score(X,y)"
   ]
  },
  {
   "cell_type": "code",
   "execution_count": 69,
   "id": "2698a2e7",
   "metadata": {},
   "outputs": [],
   "source": [
    "rf_predict=rfmodel.predict(X)"
   ]
  },
  {
   "cell_type": "code",
   "execution_count": 70,
   "id": "7a154628",
   "metadata": {},
   "outputs": [
    {
     "name": "stdout",
     "output_type": "stream",
     "text": [
      "              precision    recall  f1-score   support\n",
      "\n",
      "           0       1.00      1.00      1.00     50140\n",
      "           1       1.00      1.00      1.00      4668\n",
      "\n",
      "    accuracy                           1.00     54808\n",
      "   macro avg       1.00      1.00      1.00     54808\n",
      "weighted avg       1.00      1.00      1.00     54808\n",
      "\n"
     ]
    }
   ],
   "source": [
    "print(classification_report(y,rf_predict))"
   ]
  },
  {
   "cell_type": "code",
   "execution_count": null,
   "id": "19ad889e",
   "metadata": {},
   "outputs": [],
   "source": []
  },
  {
   "cell_type": "code",
   "execution_count": null,
   "id": "728d0ea4",
   "metadata": {},
   "outputs": [],
   "source": [
    "rf_test_predict=rfmodel.predict(hrtest_df)"
   ]
  },
  {
   "cell_type": "code",
   "execution_count": null,
   "id": "7bf9e434",
   "metadata": {},
   "outputs": [],
   "source": [
    "pd.DataFrame(rf_test_predict).to_csv('randomforesthr.csv')"
   ]
  },
  {
   "cell_type": "code",
   "execution_count": null,
   "id": "746672c2",
   "metadata": {},
   "outputs": [],
   "source": [
    "from sklearn.ensemble import GradientBoostingClassifier"
   ]
  },
  {
   "cell_type": "code",
   "execution_count": null,
   "id": "182e5f48",
   "metadata": {},
   "outputs": [],
   "source": [
    "gbm=GradientBoostingClassifier()"
   ]
  },
  {
   "cell_type": "code",
   "execution_count": null,
   "id": "0e7a4206",
   "metadata": {},
   "outputs": [],
   "source": [
    "gbm_model=gbm.fit(X,y)"
   ]
  },
  {
   "cell_type": "code",
   "execution_count": null,
   "id": "cc4d6cd4",
   "metadata": {},
   "outputs": [],
   "source": [
    "gbm_model.score(X,y)"
   ]
  },
  {
   "cell_type": "code",
   "execution_count": null,
   "id": "df61a5d9",
   "metadata": {},
   "outputs": [],
   "source": [
    "cross_val_score(gbm,X,y)"
   ]
  },
  {
   "cell_type": "code",
   "execution_count": null,
   "id": "07a846e0",
   "metadata": {},
   "outputs": [],
   "source": [
    "np.mean([0.93942711, 0.93814997, 0.94006568, 0.94124624, 0.93951282])"
   ]
  },
  {
   "cell_type": "code",
   "execution_count": null,
   "id": "d10c389a",
   "metadata": {},
   "outputs": [],
   "source": [
    "gbm_test_predict=gbm_model.predict(hrtest_df)"
   ]
  },
  {
   "cell_type": "code",
   "execution_count": null,
   "id": "a1b9da38",
   "metadata": {},
   "outputs": [],
   "source": [
    "pd.DataFrame(gbm_test_predict).to_csv('gbm.csv')"
   ]
  },
  {
   "cell_type": "code",
   "execution_count": null,
   "id": "5c808d3b",
   "metadata": {},
   "outputs": [],
   "source": [
    "from sklearn.naive_bayes import CategoricalNB"
   ]
  },
  {
   "cell_type": "code",
   "execution_count": null,
   "id": "9346032f",
   "metadata": {},
   "outputs": [],
   "source": [
    "nb=CategoricalNB()"
   ]
  },
  {
   "cell_type": "code",
   "execution_count": null,
   "id": "06321795",
   "metadata": {},
   "outputs": [],
   "source": [
    "nb_model=nb.fit(X,y)"
   ]
  },
  {
   "cell_type": "code",
   "execution_count": null,
   "id": "b7f7296a",
   "metadata": {},
   "outputs": [],
   "source": [
    "nb_model.score(X,y)"
   ]
  },
  {
   "cell_type": "code",
   "execution_count": null,
   "id": "4cf8e31c",
   "metadata": {},
   "outputs": [],
   "source": [
    "nb_test_predict=nb_model.predict(hrtest_df)"
   ]
  },
  {
   "cell_type": "code",
   "execution_count": null,
   "id": "51031fd8",
   "metadata": {},
   "outputs": [],
   "source": [
    "pd.DataFrame(nb_test_predict).to_csv('nb.csv')"
   ]
  },
  {
   "cell_type": "code",
   "execution_count": null,
   "id": "523b701c",
   "metadata": {},
   "outputs": [],
   "source": []
  }
 ],
 "metadata": {
  "kernelspec": {
   "display_name": "Python 3 (ipykernel)",
   "language": "python",
   "name": "python3"
  },
  "language_info": {
   "codemirror_mode": {
    "name": "ipython",
    "version": 3
   },
   "file_extension": ".py",
   "mimetype": "text/x-python",
   "name": "python",
   "nbconvert_exporter": "python",
   "pygments_lexer": "ipython3",
   "version": "3.9.16"
  }
 },
 "nbformat": 4,
 "nbformat_minor": 5
}
