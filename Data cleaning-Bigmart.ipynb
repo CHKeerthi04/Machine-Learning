{
 "cells": [
  {
   "cell_type": "code",
   "execution_count": 3,
   "id": "795570d9",
   "metadata": {},
   "outputs": [],
   "source": [
    "#DATA PREPROCESSING(Data cleaning)\n",
    "# Is the most critical task.95% of the time is spent on cleaning\n",
    "#MULTIVARIATE DATA\n",
    "#Both numeric and non-numeric data\n",
    "\n",
    "#Steps\n",
    "#1) check for null columns or variables by doing info()-delete those variables\n",
    "\n",
    "#2) check for single value columns-whole colunm has only one value like 0's or 1's.Delete those variables\n",
    "\n",
    "#3) Missing values- occur due to errors in data collection or due to misrepresentation of data.\n",
    "#They must be imputed or treated before running the algorithm.\n",
    "#a) if the column is having more tha 70% of the missing values and if its not significant varible delete the variable\n",
    "#b)if the column is having more tha 70% of the missing values and if its significant \n",
    "# Numeric variable- impute with numeric code like 999,1111\n",
    "#Non-numeric- impute word missing or not available\n",
    "#c) if column has less than 70% missing values imputation can be done either manually or using algorithm\n",
    "\n",
    "#MANUAL IMPUTATION-Mean,median,or mode of the column\n",
    "#Numeric-impute with mean and if mean is distorted use median\n",
    "#Categoric-use mode_or more frequent data\n",
    "\n",
    "\n",
    "#ALGORTHIM BASED IMPUTATION\n",
    "#Variables on the missing value and impute accordingly.\n",
    "\n",
    "\n",
    "# Multivariate imputation based on chained Equations(MICE) \n",
    "# Impute both numerical and categorical data simultaneously-Python skilearn iterative imputer\n",
    "\n",
    "#KNN Imputer- Uses K nearest algorithm  using Euclidean distance. Imputation is based on closest neighbours.\n",
    "# KNN Imputer works only on numeric data.\n",
    "\n",
    "# PCA-probablistic principal component analysis Algorithm.\n",
    "\n",
    "#deletion of missing values can be done only is there is large data and missing values is less then 5% of the data.\n",
    "\n",
    "\n",
    "# 4) DATA TRANSFORMATION\n",
    "# Its where we resize or reshape the range to specific range of values.\n",
    "# Dependent variables (y)- is the variable which is asked to predict- Regression problem- Skewness and outliners are the biggest issues\n",
    "# Y is numerical , continuous,closer to normal distribution with minimum outliners and no missing values-Regression Models.\n",
    "# Positive skewness - Lograthmic Transformation or square root transformation\n",
    "# Negative skewness - Exponentinal transorfation or power transformation\n",
    "\n",
    "# Dependent variables (y)- is non numeric or either Binary (Yes/No) OR Multinomial(more than 2 levels)- Classification models must be used\n",
    "# Ex- Multinomial- Emotional variable- Happy,sad,very sad, neutral.\n",
    "# Imbalance data is biggest problem. Ex- Credit card default(y) -Yes(1000),No(9000). Minority class (yes) prediction will be worst.\n",
    "# Sampling like under sampling and oversampling must be impleted.\n",
    "\n",
    "\n",
    "# Independent variables(X)- Numeric variables- When variables are in different mathematical units\n",
    "# Ex- X1-Lakhs,X2-Thousands,X3-Hundreds, X4-Tens,X5-Discrete values.-Scaling of the data must be done.\n",
    "# 1) Srandard scaler or standardization- Calculate Z Score= (X-Mean)/ SD\n",
    "# Scaling will give both +ve and -Ve values\n",
    "# 2) Min Max scaler Or Normalisation- (X-Min)/(Xmax-XMin) will scale all values in the range of 0 to 1 without negative values.\n",
    "# 3) Robust values based on Quartiles - (X-Q2)/(Q3-Q1) is used when data has many outliners.\n",
    "\n",
    "\n",
    "#5) Dummy Variables encoding- assigning numerical identifiers to groups,levels in categorical variables.\n",
    "#Independent variables(X)- Non Numeric or Categorical.- X should be always numeric SO,\n",
    "# Assign numerical identifiers to text categories called dummy variables Encoding.\n",
    "# A) Label encoder- encodes the object or categorical data by assigning numeric identifiers from 0 to n levels/classes in alphabetic order\n",
    "# EX- Gender-F,M,M,M,F,F,F,M\n",
    "#     Gender-1,0,0,0,1,1,1,0\n",
    "\n",
    "# B) pd.get_dummies()-encodes the object or categorical data using binary encoding(Yes-1,No-0) and also adds additional columns/variables based on levels in categorical data\n",
    "# EX- Gender-F,M,M,M,F,F,F,M\n",
    "#  Gender_F-1,0,0,0,1,1,1,0\n",
    "#   Gender_M-0,1,1,1,0,0,0,1\n",
    "#dummy variable encoding must be done on object/text data,numeric\n",
    "#categorical variables like ratings, quartar,monthetc\n",
    "\n",
    "#6)working with dates- dates must be converted into date format using pd.to_datetime()function\n",
    "#extract variables from date like weekday,month,season,quarter,year etc.\n",
    "#timedelta which is different in time\n",
    "\n",
    "# Dealing with DUPLICATE LEVELS OR CLASSESIN CATEGORICAL VARIABLES\n",
    "#Ex- Male,M,m,F,Female\n",
    " \n",
    "#7) Dealing with characters like coma, space,currency in numeric data. String or regular expression functions must be used.\n",
    "\n",
    "#8) Extracting information like codes from Alpha numeric Identifiers Or ID\n",
    "\n",
    "#9) Formatting dates into default YYYY-MM-DD HH:MM:SS. pd.to_datetime()\n",
    "\n",
    "#10) Create new variables from existing variables. Combination of multiple variable\n",
    "\n",
    "#11) Converting variables from categorical to numeric or vice-versa."
   ]
  },
  {
   "cell_type": "code",
   "execution_count": 4,
   "id": "21605a03",
   "metadata": {},
   "outputs": [],
   "source": [
    "import pandas as pd\n",
    "import numpy as np\n",
    "import matplotlib.pyplot as plt\n",
    "%matplotlib inline"
   ]
  },
  {
   "cell_type": "code",
   "execution_count": 5,
   "id": "4a656cdd",
   "metadata": {},
   "outputs": [
    {
     "name": "stdout",
     "output_type": "stream",
     "text": [
      "C:\\Users\\chkee\\Downloads\\Imarticus Learning\\Python\n"
     ]
    }
   ],
   "source": [
    "import io \n",
    "%cd \"C:\\Users\\chkee\\Downloads\\Imarticus Learning\\Python\""
   ]
  },
  {
   "cell_type": "code",
   "execution_count": 6,
   "id": "b5814558",
   "metadata": {},
   "outputs": [],
   "source": [
    "bigmarttrain=pd.read_csv(\"train.csv\")"
   ]
  },
  {
   "cell_type": "code",
   "execution_count": 7,
   "id": "8a57f02f",
   "metadata": {},
   "outputs": [],
   "source": [
    "bigmarttest=pd.read_csv(\"test.csv\")"
   ]
  },
  {
   "cell_type": "code",
   "execution_count": 8,
   "id": "42c68bed",
   "metadata": {},
   "outputs": [
    {
     "name": "stdout",
     "output_type": "stream",
     "text": [
      "(8523, 12)\n",
      "(5681, 11)\n"
     ]
    }
   ],
   "source": [
    "print(bigmarttrain.shape)\n",
    "print(bigmarttest.shape)"
   ]
  },
  {
   "cell_type": "code",
   "execution_count": 9,
   "id": "7e38b912",
   "metadata": {},
   "outputs": [
    {
     "name": "stdout",
     "output_type": "stream",
     "text": [
      "<class 'pandas.core.frame.DataFrame'>\n",
      "RangeIndex: 8523 entries, 0 to 8522\n",
      "Data columns (total 12 columns):\n",
      " #   Column                     Non-Null Count  Dtype  \n",
      "---  ------                     --------------  -----  \n",
      " 0   Item_Identifier            8523 non-null   object \n",
      " 1   Item_Weight                7060 non-null   float64\n",
      " 2   Item_Fat_Content           8523 non-null   object \n",
      " 3   Item_Visibility            8523 non-null   float64\n",
      " 4   Item_Type                  8523 non-null   object \n",
      " 5   Item_MRP                   8523 non-null   float64\n",
      " 6   Outlet_Identifier          8523 non-null   object \n",
      " 7   Outlet_Establishment_Year  8523 non-null   int64  \n",
      " 8   Outlet_Size                6113 non-null   object \n",
      " 9   Outlet_Location_Type       8523 non-null   object \n",
      " 10  Outlet_Type                8523 non-null   object \n",
      " 11  Item_Outlet_Sales          8523 non-null   float64\n",
      "dtypes: float64(4), int64(1), object(7)\n",
      "memory usage: 799.2+ KB\n"
     ]
    }
   ],
   "source": [
    "bigmarttrain.info()"
   ]
  },
  {
   "cell_type": "code",
   "execution_count": 10,
   "id": "88a41969",
   "metadata": {},
   "outputs": [
    {
     "name": "stdout",
     "output_type": "stream",
     "text": [
      "<class 'pandas.core.frame.DataFrame'>\n",
      "RangeIndex: 5681 entries, 0 to 5680\n",
      "Data columns (total 11 columns):\n",
      " #   Column                     Non-Null Count  Dtype  \n",
      "---  ------                     --------------  -----  \n",
      " 0   Item_Identifier            5681 non-null   object \n",
      " 1   Item_Weight                4705 non-null   float64\n",
      " 2   Item_Fat_Content           5681 non-null   object \n",
      " 3   Item_Visibility            5681 non-null   float64\n",
      " 4   Item_Type                  5681 non-null   object \n",
      " 5   Item_MRP                   5681 non-null   float64\n",
      " 6   Outlet_Identifier          5681 non-null   object \n",
      " 7   Outlet_Establishment_Year  5681 non-null   int64  \n",
      " 8   Outlet_Size                4075 non-null   object \n",
      " 9   Outlet_Location_Type       5681 non-null   object \n",
      " 10  Outlet_Type                5681 non-null   object \n",
      "dtypes: float64(3), int64(1), object(7)\n",
      "memory usage: 488.3+ KB\n"
     ]
    }
   ],
   "source": [
    "bigmarttest.info()"
   ]
  },
  {
   "cell_type": "code",
   "execution_count": 11,
   "id": "52aaaf49",
   "metadata": {},
   "outputs": [],
   "source": [
    "#CONCATINATION OF BOTH FILES -for preprocessing\n",
    "#For concatination the columns must be same.\n",
    "#For concatination temporarily add dependent variable to test data and fill column with 'test'\n"
   ]
  },
  {
   "cell_type": "code",
   "execution_count": 12,
   "id": "d033500b",
   "metadata": {},
   "outputs": [],
   "source": [
    "#as both dataframe must have same columns\n",
    "bigmarttest['Item_Outlet_Sales']='test'#adding the column to test file and columns filled with test"
   ]
  },
  {
   "cell_type": "code",
   "execution_count": 13,
   "id": "fd49eb3a",
   "metadata": {},
   "outputs": [],
   "source": [
    "#concatination of dataframes fpr preprocessing\n",
    "combinedf=pd.concat([bigmarttrain,bigmarttest],axis=0)\n",
    "\n",
    "#axis=0 is row wise concat\n",
    "#axis=1 is col concat"
   ]
  },
  {
   "cell_type": "code",
   "execution_count": 14,
   "id": "c12aac2b",
   "metadata": {},
   "outputs": [
    {
     "name": "stdout",
     "output_type": "stream",
     "text": [
      "<class 'pandas.core.frame.DataFrame'>\n",
      "Int64Index: 14204 entries, 0 to 5680\n",
      "Data columns (total 12 columns):\n",
      " #   Column                     Non-Null Count  Dtype  \n",
      "---  ------                     --------------  -----  \n",
      " 0   Item_Identifier            14204 non-null  object \n",
      " 1   Item_Weight                11765 non-null  float64\n",
      " 2   Item_Fat_Content           14204 non-null  object \n",
      " 3   Item_Visibility            14204 non-null  float64\n",
      " 4   Item_Type                  14204 non-null  object \n",
      " 5   Item_MRP                   14204 non-null  float64\n",
      " 6   Outlet_Identifier          14204 non-null  object \n",
      " 7   Outlet_Establishment_Year  14204 non-null  int64  \n",
      " 8   Outlet_Size                10188 non-null  object \n",
      " 9   Outlet_Location_Type       14204 non-null  object \n",
      " 10  Outlet_Type                14204 non-null  object \n",
      " 11  Item_Outlet_Sales          14204 non-null  object \n",
      "dtypes: float64(3), int64(1), object(8)\n",
      "memory usage: 1.4+ MB\n"
     ]
    }
   ],
   "source": [
    "combinedf.info()"
   ]
  },
  {
   "cell_type": "code",
   "execution_count": 15,
   "id": "3848595e",
   "metadata": {},
   "outputs": [],
   "source": [
    "#separate num and non num cols in preprocessing\n",
    "\n",
    "numcols=combinedf.select_dtypes(include=np.number)\n",
    "objcols=combinedf.select_dtypes(include=['object'])\n",
    "\n",
    "#np.number selects both int64 and float64"
   ]
  },
  {
   "cell_type": "code",
   "execution_count": 16,
   "id": "98b026be",
   "metadata": {},
   "outputs": [
    {
     "data": {
      "text/html": [
       "<div>\n",
       "<style scoped>\n",
       "    .dataframe tbody tr th:only-of-type {\n",
       "        vertical-align: middle;\n",
       "    }\n",
       "\n",
       "    .dataframe tbody tr th {\n",
       "        vertical-align: top;\n",
       "    }\n",
       "\n",
       "    .dataframe thead th {\n",
       "        text-align: right;\n",
       "    }\n",
       "</style>\n",
       "<table border=\"1\" class=\"dataframe\">\n",
       "  <thead>\n",
       "    <tr style=\"text-align: right;\">\n",
       "      <th></th>\n",
       "      <th>Item_Weight</th>\n",
       "      <th>Item_Visibility</th>\n",
       "      <th>Item_MRP</th>\n",
       "      <th>Outlet_Establishment_Year</th>\n",
       "    </tr>\n",
       "  </thead>\n",
       "  <tbody>\n",
       "    <tr>\n",
       "      <th>count</th>\n",
       "      <td>11765.000000</td>\n",
       "      <td>14204.000000</td>\n",
       "      <td>14204.000000</td>\n",
       "      <td>14204.000000</td>\n",
       "    </tr>\n",
       "    <tr>\n",
       "      <th>mean</th>\n",
       "      <td>12.792854</td>\n",
       "      <td>0.065953</td>\n",
       "      <td>141.004977</td>\n",
       "      <td>1997.830681</td>\n",
       "    </tr>\n",
       "    <tr>\n",
       "      <th>std</th>\n",
       "      <td>4.652502</td>\n",
       "      <td>0.051459</td>\n",
       "      <td>62.086938</td>\n",
       "      <td>8.371664</td>\n",
       "    </tr>\n",
       "    <tr>\n",
       "      <th>min</th>\n",
       "      <td>4.555000</td>\n",
       "      <td>0.000000</td>\n",
       "      <td>31.290000</td>\n",
       "      <td>1985.000000</td>\n",
       "    </tr>\n",
       "    <tr>\n",
       "      <th>25%</th>\n",
       "      <td>8.710000</td>\n",
       "      <td>0.027036</td>\n",
       "      <td>94.012000</td>\n",
       "      <td>1987.000000</td>\n",
       "    </tr>\n",
       "    <tr>\n",
       "      <th>50%</th>\n",
       "      <td>12.600000</td>\n",
       "      <td>0.054021</td>\n",
       "      <td>142.247000</td>\n",
       "      <td>1999.000000</td>\n",
       "    </tr>\n",
       "    <tr>\n",
       "      <th>75%</th>\n",
       "      <td>16.750000</td>\n",
       "      <td>0.094037</td>\n",
       "      <td>185.855600</td>\n",
       "      <td>2004.000000</td>\n",
       "    </tr>\n",
       "    <tr>\n",
       "      <th>max</th>\n",
       "      <td>21.350000</td>\n",
       "      <td>0.328391</td>\n",
       "      <td>266.888400</td>\n",
       "      <td>2009.000000</td>\n",
       "    </tr>\n",
       "  </tbody>\n",
       "</table>\n",
       "</div>"
      ],
      "text/plain": [
       "        Item_Weight  Item_Visibility      Item_MRP  Outlet_Establishment_Year\n",
       "count  11765.000000     14204.000000  14204.000000               14204.000000\n",
       "mean      12.792854         0.065953    141.004977                1997.830681\n",
       "std        4.652502         0.051459     62.086938                   8.371664\n",
       "min        4.555000         0.000000     31.290000                1985.000000\n",
       "25%        8.710000         0.027036     94.012000                1987.000000\n",
       "50%       12.600000         0.054021    142.247000                1999.000000\n",
       "75%       16.750000         0.094037    185.855600                2004.000000\n",
       "max       21.350000         0.328391    266.888400                2009.000000"
      ]
     },
     "execution_count": 16,
     "metadata": {},
     "output_type": "execute_result"
    }
   ],
   "source": [
    "numcols.describe()\n",
    "\n",
    "#count value is not matching to total rows so imputation need to be done\n",
    "#check mean and med "
   ]
  },
  {
   "cell_type": "code",
   "execution_count": 17,
   "id": "a3fde691",
   "metadata": {},
   "outputs": [],
   "source": [
    "#impute item weight\n",
    "numcols.Item_Weight=numcols.Item_Weight.fillna(numcols.Item_Weight.mean())"
   ]
  },
  {
   "cell_type": "code",
   "execution_count": 18,
   "id": "3b683893",
   "metadata": {},
   "outputs": [
    {
     "data": {
      "text/plain": [
       "Medium    4655\n",
       "NaN       4016\n",
       "Small     3980\n",
       "High      1553\n",
       "Name: Outlet_Size, dtype: int64"
      ]
     },
     "execution_count": 18,
     "metadata": {},
     "output_type": "execute_result"
    }
   ],
   "source": [
    "#impute outletsize\n",
    "objcols.Outlet_Size.value_counts(dropna=False)"
   ]
  },
  {
   "cell_type": "code",
   "execution_count": 19,
   "id": "d43dbdb9",
   "metadata": {},
   "outputs": [],
   "source": [
    "#impute word \"missing\n",
    "objcols.Outlet_Size=objcols.Outlet_Size.fillna(\"Missing\")"
   ]
  },
  {
   "cell_type": "code",
   "execution_count": 20,
   "id": "299e4f69",
   "metadata": {},
   "outputs": [
    {
     "data": {
      "text/plain": [
       "0    FDA15\n",
       "1    DRC01\n",
       "2    FDN15\n",
       "3    FDX07\n",
       "4    NCD19\n",
       "Name: Item_Identifier, dtype: object"
      ]
     },
     "execution_count": 20,
     "metadata": {},
     "output_type": "execute_result"
    }
   ],
   "source": [
    "objcols.Item_Identifier.head()\n"
   ]
  },
  {
   "cell_type": "code",
   "execution_count": 21,
   "id": "b35ee25a",
   "metadata": {},
   "outputs": [],
   "source": [
    "#create new variable called item_code based on identifier\n",
    "objcols['itemcode']=objcols.Item_Identifier.apply(lambda x:x[0:2])"
   ]
  },
  {
   "cell_type": "code",
   "execution_count": 22,
   "id": "a579e2e6",
   "metadata": {},
   "outputs": [
    {
     "data": {
      "text/plain": [
       "FD    10201\n",
       "NC     2686\n",
       "DR     1317\n",
       "Name: itemcode, dtype: int64"
      ]
     },
     "execution_count": 22,
     "metadata": {},
     "output_type": "execute_result"
    }
   ],
   "source": [
    "objcols.itemcode.value_counts()"
   ]
  },
  {
   "cell_type": "code",
   "execution_count": 23,
   "id": "fcc4532a",
   "metadata": {},
   "outputs": [
    {
     "data": {
      "text/plain": [
       "Low Fat    8485\n",
       "Regular    4824\n",
       "LF          522\n",
       "reg         195\n",
       "low fat     178\n",
       "Name: Item_Fat_Content, dtype: int64"
      ]
     },
     "execution_count": 23,
     "metadata": {},
     "output_type": "execute_result"
    }
   ],
   "source": [
    "objcols.Item_Fat_Content.value_counts()"
   ]
  },
  {
   "cell_type": "code",
   "execution_count": 24,
   "id": "0ec49850",
   "metadata": {},
   "outputs": [],
   "source": [
    "objcols.Item_Fat_Content=objcols.Item_Fat_Content.replace(['LF','low fat'],'Low Fat')"
   ]
  },
  {
   "cell_type": "code",
   "execution_count": 25,
   "id": "6546be61",
   "metadata": {},
   "outputs": [],
   "source": [
    "objcols.Item_Fat_Content=objcols.Item_Fat_Content.replace('reg','Regular')"
   ]
  },
  {
   "cell_type": "code",
   "execution_count": 26,
   "id": "81a0cf00",
   "metadata": {},
   "outputs": [
    {
     "name": "stdout",
     "output_type": "stream",
     "text": [
      "FDU15    10\n",
      "FDS25    10\n",
      "FDA38    10\n",
      "FDW03    10\n",
      "FDJ10    10\n",
      "         ..\n",
      "FDR51     7\n",
      "FDM52     7\n",
      "DRN11     7\n",
      "FDH58     7\n",
      "NCW54     7\n",
      "Name: Item_Identifier, Length: 1559, dtype: int64\n",
      "Low Fat    9185\n",
      "Regular    5019\n",
      "Name: Item_Fat_Content, dtype: int64\n",
      "Fruits and Vegetables    2013\n",
      "Snack Foods              1989\n",
      "Household                1548\n",
      "Frozen Foods             1426\n",
      "Dairy                    1136\n",
      "Baking Goods             1086\n",
      "Canned                   1084\n",
      "Health and Hygiene        858\n",
      "Meat                      736\n",
      "Soft Drinks               726\n",
      "Breads                    416\n",
      "Hard Drinks               362\n",
      "Others                    280\n",
      "Starchy Foods             269\n",
      "Breakfast                 186\n",
      "Seafood                    89\n",
      "Name: Item_Type, dtype: int64\n",
      "OUT027    1559\n",
      "OUT013    1553\n",
      "OUT049    1550\n",
      "OUT046    1550\n",
      "OUT035    1550\n",
      "OUT045    1548\n",
      "OUT018    1546\n",
      "OUT017    1543\n",
      "OUT010     925\n",
      "OUT019     880\n",
      "Name: Outlet_Identifier, dtype: int64\n",
      "Medium     4655\n",
      "Missing    4016\n",
      "Small      3980\n",
      "High       1553\n",
      "Name: Outlet_Size, dtype: int64\n",
      "Tier 3    5583\n",
      "Tier 2    4641\n",
      "Tier 1    3980\n",
      "Name: Outlet_Location_Type, dtype: int64\n",
      "Supermarket Type1    9294\n",
      "Grocery Store        1805\n",
      "Supermarket Type3    1559\n",
      "Supermarket Type2    1546\n",
      "Name: Outlet_Type, dtype: int64\n",
      "test         5681\n",
      "958.752        17\n",
      "1342.2528      16\n",
      "703.0848       15\n",
      "1845.5976      15\n",
      "             ... \n",
      "7152.0236       1\n",
      "9779.9362       1\n",
      "1451.444        1\n",
      "3723.8194       1\n",
      "3022.732        1\n",
      "Name: Item_Outlet_Sales, Length: 3494, dtype: int64\n",
      "FD    10201\n",
      "NC     2686\n",
      "DR     1317\n",
      "Name: itemcode, dtype: int64\n"
     ]
    }
   ],
   "source": [
    "for col in objcols.columns:\n",
    "    freq=objcols[col].value_counts(dropna=False)\n",
    "    print(freq)"
   ]
  },
  {
   "cell_type": "code",
   "execution_count": 27,
   "id": "506ac9e4",
   "metadata": {},
   "outputs": [],
   "source": [
    "#Create a new variable 'Outlet_age' as of 2022 using outlet establishment year.\n",
    "numcols['outlet_age']=2022-numcols.Outlet_Establishment_Year"
   ]
  },
  {
   "cell_type": "code",
   "execution_count": 28,
   "id": "80bcba39",
   "metadata": {},
   "outputs": [
    {
     "data": {
      "text/plain": [
       "count    14204.000000\n",
       "mean        24.169319\n",
       "std          8.371664\n",
       "min         13.000000\n",
       "25%         18.000000\n",
       "50%         23.000000\n",
       "75%         35.000000\n",
       "max         37.000000\n",
       "Name: outlet_age, dtype: float64"
      ]
     },
     "execution_count": 28,
     "metadata": {},
     "output_type": "execute_result"
    }
   ],
   "source": [
    "numcols.outlet_age.describe()"
   ]
  },
  {
   "cell_type": "code",
   "execution_count": 29,
   "id": "700364af",
   "metadata": {},
   "outputs": [],
   "source": [
    "#Data transformation for numeric variables-independent variable\n",
    "from sklearn.preprocessing import StandardScaler,MinMaxScaler,RobustScaler"
   ]
  },
  {
   "cell_type": "code",
   "execution_count": 30,
   "id": "abb66844",
   "metadata": {},
   "outputs": [],
   "source": [
    "numcols_df=numcols.drop('Outlet_Establishment_Year',axis=1)"
   ]
  },
  {
   "cell_type": "code",
   "execution_count": 31,
   "id": "92b641d7",
   "metadata": {},
   "outputs": [],
   "source": [
    "stdscaler=StandardScaler() #renaming Standard Scaler as stdscaler"
   ]
  },
  {
   "cell_type": "code",
   "execution_count": 32,
   "id": "61bcf9d5",
   "metadata": {},
   "outputs": [],
   "source": [
    "numcols_df_scaled=stdscaler.fit_transform(numcols_df)  # all the numeric data is converted to similar datatype"
   ]
  },
  {
   "cell_type": "code",
   "execution_count": 33,
   "id": "c0320b06",
   "metadata": {},
   "outputs": [],
   "source": [
    "numcols_df_scaled=pd.DataFrame(numcols_df_scaled,columns=numcols_df.columns) \n",
    "#array are converted to dataframe with column names"
   ]
  },
  {
   "cell_type": "code",
   "execution_count": 34,
   "id": "4e3e7875",
   "metadata": {},
   "outputs": [
    {
     "data": {
      "text/html": [
       "<div>\n",
       "<style scoped>\n",
       "    .dataframe tbody tr th:only-of-type {\n",
       "        vertical-align: middle;\n",
       "    }\n",
       "\n",
       "    .dataframe tbody tr th {\n",
       "        vertical-align: top;\n",
       "    }\n",
       "\n",
       "    .dataframe thead th {\n",
       "        text-align: right;\n",
       "    }\n",
       "</style>\n",
       "<table border=\"1\" class=\"dataframe\">\n",
       "  <thead>\n",
       "    <tr style=\"text-align: right;\">\n",
       "      <th></th>\n",
       "      <th>Item_Weight</th>\n",
       "      <th>Item_Visibility</th>\n",
       "      <th>Item_MRP</th>\n",
       "      <th>outlet_age</th>\n",
       "    </tr>\n",
       "  </thead>\n",
       "  <tbody>\n",
       "    <tr>\n",
       "      <th>0</th>\n",
       "      <td>-8.249387e-01</td>\n",
       "      <td>-0.969852</td>\n",
       "      <td>1.752511</td>\n",
       "      <td>-0.139681</td>\n",
       "    </tr>\n",
       "    <tr>\n",
       "      <th>1</th>\n",
       "      <td>-1.623224e+00</td>\n",
       "      <td>-0.907063</td>\n",
       "      <td>-1.493696</td>\n",
       "      <td>-1.334228</td>\n",
       "    </tr>\n",
       "    <tr>\n",
       "      <th>2</th>\n",
       "      <td>1.111729e+00</td>\n",
       "      <td>-0.956000</td>\n",
       "      <td>0.009874</td>\n",
       "      <td>-0.139681</td>\n",
       "    </tr>\n",
       "    <tr>\n",
       "      <th>3</th>\n",
       "      <td>1.513233e+00</td>\n",
       "      <td>-1.281712</td>\n",
       "      <td>0.661838</td>\n",
       "      <td>-0.020226</td>\n",
       "    </tr>\n",
       "    <tr>\n",
       "      <th>4</th>\n",
       "      <td>-9.123249e-01</td>\n",
       "      <td>-1.281712</td>\n",
       "      <td>-1.403623</td>\n",
       "      <td>1.293777</td>\n",
       "    </tr>\n",
       "    <tr>\n",
       "      <th>5</th>\n",
       "      <td>-5.663227e-01</td>\n",
       "      <td>-1.281712</td>\n",
       "      <td>-1.443256</td>\n",
       "      <td>-1.334228</td>\n",
       "    </tr>\n",
       "    <tr>\n",
       "      <th>6</th>\n",
       "      <td>2.024398e-01</td>\n",
       "      <td>-1.034104</td>\n",
       "      <td>-1.342458</td>\n",
       "      <td>1.293777</td>\n",
       "    </tr>\n",
       "    <tr>\n",
       "      <th>7</th>\n",
       "      <td>-4.195381e-16</td>\n",
       "      <td>1.195510</td>\n",
       "      <td>-0.535442</td>\n",
       "      <td>1.532686</td>\n",
       "    </tr>\n",
       "    <tr>\n",
       "      <th>8</th>\n",
       "      <td>8.046962e-01</td>\n",
       "      <td>-0.957418</td>\n",
       "      <td>-0.709230</td>\n",
       "      <td>-0.498045</td>\n",
       "    </tr>\n",
       "    <tr>\n",
       "      <th>9</th>\n",
       "      <td>1.513233e+00</td>\n",
       "      <td>0.553801</td>\n",
       "      <td>0.754073</td>\n",
       "      <td>-1.095319</td>\n",
       "    </tr>\n",
       "  </tbody>\n",
       "</table>\n",
       "</div>"
      ],
      "text/plain": [
       "    Item_Weight  Item_Visibility  Item_MRP  outlet_age\n",
       "0 -8.249387e-01        -0.969852  1.752511   -0.139681\n",
       "1 -1.623224e+00        -0.907063 -1.493696   -1.334228\n",
       "2  1.111729e+00        -0.956000  0.009874   -0.139681\n",
       "3  1.513233e+00        -1.281712  0.661838   -0.020226\n",
       "4 -9.123249e-01        -1.281712 -1.403623    1.293777\n",
       "5 -5.663227e-01        -1.281712 -1.443256   -1.334228\n",
       "6  2.024398e-01        -1.034104 -1.342458    1.293777\n",
       "7 -4.195381e-16         1.195510 -0.535442    1.532686\n",
       "8  8.046962e-01        -0.957418 -0.709230   -0.498045\n",
       "9  1.513233e+00         0.553801  0.754073   -1.095319"
      ]
     },
     "execution_count": 34,
     "metadata": {},
     "output_type": "execute_result"
    }
   ],
   "source": [
    "numcols_df_scaled.head(10)\n",
    "#has both negative and positive values in standardisation or standard scaler"
   ]
  },
  {
   "cell_type": "code",
   "execution_count": 35,
   "id": "8f0a126e",
   "metadata": {},
   "outputs": [],
   "source": [
    "#Normalisation or MINMAXscaler\n",
    "minmax=MinMaxScaler()"
   ]
  },
  {
   "cell_type": "code",
   "execution_count": 36,
   "id": "55c42f58",
   "metadata": {},
   "outputs": [],
   "source": [
    "numcols_df_minmax=minmax.fit_transform(numcols_df)"
   ]
  },
  {
   "cell_type": "code",
   "execution_count": 37,
   "id": "d36e24d5",
   "metadata": {},
   "outputs": [],
   "source": [
    "numcols_df_minmax=pd.DataFrame(numcols_df_minmax,columns=numcols_df.columns)"
   ]
  },
  {
   "cell_type": "code",
   "execution_count": 38,
   "id": "f6bd1395",
   "metadata": {},
   "outputs": [
    {
     "data": {
      "text/html": [
       "<div>\n",
       "<style scoped>\n",
       "    .dataframe tbody tr th:only-of-type {\n",
       "        vertical-align: middle;\n",
       "    }\n",
       "\n",
       "    .dataframe tbody tr th {\n",
       "        vertical-align: top;\n",
       "    }\n",
       "\n",
       "    .dataframe thead th {\n",
       "        text-align: right;\n",
       "    }\n",
       "</style>\n",
       "<table border=\"1\" class=\"dataframe\">\n",
       "  <thead>\n",
       "    <tr style=\"text-align: right;\">\n",
       "      <th></th>\n",
       "      <th>Item_Weight</th>\n",
       "      <th>Item_Visibility</th>\n",
       "      <th>Item_MRP</th>\n",
       "      <th>outlet_age</th>\n",
       "    </tr>\n",
       "  </thead>\n",
       "  <tbody>\n",
       "    <tr>\n",
       "      <th>0</th>\n",
       "      <td>0.282525</td>\n",
       "      <td>0.048866</td>\n",
       "      <td>0.927507</td>\n",
       "      <td>0.416667</td>\n",
       "    </tr>\n",
       "    <tr>\n",
       "      <th>1</th>\n",
       "      <td>0.081274</td>\n",
       "      <td>0.058705</td>\n",
       "      <td>0.072068</td>\n",
       "      <td>0.000000</td>\n",
       "    </tr>\n",
       "    <tr>\n",
       "      <th>2</th>\n",
       "      <td>0.770765</td>\n",
       "      <td>0.051037</td>\n",
       "      <td>0.468288</td>\n",
       "      <td>0.416667</td>\n",
       "    </tr>\n",
       "    <tr>\n",
       "      <th>3</th>\n",
       "      <td>0.871986</td>\n",
       "      <td>0.000000</td>\n",
       "      <td>0.640093</td>\n",
       "      <td>0.458333</td>\n",
       "    </tr>\n",
       "    <tr>\n",
       "      <th>4</th>\n",
       "      <td>0.260494</td>\n",
       "      <td>0.000000</td>\n",
       "      <td>0.095805</td>\n",
       "      <td>0.916667</td>\n",
       "    </tr>\n",
       "  </tbody>\n",
       "</table>\n",
       "</div>"
      ],
      "text/plain": [
       "   Item_Weight  Item_Visibility  Item_MRP  outlet_age\n",
       "0     0.282525         0.048866  0.927507    0.416667\n",
       "1     0.081274         0.058705  0.072068    0.000000\n",
       "2     0.770765         0.051037  0.468288    0.416667\n",
       "3     0.871986         0.000000  0.640093    0.458333\n",
       "4     0.260494         0.000000  0.095805    0.916667"
      ]
     },
     "execution_count": 38,
     "metadata": {},
     "output_type": "execute_result"
    }
   ],
   "source": [
    "numcols_df_minmax.head()\n",
    "#there are no negative values and rnge is only 0-1 in normalisation\n"
   ]
  },
  {
   "cell_type": "code",
   "execution_count": 39,
   "id": "c8971f50",
   "metadata": {},
   "outputs": [],
   "source": [
    "#ROBUST SCALER-Uses quartiles used in case of outliers\n",
    "robust=RobustScaler()"
   ]
  },
  {
   "cell_type": "code",
   "execution_count": 40,
   "id": "2f714838",
   "metadata": {},
   "outputs": [],
   "source": [
    "numcols_df_robust=robust.fit_transform(numcols_df)"
   ]
  },
  {
   "cell_type": "code",
   "execution_count": 41,
   "id": "5104a170",
   "metadata": {},
   "outputs": [],
   "source": [
    "numcols_df_robust=pd.DataFrame(numcols_df_robust,columns=numcols_df.columns)"
   ]
  },
  {
   "cell_type": "code",
   "execution_count": 42,
   "id": "8f06295d",
   "metadata": {},
   "outputs": [
    {
     "data": {
      "text/html": [
       "<div>\n",
       "<style scoped>\n",
       "    .dataframe tbody tr th:only-of-type {\n",
       "        vertical-align: middle;\n",
       "    }\n",
       "\n",
       "    .dataframe tbody tr th {\n",
       "        vertical-align: top;\n",
       "    }\n",
       "\n",
       "    .dataframe thead th {\n",
       "        text-align: right;\n",
       "    }\n",
       "</style>\n",
       "<table border=\"1\" class=\"dataframe\">\n",
       "  <thead>\n",
       "    <tr style=\"text-align: right;\">\n",
       "      <th></th>\n",
       "      <th>Item_Weight</th>\n",
       "      <th>Item_Visibility</th>\n",
       "      <th>Item_MRP</th>\n",
       "      <th>outlet_age</th>\n",
       "    </tr>\n",
       "  </thead>\n",
       "  <tbody>\n",
       "    <tr>\n",
       "      <th>0</th>\n",
       "      <td>-0.521322</td>\n",
       "      <td>-0.566751</td>\n",
       "      <td>1.171145</td>\n",
       "      <td>0.000000</td>\n",
       "    </tr>\n",
       "    <tr>\n",
       "      <th>1</th>\n",
       "      <td>-1.025799</td>\n",
       "      <td>-0.518530</td>\n",
       "      <td>-1.023237</td>\n",
       "      <td>-0.588235</td>\n",
       "    </tr>\n",
       "    <tr>\n",
       "      <th>2</th>\n",
       "      <td>0.702559</td>\n",
       "      <td>-0.556113</td>\n",
       "      <td>-0.006849</td>\n",
       "      <td>0.000000</td>\n",
       "    </tr>\n",
       "    <tr>\n",
       "      <th>3</th>\n",
       "      <td>0.956290</td>\n",
       "      <td>-0.806258</td>\n",
       "      <td>0.433868</td>\n",
       "      <td>0.058824</td>\n",
       "    </tr>\n",
       "    <tr>\n",
       "      <th>4</th>\n",
       "      <td>-0.576545</td>\n",
       "      <td>-0.806258</td>\n",
       "      <td>-0.962349</td>\n",
       "      <td>0.705882</td>\n",
       "    </tr>\n",
       "  </tbody>\n",
       "</table>\n",
       "</div>"
      ],
      "text/plain": [
       "   Item_Weight  Item_Visibility  Item_MRP  outlet_age\n",
       "0    -0.521322        -0.566751  1.171145    0.000000\n",
       "1    -1.025799        -0.518530 -1.023237   -0.588235\n",
       "2     0.702559        -0.556113 -0.006849    0.000000\n",
       "3     0.956290        -0.806258  0.433868    0.058824\n",
       "4    -0.576545        -0.806258 -0.962349    0.705882"
      ]
     },
     "execution_count": 42,
     "metadata": {},
     "output_type": "execute_result"
    }
   ],
   "source": [
    "numcols_df_robust.head()   # if we dont want outliers we use robustscaler"
   ]
  },
  {
   "cell_type": "code",
   "execution_count": 43,
   "id": "03cf0e42",
   "metadata": {},
   "outputs": [
    {
     "data": {
      "text/plain": [
       "<Axes: >"
      ]
     },
     "execution_count": 43,
     "metadata": {},
     "output_type": "execute_result"
    },
    {
     "data": {
      "image/png": "[encoded data removed]",
      "text/plain": [
       "<Figure size 640x480 with 1 Axes>"
      ]
     },
     "metadata": {},
     "output_type": "display_data"
    }
   ],
   "source": [
    "numcols_df.plot(kind='box',vert=False)"
   ]
  },
  {
   "cell_type": "code",
   "execution_count": 44,
   "id": "d69a9c5b",
   "metadata": {},
   "outputs": [
    {
     "data": {
      "text/plain": [
       "<Axes: >"
      ]
     },
     "execution_count": 44,
     "metadata": {},
     "output_type": "execute_result"
    },
    {
     "data": {
      "image/png": "[encoded data removed]",
      "text/plain": [
       "<Figure size 640x480 with 1 Axes>"
      ]
     },
     "metadata": {},
     "output_type": "display_data"
    }
   ],
   "source": [
    "numcols_df_scaled.plot(kind='box',vert=False)"
   ]
  },
  {
   "cell_type": "code",
   "execution_count": 45,
   "id": "06599121",
   "metadata": {},
   "outputs": [
    {
     "data": {
      "text/plain": [
       "<Axes: >"
      ]
     },
     "execution_count": 45,
     "metadata": {},
     "output_type": "execute_result"
    },
    {
     "data": {
      "image/png": "[encoded data removed]",
      "text/plain": [
       "<Figure size 640x480 with 1 Axes>"
      ]
     },
     "metadata": {},
     "output_type": "display_data"
    }
   ],
   "source": [
    "numcols_df_robust.plot(kind='box',vert=False)"
   ]
  },
  {
   "cell_type": "code",
   "execution_count": 46,
   "id": "e1f5a8b6",
   "metadata": {},
   "outputs": [
    {
     "data": {
      "text/plain": [
       "<Axes: >"
      ]
     },
     "execution_count": 46,
     "metadata": {},
     "output_type": "execute_result"
    },
    {
     "data": {
      "image/png": "[encoded data removed]",
      "text/plain": [
       "<Figure size 640x480 with 1 Axes>"
      ]
     },
     "metadata": {},
     "output_type": "display_data"
    }
   ],
   "source": [
    "numcols_df_minmax.plot(kind='box',vert=False) # for visuallisation use minmax scaler as the pixels are in 0-225"
   ]
  },
  {
   "cell_type": "code",
   "execution_count": 47,
   "id": "309b77d7",
   "metadata": {},
   "outputs": [],
   "source": [
    "#DUMMY VARIABLE ENCODING- encoding object or string data\n",
    "numcols_df['Item_Outlet_Sales']=objcols.Item_Outlet_Sales   #moving from obj to number-dependent col"
   ]
  },
  {
   "cell_type": "code",
   "execution_count": 48,
   "id": "b4468974",
   "metadata": {},
   "outputs": [],
   "source": [
    "#deleting from bojcolumn\n",
    "objcols=objcols.drop('Item_Outlet_Sales',axis=1)"
   ]
  },
  {
   "cell_type": "code",
   "execution_count": 49,
   "id": "87701de5",
   "metadata": {},
   "outputs": [],
   "source": [
    "from sklearn.preprocessing import LabelEncoder"
   ]
  },
  {
   "cell_type": "code",
   "execution_count": 50,
   "id": "80a7b7ad",
   "metadata": {},
   "outputs": [],
   "source": [
    "le=LabelEncoder()"
   ]
  },
  {
   "cell_type": "code",
   "execution_count": 51,
   "id": "ffae2cf5",
   "metadata": {},
   "outputs": [],
   "source": [
    "objcols_encode=objcols.apply(le.fit_transform)"
   ]
  },
  {
   "cell_type": "code",
   "execution_count": 52,
   "id": "aeecb588",
   "metadata": {},
   "outputs": [
    {
     "data": {
      "text/html": [
       "<div>\n",
       "<style scoped>\n",
       "    .dataframe tbody tr th:only-of-type {\n",
       "        vertical-align: middle;\n",
       "    }\n",
       "\n",
       "    .dataframe tbody tr th {\n",
       "        vertical-align: top;\n",
       "    }\n",
       "\n",
       "    .dataframe thead th {\n",
       "        text-align: right;\n",
       "    }\n",
       "</style>\n",
       "<table border=\"1\" class=\"dataframe\">\n",
       "  <thead>\n",
       "    <tr style=\"text-align: right;\">\n",
       "      <th></th>\n",
       "      <th>Item_Identifier</th>\n",
       "      <th>Item_Fat_Content</th>\n",
       "      <th>Item_Type</th>\n",
       "      <th>Outlet_Identifier</th>\n",
       "      <th>Outlet_Size</th>\n",
       "      <th>Outlet_Location_Type</th>\n",
       "      <th>Outlet_Type</th>\n",
       "      <th>itemcode</th>\n",
       "    </tr>\n",
       "  </thead>\n",
       "  <tbody>\n",
       "    <tr>\n",
       "      <th>0</th>\n",
       "      <td>156</td>\n",
       "      <td>0</td>\n",
       "      <td>4</td>\n",
       "      <td>9</td>\n",
       "      <td>1</td>\n",
       "      <td>0</td>\n",
       "      <td>1</td>\n",
       "      <td>1</td>\n",
       "    </tr>\n",
       "    <tr>\n",
       "      <th>1</th>\n",
       "      <td>8</td>\n",
       "      <td>1</td>\n",
       "      <td>14</td>\n",
       "      <td>3</td>\n",
       "      <td>1</td>\n",
       "      <td>2</td>\n",
       "      <td>2</td>\n",
       "      <td>0</td>\n",
       "    </tr>\n",
       "    <tr>\n",
       "      <th>2</th>\n",
       "      <td>662</td>\n",
       "      <td>0</td>\n",
       "      <td>10</td>\n",
       "      <td>9</td>\n",
       "      <td>1</td>\n",
       "      <td>0</td>\n",
       "      <td>1</td>\n",
       "      <td>1</td>\n",
       "    </tr>\n",
       "    <tr>\n",
       "      <th>3</th>\n",
       "      <td>1121</td>\n",
       "      <td>1</td>\n",
       "      <td>6</td>\n",
       "      <td>0</td>\n",
       "      <td>2</td>\n",
       "      <td>2</td>\n",
       "      <td>0</td>\n",
       "      <td>1</td>\n",
       "    </tr>\n",
       "    <tr>\n",
       "      <th>4</th>\n",
       "      <td>1297</td>\n",
       "      <td>0</td>\n",
       "      <td>9</td>\n",
       "      <td>1</td>\n",
       "      <td>0</td>\n",
       "      <td>2</td>\n",
       "      <td>1</td>\n",
       "      <td>2</td>\n",
       "    </tr>\n",
       "    <tr>\n",
       "      <th>5</th>\n",
       "      <td>758</td>\n",
       "      <td>1</td>\n",
       "      <td>0</td>\n",
       "      <td>3</td>\n",
       "      <td>1</td>\n",
       "      <td>2</td>\n",
       "      <td>2</td>\n",
       "      <td>1</td>\n",
       "    </tr>\n",
       "    <tr>\n",
       "      <th>6</th>\n",
       "      <td>696</td>\n",
       "      <td>1</td>\n",
       "      <td>13</td>\n",
       "      <td>1</td>\n",
       "      <td>0</td>\n",
       "      <td>2</td>\n",
       "      <td>1</td>\n",
       "      <td>1</td>\n",
       "    </tr>\n",
       "    <tr>\n",
       "      <th>7</th>\n",
       "      <td>738</td>\n",
       "      <td>0</td>\n",
       "      <td>13</td>\n",
       "      <td>5</td>\n",
       "      <td>1</td>\n",
       "      <td>2</td>\n",
       "      <td>3</td>\n",
       "      <td>1</td>\n",
       "    </tr>\n",
       "    <tr>\n",
       "      <th>8</th>\n",
       "      <td>440</td>\n",
       "      <td>1</td>\n",
       "      <td>5</td>\n",
       "      <td>7</td>\n",
       "      <td>2</td>\n",
       "      <td>1</td>\n",
       "      <td>1</td>\n",
       "      <td>1</td>\n",
       "    </tr>\n",
       "    <tr>\n",
       "      <th>9</th>\n",
       "      <td>990</td>\n",
       "      <td>1</td>\n",
       "      <td>5</td>\n",
       "      <td>2</td>\n",
       "      <td>2</td>\n",
       "      <td>1</td>\n",
       "      <td>1</td>\n",
       "      <td>1</td>\n",
       "    </tr>\n",
       "  </tbody>\n",
       "</table>\n",
       "</div>"
      ],
      "text/plain": [
       "   Item_Identifier  Item_Fat_Content  Item_Type  Outlet_Identifier  \\\n",
       "0              156                 0          4                  9   \n",
       "1                8                 1         14                  3   \n",
       "2              662                 0         10                  9   \n",
       "3             1121                 1          6                  0   \n",
       "4             1297                 0          9                  1   \n",
       "5              758                 1          0                  3   \n",
       "6              696                 1         13                  1   \n",
       "7              738                 0         13                  5   \n",
       "8              440                 1          5                  7   \n",
       "9              990                 1          5                  2   \n",
       "\n",
       "   Outlet_Size  Outlet_Location_Type  Outlet_Type  itemcode  \n",
       "0            1                     0            1         1  \n",
       "1            1                     2            2         0  \n",
       "2            1                     0            1         1  \n",
       "3            2                     2            0         1  \n",
       "4            0                     2            1         2  \n",
       "5            1                     2            2         1  \n",
       "6            0                     2            1         1  \n",
       "7            1                     2            3         1  \n",
       "8            2                     1            1         1  \n",
       "9            2                     1            1         1  "
      ]
     },
     "execution_count": 52,
     "metadata": {},
     "output_type": "execute_result"
    }
   ],
   "source": [
    "objcols_encode.head(10)"
   ]
  },
  {
   "cell_type": "code",
   "execution_count": 53,
   "id": "d3513332",
   "metadata": {},
   "outputs": [
    {
     "data": {
      "text/html": [
       "<div>\n",
       "<style scoped>\n",
       "    .dataframe tbody tr th:only-of-type {\n",
       "        vertical-align: middle;\n",
       "    }\n",
       "\n",
       "    .dataframe tbody tr th {\n",
       "        vertical-align: top;\n",
       "    }\n",
       "\n",
       "    .dataframe thead th {\n",
       "        text-align: right;\n",
       "    }\n",
       "</style>\n",
       "<table border=\"1\" class=\"dataframe\">\n",
       "  <thead>\n",
       "    <tr style=\"text-align: right;\">\n",
       "      <th></th>\n",
       "      <th>Item_Identifier</th>\n",
       "      <th>Item_Fat_Content</th>\n",
       "      <th>Item_Type</th>\n",
       "      <th>Outlet_Identifier</th>\n",
       "      <th>Outlet_Size</th>\n",
       "      <th>Outlet_Location_Type</th>\n",
       "      <th>Outlet_Type</th>\n",
       "      <th>itemcode</th>\n",
       "    </tr>\n",
       "  </thead>\n",
       "  <tbody>\n",
       "    <tr>\n",
       "      <th>0</th>\n",
       "      <td>FDA15</td>\n",
       "      <td>Low Fat</td>\n",
       "      <td>Dairy</td>\n",
       "      <td>OUT049</td>\n",
       "      <td>Medium</td>\n",
       "      <td>Tier 1</td>\n",
       "      <td>Supermarket Type1</td>\n",
       "      <td>FD</td>\n",
       "    </tr>\n",
       "    <tr>\n",
       "      <th>1</th>\n",
       "      <td>DRC01</td>\n",
       "      <td>Regular</td>\n",
       "      <td>Soft Drinks</td>\n",
       "      <td>OUT018</td>\n",
       "      <td>Medium</td>\n",
       "      <td>Tier 3</td>\n",
       "      <td>Supermarket Type2</td>\n",
       "      <td>DR</td>\n",
       "    </tr>\n",
       "    <tr>\n",
       "      <th>2</th>\n",
       "      <td>FDN15</td>\n",
       "      <td>Low Fat</td>\n",
       "      <td>Meat</td>\n",
       "      <td>OUT049</td>\n",
       "      <td>Medium</td>\n",
       "      <td>Tier 1</td>\n",
       "      <td>Supermarket Type1</td>\n",
       "      <td>FD</td>\n",
       "    </tr>\n",
       "    <tr>\n",
       "      <th>3</th>\n",
       "      <td>FDX07</td>\n",
       "      <td>Regular</td>\n",
       "      <td>Fruits and Vegetables</td>\n",
       "      <td>OUT010</td>\n",
       "      <td>Missing</td>\n",
       "      <td>Tier 3</td>\n",
       "      <td>Grocery Store</td>\n",
       "      <td>FD</td>\n",
       "    </tr>\n",
       "    <tr>\n",
       "      <th>4</th>\n",
       "      <td>NCD19</td>\n",
       "      <td>Low Fat</td>\n",
       "      <td>Household</td>\n",
       "      <td>OUT013</td>\n",
       "      <td>High</td>\n",
       "      <td>Tier 3</td>\n",
       "      <td>Supermarket Type1</td>\n",
       "      <td>NC</td>\n",
       "    </tr>\n",
       "  </tbody>\n",
       "</table>\n",
       "</div>"
      ],
      "text/plain": [
       "  Item_Identifier Item_Fat_Content              Item_Type Outlet_Identifier  \\\n",
       "0           FDA15          Low Fat                  Dairy            OUT049   \n",
       "1           DRC01          Regular            Soft Drinks            OUT018   \n",
       "2           FDN15          Low Fat                   Meat            OUT049   \n",
       "3           FDX07          Regular  Fruits and Vegetables            OUT010   \n",
       "4           NCD19          Low Fat              Household            OUT013   \n",
       "\n",
       "  Outlet_Size Outlet_Location_Type        Outlet_Type itemcode  \n",
       "0      Medium               Tier 1  Supermarket Type1       FD  \n",
       "1      Medium               Tier 3  Supermarket Type2       DR  \n",
       "2      Medium               Tier 1  Supermarket Type1       FD  \n",
       "3     Missing               Tier 3      Grocery Store       FD  \n",
       "4        High               Tier 3  Supermarket Type1       NC  "
      ]
     },
     "execution_count": 53,
     "metadata": {},
     "output_type": "execute_result"
    }
   ],
   "source": [
    "objcols.head()"
   ]
  },
  {
   "cell_type": "code",
   "execution_count": 54,
   "id": "a85c2726",
   "metadata": {},
   "outputs": [
    {
     "data": {
      "text/plain": [
       "Index(['Item_Identifier', 'Item_Fat_Content', 'Item_Type', 'Outlet_Identifier',\n",
       "       'Outlet_Size', 'Outlet_Location_Type', 'Outlet_Type', 'itemcode'],\n",
       "      dtype='object')"
      ]
     },
     "execution_count": 54,
     "metadata": {},
     "output_type": "execute_result"
    }
   ],
   "source": [
    "objcols.columns"
   ]
  },
  {
   "cell_type": "code",
   "execution_count": 55,
   "id": "82ba399b",
   "metadata": {},
   "outputs": [],
   "source": [
    "objcols_dummy=pd.get_dummies(objcols,columns=['Item_Fat_Content', 'Item_Type', 'Outlet_Identifier',\n",
    "       'Outlet_Size', 'Outlet_Location_Type', 'Outlet_Type', 'itemcode'])"
   ]
  },
  {
   "cell_type": "code",
   "execution_count": 56,
   "id": "f1f669aa",
   "metadata": {},
   "outputs": [
    {
     "name": "stdout",
     "output_type": "stream",
     "text": [
      "(14204, 8)\n",
      "(14204, 8)\n",
      "(14204, 43)\n"
     ]
    }
   ],
   "source": [
    "print(objcols.shape)\n",
    "print(objcols_encode.shape)\n",
    "print(objcols_dummy.shape)\n"
   ]
  },
  {
   "cell_type": "code",
   "execution_count": 57,
   "id": "b9e8d465",
   "metadata": {},
   "outputs": [
    {
     "data": {
      "text/html": [
       "<div>\n",
       "<style scoped>\n",
       "    .dataframe tbody tr th:only-of-type {\n",
       "        vertical-align: middle;\n",
       "    }\n",
       "\n",
       "    .dataframe tbody tr th {\n",
       "        vertical-align: top;\n",
       "    }\n",
       "\n",
       "    .dataframe thead th {\n",
       "        text-align: right;\n",
       "    }\n",
       "</style>\n",
       "<table border=\"1\" class=\"dataframe\">\n",
       "  <thead>\n",
       "    <tr style=\"text-align: right;\">\n",
       "      <th></th>\n",
       "      <th>Item_Identifier</th>\n",
       "      <th>Item_Fat_Content_Low Fat</th>\n",
       "      <th>Item_Fat_Content_Regular</th>\n",
       "      <th>Item_Type_Baking Goods</th>\n",
       "      <th>Item_Type_Breads</th>\n",
       "      <th>Item_Type_Breakfast</th>\n",
       "      <th>Item_Type_Canned</th>\n",
       "      <th>Item_Type_Dairy</th>\n",
       "      <th>Item_Type_Frozen Foods</th>\n",
       "      <th>Item_Type_Fruits and Vegetables</th>\n",
       "      <th>...</th>\n",
       "      <th>Outlet_Location_Type_Tier 1</th>\n",
       "      <th>Outlet_Location_Type_Tier 2</th>\n",
       "      <th>Outlet_Location_Type_Tier 3</th>\n",
       "      <th>Outlet_Type_Grocery Store</th>\n",
       "      <th>Outlet_Type_Supermarket Type1</th>\n",
       "      <th>Outlet_Type_Supermarket Type2</th>\n",
       "      <th>Outlet_Type_Supermarket Type3</th>\n",
       "      <th>itemcode_DR</th>\n",
       "      <th>itemcode_FD</th>\n",
       "      <th>itemcode_NC</th>\n",
       "    </tr>\n",
       "  </thead>\n",
       "  <tbody>\n",
       "    <tr>\n",
       "      <th>0</th>\n",
       "      <td>FDA15</td>\n",
       "      <td>1</td>\n",
       "      <td>0</td>\n",
       "      <td>0</td>\n",
       "      <td>0</td>\n",
       "      <td>0</td>\n",
       "      <td>0</td>\n",
       "      <td>1</td>\n",
       "      <td>0</td>\n",
       "      <td>0</td>\n",
       "      <td>...</td>\n",
       "      <td>1</td>\n",
       "      <td>0</td>\n",
       "      <td>0</td>\n",
       "      <td>0</td>\n",
       "      <td>1</td>\n",
       "      <td>0</td>\n",
       "      <td>0</td>\n",
       "      <td>0</td>\n",
       "      <td>1</td>\n",
       "      <td>0</td>\n",
       "    </tr>\n",
       "    <tr>\n",
       "      <th>1</th>\n",
       "      <td>DRC01</td>\n",
       "      <td>0</td>\n",
       "      <td>1</td>\n",
       "      <td>0</td>\n",
       "      <td>0</td>\n",
       "      <td>0</td>\n",
       "      <td>0</td>\n",
       "      <td>0</td>\n",
       "      <td>0</td>\n",
       "      <td>0</td>\n",
       "      <td>...</td>\n",
       "      <td>0</td>\n",
       "      <td>0</td>\n",
       "      <td>1</td>\n",
       "      <td>0</td>\n",
       "      <td>0</td>\n",
       "      <td>1</td>\n",
       "      <td>0</td>\n",
       "      <td>1</td>\n",
       "      <td>0</td>\n",
       "      <td>0</td>\n",
       "    </tr>\n",
       "    <tr>\n",
       "      <th>2</th>\n",
       "      <td>FDN15</td>\n",
       "      <td>1</td>\n",
       "      <td>0</td>\n",
       "      <td>0</td>\n",
       "      <td>0</td>\n",
       "      <td>0</td>\n",
       "      <td>0</td>\n",
       "      <td>0</td>\n",
       "      <td>0</td>\n",
       "      <td>0</td>\n",
       "      <td>...</td>\n",
       "      <td>1</td>\n",
       "      <td>0</td>\n",
       "      <td>0</td>\n",
       "      <td>0</td>\n",
       "      <td>1</td>\n",
       "      <td>0</td>\n",
       "      <td>0</td>\n",
       "      <td>0</td>\n",
       "      <td>1</td>\n",
       "      <td>0</td>\n",
       "    </tr>\n",
       "    <tr>\n",
       "      <th>3</th>\n",
       "      <td>FDX07</td>\n",
       "      <td>0</td>\n",
       "      <td>1</td>\n",
       "      <td>0</td>\n",
       "      <td>0</td>\n",
       "      <td>0</td>\n",
       "      <td>0</td>\n",
       "      <td>0</td>\n",
       "      <td>0</td>\n",
       "      <td>1</td>\n",
       "      <td>...</td>\n",
       "      <td>0</td>\n",
       "      <td>0</td>\n",
       "      <td>1</td>\n",
       "      <td>1</td>\n",
       "      <td>0</td>\n",
       "      <td>0</td>\n",
       "      <td>0</td>\n",
       "      <td>0</td>\n",
       "      <td>1</td>\n",
       "      <td>0</td>\n",
       "    </tr>\n",
       "    <tr>\n",
       "      <th>4</th>\n",
       "      <td>NCD19</td>\n",
       "      <td>1</td>\n",
       "      <td>0</td>\n",
       "      <td>0</td>\n",
       "      <td>0</td>\n",
       "      <td>0</td>\n",
       "      <td>0</td>\n",
       "      <td>0</td>\n",
       "      <td>0</td>\n",
       "      <td>0</td>\n",
       "      <td>...</td>\n",
       "      <td>0</td>\n",
       "      <td>0</td>\n",
       "      <td>1</td>\n",
       "      <td>0</td>\n",
       "      <td>1</td>\n",
       "      <td>0</td>\n",
       "      <td>0</td>\n",
       "      <td>0</td>\n",
       "      <td>0</td>\n",
       "      <td>1</td>\n",
       "    </tr>\n",
       "  </tbody>\n",
       "</table>\n",
       "<p>5 rows × 43 columns</p>\n",
       "</div>"
      ],
      "text/plain": [
       "  Item_Identifier  Item_Fat_Content_Low Fat  Item_Fat_Content_Regular  \\\n",
       "0           FDA15                         1                         0   \n",
       "1           DRC01                         0                         1   \n",
       "2           FDN15                         1                         0   \n",
       "3           FDX07                         0                         1   \n",
       "4           NCD19                         1                         0   \n",
       "\n",
       "   Item_Type_Baking Goods  Item_Type_Breads  Item_Type_Breakfast  \\\n",
       "0                       0                 0                    0   \n",
       "1                       0                 0                    0   \n",
       "2                       0                 0                    0   \n",
       "3                       0                 0                    0   \n",
       "4                       0                 0                    0   \n",
       "\n",
       "   Item_Type_Canned  Item_Type_Dairy  Item_Type_Frozen Foods  \\\n",
       "0                 0                1                       0   \n",
       "1                 0                0                       0   \n",
       "2                 0                0                       0   \n",
       "3                 0                0                       0   \n",
       "4                 0                0                       0   \n",
       "\n",
       "   Item_Type_Fruits and Vegetables  ...  Outlet_Location_Type_Tier 1  \\\n",
       "0                                0  ...                            1   \n",
       "1                                0  ...                            0   \n",
       "2                                0  ...                            1   \n",
       "3                                1  ...                            0   \n",
       "4                                0  ...                            0   \n",
       "\n",
       "   Outlet_Location_Type_Tier 2  Outlet_Location_Type_Tier 3  \\\n",
       "0                            0                            0   \n",
       "1                            0                            1   \n",
       "2                            0                            0   \n",
       "3                            0                            1   \n",
       "4                            0                            1   \n",
       "\n",
       "   Outlet_Type_Grocery Store  Outlet_Type_Supermarket Type1  \\\n",
       "0                          0                              1   \n",
       "1                          0                              0   \n",
       "2                          0                              1   \n",
       "3                          1                              0   \n",
       "4                          0                              1   \n",
       "\n",
       "   Outlet_Type_Supermarket Type2  Outlet_Type_Supermarket Type3  itemcode_DR  \\\n",
       "0                              0                              0            0   \n",
       "1                              1                              0            1   \n",
       "2                              0                              0            0   \n",
       "3                              0                              0            0   \n",
       "4                              0                              0            0   \n",
       "\n",
       "   itemcode_FD  itemcode_NC  \n",
       "0            1            0  \n",
       "1            0            0  \n",
       "2            1            0  \n",
       "3            1            0  \n",
       "4            0            1  \n",
       "\n",
       "[5 rows x 43 columns]"
      ]
     },
     "execution_count": 57,
     "metadata": {},
     "output_type": "execute_result"
    }
   ],
   "source": [
    "objcols_dummy.head()"
   ]
  },
  {
   "cell_type": "code",
   "execution_count": 58,
   "id": "5eca02b4",
   "metadata": {},
   "outputs": [],
   "source": [
    "numcols_df_scaled=numcols_df_scaled.reset_index()"
   ]
  },
  {
   "cell_type": "code",
   "execution_count": 59,
   "id": "12ff5727",
   "metadata": {},
   "outputs": [],
   "source": [
    "numcols_df_scaled=pd.DataFrame(numcols_df_scaled)"
   ]
  },
  {
   "cell_type": "code",
   "execution_count": 60,
   "id": "78f17f04",
   "metadata": {},
   "outputs": [],
   "source": [
    "objcols_dummy=objcols_dummy.reset_index()"
   ]
  },
  {
   "cell_type": "code",
   "execution_count": 61,
   "id": "e06c84b1",
   "metadata": {},
   "outputs": [],
   "source": [
    "bigmart_df=pd.concat([numcols_df_scaled,objcols_dummy],axis=1)"
   ]
  },
  {
   "cell_type": "code",
   "execution_count": 62,
   "id": "a556f399",
   "metadata": {},
   "outputs": [],
   "source": [
    "numcols_df=numcols_df.reset_index()"
   ]
  },
  {
   "cell_type": "code",
   "execution_count": 63,
   "id": "2420eb21",
   "metadata": {},
   "outputs": [],
   "source": [
    "bigmart_df['Item_Outlet_Sales']=numcols_df.Item_Outlet_Sales"
   ]
  },
  {
   "cell_type": "code",
   "execution_count": 64,
   "id": "8b040076",
   "metadata": {},
   "outputs": [],
   "source": [
    "#split data back to train and test\n",
    "bigmarttrain_df=bigmart_df[bigmart_df.Item_Outlet_Sales!='test']\n"
   ]
  },
  {
   "cell_type": "code",
   "execution_count": 65,
   "id": "84676251",
   "metadata": {},
   "outputs": [],
   "source": [
    "bigmarttest_df=bigmart_df[bigmart_df.Item_Outlet_Sales=='test']"
   ]
  },
  {
   "cell_type": "code",
   "execution_count": 66,
   "id": "5f747edc",
   "metadata": {},
   "outputs": [],
   "source": [
    "bigmarttest_df=bigmarttest_df.drop('Item_Outlet_Sales',axis=1)"
   ]
  },
  {
   "cell_type": "code",
   "execution_count": 67,
   "id": "23eef41b",
   "metadata": {},
   "outputs": [],
   "source": [
    "bigmarttrain_df=bigmarttrain_df.drop('index',axis=1)"
   ]
  },
  {
   "cell_type": "code",
   "execution_count": 68,
   "id": "da618bce",
   "metadata": {},
   "outputs": [],
   "source": [
    "bigmarttest_df=bigmarttest_df.drop('index',axis=1)"
   ]
  },
  {
   "cell_type": "code",
   "execution_count": 69,
   "id": "49fd800b",
   "metadata": {},
   "outputs": [],
   "source": [
    "#split data into dependent variable(y) & independent variable(x)\n",
    "y=bigmarttrain_df.Item_Outlet_Sales\n",
    "X=bigmarttrain_df.drop(['Item_Identifier','Item_Outlet_Sales'],axis=1)\n"
   ]
  },
  {
   "cell_type": "code",
   "execution_count": 70,
   "id": "ea219eb4",
   "metadata": {
    "scrolled": true
   },
   "outputs": [],
   "source": [
    "bigmarttest_df=bigmarttest_df.drop('Item_Identifier',axis=1)"
   ]
  },
  {
   "cell_type": "code",
   "execution_count": 71,
   "id": "3bbfda84",
   "metadata": {},
   "outputs": [
    {
     "name": "stdout",
     "output_type": "stream",
     "text": [
      "(8523, 46)\n",
      "(5681, 46)\n"
     ]
    }
   ],
   "source": [
    "print(X.shape)\n",
    "print(bigmarttest_df.shape)\n"
   ]
  },
  {
   "cell_type": "code",
   "execution_count": 72,
   "id": "34e065a1",
   "metadata": {},
   "outputs": [],
   "source": [
    "import seaborn as sns"
   ]
  },
  {
   "cell_type": "code",
   "execution_count": 73,
   "id": "500bc295",
   "metadata": {},
   "outputs": [
    {
     "data": {
      "text/plain": [
       "dtype('O')"
      ]
     },
     "execution_count": 73,
     "metadata": {},
     "output_type": "execute_result"
    }
   ],
   "source": [
    "y.dtype"
   ]
  },
  {
   "cell_type": "code",
   "execution_count": 74,
   "id": "3502569c",
   "metadata": {},
   "outputs": [],
   "source": [
    "y=y.astype(float)"
   ]
  },
  {
   "cell_type": "code",
   "execution_count": 75,
   "id": "5a70f86f",
   "metadata": {},
   "outputs": [
    {
     "data": {
      "text/plain": [
       "<Figure size 1500x1000 with 0 Axes>"
      ]
     },
     "metadata": {},
     "output_type": "display_data"
    },
    {
     "data": {
      "image/png": "[encoded data removed]",
      "text/plain": [
       "<Figure size 640x480 with 3 Axes>"
      ]
     },
     "metadata": {},
     "output_type": "display_data"
    }
   ],
   "source": [
    "plt.figure(figsize=(15,10))\n",
    "fig,ax=plt.subplots(3,1)\n",
    "sns.histplot(y,ax=ax[0])\n",
    "sns.boxplot(y,ax=ax[1],orient='h')\n",
    "sns.kdeplot(y,ax=ax[2])\n",
    "plt.show()\n"
   ]
  },
  {
   "cell_type": "code",
   "execution_count": 76,
   "id": "3eafb714",
   "metadata": {},
   "outputs": [
    {
     "data": {
      "text/plain": [
       "count     8523.000000\n",
       "mean      2181.288914\n",
       "std       1706.499616\n",
       "min         33.290000\n",
       "25%        834.247400\n",
       "50%       1794.331000\n",
       "75%       3101.296400\n",
       "max      13086.964800\n",
       "Name: Item_Outlet_Sales, dtype: float64"
      ]
     },
     "execution_count": 76,
     "metadata": {},
     "output_type": "execute_result"
    }
   ],
   "source": [
    "y.describe()"
   ]
  },
  {
   "cell_type": "code",
   "execution_count": 77,
   "id": "ebc80d99",
   "metadata": {},
   "outputs": [
    {
     "data": {
      "text/html": [
       "<div>\n",
       "<style scoped>\n",
       "    .dataframe tbody tr th:only-of-type {\n",
       "        vertical-align: middle;\n",
       "    }\n",
       "\n",
       "    .dataframe tbody tr th {\n",
       "        vertical-align: top;\n",
       "    }\n",
       "\n",
       "    .dataframe thead th {\n",
       "        text-align: right;\n",
       "    }\n",
       "</style>\n",
       "<table border=\"1\" class=\"dataframe\">\n",
       "  <thead>\n",
       "    <tr style=\"text-align: right;\">\n",
       "      <th></th>\n",
       "      <th>Item_Weight</th>\n",
       "      <th>Item_Visibility</th>\n",
       "      <th>Item_MRP</th>\n",
       "      <th>outlet_age</th>\n",
       "      <th>Item_Fat_Content_Low Fat</th>\n",
       "      <th>Item_Fat_Content_Regular</th>\n",
       "      <th>Item_Type_Baking Goods</th>\n",
       "      <th>Item_Type_Breads</th>\n",
       "      <th>Item_Type_Breakfast</th>\n",
       "      <th>Item_Type_Canned</th>\n",
       "      <th>...</th>\n",
       "      <th>Outlet_Location_Type_Tier 1</th>\n",
       "      <th>Outlet_Location_Type_Tier 2</th>\n",
       "      <th>Outlet_Location_Type_Tier 3</th>\n",
       "      <th>Outlet_Type_Grocery Store</th>\n",
       "      <th>Outlet_Type_Supermarket Type1</th>\n",
       "      <th>Outlet_Type_Supermarket Type2</th>\n",
       "      <th>Outlet_Type_Supermarket Type3</th>\n",
       "      <th>itemcode_DR</th>\n",
       "      <th>itemcode_FD</th>\n",
       "      <th>itemcode_NC</th>\n",
       "    </tr>\n",
       "  </thead>\n",
       "  <tbody>\n",
       "    <tr>\n",
       "      <th>0</th>\n",
       "      <td>-0.824939</td>\n",
       "      <td>-0.969852</td>\n",
       "      <td>1.752511</td>\n",
       "      <td>-0.139681</td>\n",
       "      <td>1</td>\n",
       "      <td>0</td>\n",
       "      <td>0</td>\n",
       "      <td>0</td>\n",
       "      <td>0</td>\n",
       "      <td>0</td>\n",
       "      <td>...</td>\n",
       "      <td>1</td>\n",
       "      <td>0</td>\n",
       "      <td>0</td>\n",
       "      <td>0</td>\n",
       "      <td>1</td>\n",
       "      <td>0</td>\n",
       "      <td>0</td>\n",
       "      <td>0</td>\n",
       "      <td>1</td>\n",
       "      <td>0</td>\n",
       "    </tr>\n",
       "    <tr>\n",
       "      <th>1</th>\n",
       "      <td>-1.623224</td>\n",
       "      <td>-0.907063</td>\n",
       "      <td>-1.493696</td>\n",
       "      <td>-1.334228</td>\n",
       "      <td>0</td>\n",
       "      <td>1</td>\n",
       "      <td>0</td>\n",
       "      <td>0</td>\n",
       "      <td>0</td>\n",
       "      <td>0</td>\n",
       "      <td>...</td>\n",
       "      <td>0</td>\n",
       "      <td>0</td>\n",
       "      <td>1</td>\n",
       "      <td>0</td>\n",
       "      <td>0</td>\n",
       "      <td>1</td>\n",
       "      <td>0</td>\n",
       "      <td>1</td>\n",
       "      <td>0</td>\n",
       "      <td>0</td>\n",
       "    </tr>\n",
       "    <tr>\n",
       "      <th>2</th>\n",
       "      <td>1.111729</td>\n",
       "      <td>-0.956000</td>\n",
       "      <td>0.009874</td>\n",
       "      <td>-0.139681</td>\n",
       "      <td>1</td>\n",
       "      <td>0</td>\n",
       "      <td>0</td>\n",
       "      <td>0</td>\n",
       "      <td>0</td>\n",
       "      <td>0</td>\n",
       "      <td>...</td>\n",
       "      <td>1</td>\n",
       "      <td>0</td>\n",
       "      <td>0</td>\n",
       "      <td>0</td>\n",
       "      <td>1</td>\n",
       "      <td>0</td>\n",
       "      <td>0</td>\n",
       "      <td>0</td>\n",
       "      <td>1</td>\n",
       "      <td>0</td>\n",
       "    </tr>\n",
       "    <tr>\n",
       "      <th>3</th>\n",
       "      <td>1.513233</td>\n",
       "      <td>-1.281712</td>\n",
       "      <td>0.661838</td>\n",
       "      <td>-0.020226</td>\n",
       "      <td>0</td>\n",
       "      <td>1</td>\n",
       "      <td>0</td>\n",
       "      <td>0</td>\n",
       "      <td>0</td>\n",
       "      <td>0</td>\n",
       "      <td>...</td>\n",
       "      <td>0</td>\n",
       "      <td>0</td>\n",
       "      <td>1</td>\n",
       "      <td>1</td>\n",
       "      <td>0</td>\n",
       "      <td>0</td>\n",
       "      <td>0</td>\n",
       "      <td>0</td>\n",
       "      <td>1</td>\n",
       "      <td>0</td>\n",
       "    </tr>\n",
       "    <tr>\n",
       "      <th>4</th>\n",
       "      <td>-0.912325</td>\n",
       "      <td>-1.281712</td>\n",
       "      <td>-1.403623</td>\n",
       "      <td>1.293777</td>\n",
       "      <td>1</td>\n",
       "      <td>0</td>\n",
       "      <td>0</td>\n",
       "      <td>0</td>\n",
       "      <td>0</td>\n",
       "      <td>0</td>\n",
       "      <td>...</td>\n",
       "      <td>0</td>\n",
       "      <td>0</td>\n",
       "      <td>1</td>\n",
       "      <td>0</td>\n",
       "      <td>1</td>\n",
       "      <td>0</td>\n",
       "      <td>0</td>\n",
       "      <td>0</td>\n",
       "      <td>0</td>\n",
       "      <td>1</td>\n",
       "    </tr>\n",
       "  </tbody>\n",
       "</table>\n",
       "<p>5 rows × 46 columns</p>\n",
       "</div>"
      ],
      "text/plain": [
       "   Item_Weight  Item_Visibility  Item_MRP  outlet_age  \\\n",
       "0    -0.824939        -0.969852  1.752511   -0.139681   \n",
       "1    -1.623224        -0.907063 -1.493696   -1.334228   \n",
       "2     1.111729        -0.956000  0.009874   -0.139681   \n",
       "3     1.513233        -1.281712  0.661838   -0.020226   \n",
       "4    -0.912325        -1.281712 -1.403623    1.293777   \n",
       "\n",
       "   Item_Fat_Content_Low Fat  Item_Fat_Content_Regular  Item_Type_Baking Goods  \\\n",
       "0                         1                         0                       0   \n",
       "1                         0                         1                       0   \n",
       "2                         1                         0                       0   \n",
       "3                         0                         1                       0   \n",
       "4                         1                         0                       0   \n",
       "\n",
       "   Item_Type_Breads  Item_Type_Breakfast  Item_Type_Canned  ...  \\\n",
       "0                 0                    0                 0  ...   \n",
       "1                 0                    0                 0  ...   \n",
       "2                 0                    0                 0  ...   \n",
       "3                 0                    0                 0  ...   \n",
       "4                 0                    0                 0  ...   \n",
       "\n",
       "   Outlet_Location_Type_Tier 1  Outlet_Location_Type_Tier 2  \\\n",
       "0                            1                            0   \n",
       "1                            0                            0   \n",
       "2                            1                            0   \n",
       "3                            0                            0   \n",
       "4                            0                            0   \n",
       "\n",
       "   Outlet_Location_Type_Tier 3  Outlet_Type_Grocery Store  \\\n",
       "0                            0                          0   \n",
       "1                            1                          0   \n",
       "2                            0                          0   \n",
       "3                            1                          1   \n",
       "4                            1                          0   \n",
       "\n",
       "   Outlet_Type_Supermarket Type1  Outlet_Type_Supermarket Type2  \\\n",
       "0                              1                              0   \n",
       "1                              0                              1   \n",
       "2                              1                              0   \n",
       "3                              0                              0   \n",
       "4                              1                              0   \n",
       "\n",
       "   Outlet_Type_Supermarket Type3  itemcode_DR  itemcode_FD  itemcode_NC  \n",
       "0                              0            0            1            0  \n",
       "1                              0            1            0            0  \n",
       "2                              0            0            1            0  \n",
       "3                              0            0            1            0  \n",
       "4                              0            0            0            1  \n",
       "\n",
       "[5 rows x 46 columns]"
      ]
     },
     "execution_count": 77,
     "metadata": {},
     "output_type": "execute_result"
    }
   ],
   "source": [
    "X.head()"
   ]
  },
  {
   "cell_type": "code",
   "execution_count": 78,
   "id": "56b04dc8",
   "metadata": {},
   "outputs": [],
   "source": [
    "from sklearn.linear_model import LinearRegression"
   ]
  },
  {
   "cell_type": "code",
   "execution_count": 79,
   "id": "88d94e42",
   "metadata": {},
   "outputs": [],
   "source": [
    "reg=LinearRegression()"
   ]
  },
  {
   "cell_type": "code",
   "execution_count": 80,
   "id": "6f882e57",
   "metadata": {},
   "outputs": [],
   "source": [
    "regmodel=reg.fit(X,y)"
   ]
  },
  {
   "cell_type": "code",
   "execution_count": 81,
   "id": "9aad8c1b",
   "metadata": {},
   "outputs": [
    {
     "data": {
      "text/plain": [
       "0.5637165775578303"
      ]
     },
     "execution_count": 81,
     "metadata": {},
     "output_type": "execute_result"
    }
   ],
   "source": [
    "regmodel.score(X,y)  # less then 0.60-model is underfitting"
   ]
  },
  {
   "cell_type": "code",
   "execution_count": 82,
   "id": "762ecae9",
   "metadata": {},
   "outputs": [],
   "source": [
    "regmodel2=reg.fit(X,np.log(y))  #lograthemic transformation of y"
   ]
  },
  {
   "cell_type": "code",
   "execution_count": 83,
   "id": "4cd6a674",
   "metadata": {},
   "outputs": [
    {
     "data": {
      "text/plain": [
       "0.7213095357155783"
      ]
     },
     "execution_count": 83,
     "metadata": {},
     "output_type": "execute_result"
    }
   ],
   "source": [
    "regmodel2.score(X,np.log(y))  #not underfitting"
   ]
  },
  {
   "cell_type": "code",
   "execution_count": 84,
   "id": "8d1371cb",
   "metadata": {},
   "outputs": [],
   "source": [
    "regmodel2_predict=np.exp(regmodel2.predict(X))"
   ]
  },
  {
   "cell_type": "code",
   "execution_count": 85,
   "id": "1f5ba5d2",
   "metadata": {},
   "outputs": [],
   "source": [
    "regmodel_predict=regmodel.predict(X)"
   ]
  },
  {
   "cell_type": "code",
   "execution_count": 86,
   "id": "90f5bc6a",
   "metadata": {},
   "outputs": [],
   "source": [
    "regmodel2_resid=y-regmodel2_predict"
   ]
  },
  {
   "cell_type": "code",
   "execution_count": 87,
   "id": "2a8ca4f0",
   "metadata": {},
   "outputs": [],
   "source": [
    "regmodel_resid=y-regmodel_predict"
   ]
  },
  {
   "cell_type": "code",
   "execution_count": 88,
   "id": "5d870f27",
   "metadata": {},
   "outputs": [
    {
     "data": {
      "text/plain": [
       "1140.6706035768889"
      ]
     },
     "execution_count": 88,
     "metadata": {},
     "output_type": "execute_result"
    }
   ],
   "source": [
    "np.sqrt(np.mean(regmodel2_resid**2))  #RMSE with log transform"
   ]
  },
  {
   "cell_type": "code",
   "execution_count": 89,
   "id": "3452d00a",
   "metadata": {},
   "outputs": [
    {
     "data": {
      "text/plain": [
       "2763.3208196202054"
      ]
     },
     "execution_count": 89,
     "metadata": {},
     "output_type": "execute_result"
    }
   ],
   "source": [
    "np.sqrt(np.mean(regmodel_resid**2)) #RMSE without log transform"
   ]
  },
  {
   "cell_type": "code",
   "execution_count": 90,
   "id": "72140c88",
   "metadata": {},
   "outputs": [],
   "source": [
    "#prediction on test data which didnt have dependent variable\n",
    "reg_test_predict=regmodel2.predict(bigmarttest_df) "
   ]
  },
  {
   "cell_type": "code",
   "execution_count": 91,
   "id": "575808f7",
   "metadata": {},
   "outputs": [],
   "source": [
    "reg_test_predict=np.exp(reg_test_predict)"
   ]
  },
  {
   "cell_type": "code",
   "execution_count": 92,
   "id": "b8f70913",
   "metadata": {},
   "outputs": [
    {
     "data": {
      "text/plain": [
       "array([1441.49709238, 1134.76366947,  586.41248279, ..., 1458.48900396,\n",
       "       3655.91456001, 1091.29155597])"
      ]
     },
     "execution_count": 92,
     "metadata": {},
     "output_type": "execute_result"
    }
   ],
   "source": [
    "reg_test_predict"
   ]
  },
  {
   "cell_type": "code",
   "execution_count": 93,
   "id": "14de9eb6",
   "metadata": {},
   "outputs": [],
   "source": [
    "pd.DataFrame(reg_test_predict).to_csv(\"reg.csv\")"
   ]
  },
  {
   "cell_type": "code",
   "execution_count": 94,
   "id": "3e859aa2",
   "metadata": {},
   "outputs": [],
   "source": [
    "from sklearn.tree import DecisionTreeRegressor"
   ]
  },
  {
   "cell_type": "code",
   "execution_count": 95,
   "id": "4184e16d",
   "metadata": {},
   "outputs": [],
   "source": [
    "tree=DecisionTreeRegressor(max_depth=8) #dont go max depth above 12 and below 6"
   ]
  },
  {
   "cell_type": "code",
   "execution_count": 96,
   "id": "fa56c858",
   "metadata": {},
   "outputs": [],
   "source": [
    "treemodel=tree.fit(X,np.log(y))"
   ]
  },
  {
   "cell_type": "code",
   "execution_count": 97,
   "id": "71b01891",
   "metadata": {},
   "outputs": [
    {
     "data": {
      "text/plain": [
       "0.767890355332978"
      ]
     },
     "execution_count": 97,
     "metadata": {},
     "output_type": "execute_result"
    }
   ],
   "source": [
    "treemodel.score(X,np.log(y))  #Adjusted R square.Its overfitting"
   ]
  },
  {
   "cell_type": "code",
   "execution_count": 98,
   "id": "a9a88d4e",
   "metadata": {},
   "outputs": [],
   "source": [
    "from sklearn.model_selection import cross_val_score"
   ]
  },
  {
   "cell_type": "code",
   "execution_count": 99,
   "id": "1094a213",
   "metadata": {},
   "outputs": [
    {
     "data": {
      "text/plain": [
       "array([0.69650904, 0.68442676, 0.68605046, 0.68595948, 0.7273037 ])"
      ]
     },
     "execution_count": 99,
     "metadata": {},
     "output_type": "execute_result"
    }
   ],
   "source": [
    "cross_val_score(tree,X,np.log(y))"
   ]
  },
  {
   "cell_type": "code",
   "execution_count": 100,
   "id": "60876ddc",
   "metadata": {},
   "outputs": [],
   "source": [
    "tree_test_pred=treemodel.predict(bigmarttest_df)"
   ]
  },
  {
   "cell_type": "code",
   "execution_count": 101,
   "id": "60d9d12b",
   "metadata": {},
   "outputs": [],
   "source": [
    "tree_test_pred=np.exp(tree_test_pred)"
   ]
  },
  {
   "cell_type": "code",
   "execution_count": 102,
   "id": "baa73d45",
   "metadata": {},
   "outputs": [],
   "source": [
    "pd.DataFrame(tree_test_pred).to_csv(\"tree.csv\")"
   ]
  },
  {
   "cell_type": "code",
   "execution_count": 103,
   "id": "2061bdd4",
   "metadata": {},
   "outputs": [],
   "source": [
    "#Randomforest"
   ]
  },
  {
   "cell_type": "code",
   "execution_count": 104,
   "id": "db686cca",
   "metadata": {},
   "outputs": [],
   "source": [
    "from sklearn.ensemble import RandomForestRegressor"
   ]
  },
  {
   "cell_type": "code",
   "execution_count": 130,
   "id": "6076d1ad",
   "metadata": {},
   "outputs": [],
   "source": [
    "rf=RandomForestRegressor(n_estimators=1000,max_depth=8)"
   ]
  },
  {
   "cell_type": "code",
   "execution_count": 131,
   "id": "9ce8a925",
   "metadata": {},
   "outputs": [],
   "source": [
    "rfmodel=rf.fit(X,np.log(y))"
   ]
  },
  {
   "cell_type": "code",
   "execution_count": 132,
   "id": "2d5f6ac8",
   "metadata": {},
   "outputs": [
    {
     "data": {
      "text/plain": [
       "0.7794286545181052"
      ]
     },
     "execution_count": 132,
     "metadata": {},
     "output_type": "execute_result"
    }
   ],
   "source": [
    "rfmodel.score(X,np.log(y))"
   ]
  },
  {
   "cell_type": "code",
   "execution_count": 134,
   "id": "9e5d1515",
   "metadata": {},
   "outputs": [
    {
     "data": {
      "text/plain": [
       "array([0.72774248, 0.72128037, 0.72496482, 0.72212713, 0.75335792])"
      ]
     },
     "execution_count": 134,
     "metadata": {},
     "output_type": "execute_result"
    }
   ],
   "source": [
    "cross_val_score(rf,X,np.log(y))"
   ]
  },
  {
   "cell_type": "code",
   "execution_count": 148,
   "id": "df5f7335",
   "metadata": {},
   "outputs": [],
   "source": [
    "rf_predict=rfmodel.predict(X)"
   ]
  },
  {
   "cell_type": "code",
   "execution_count": 149,
   "id": "8ca2cdbd",
   "metadata": {},
   "outputs": [],
   "source": [
    "rf_resid=y-rf_predict"
   ]
  },
  {
   "cell_type": "code",
   "execution_count": 150,
   "id": "8c3e92ca",
   "metadata": {},
   "outputs": [
    {
     "data": {
      "text/plain": [
       "2763.311494143414"
      ]
     },
     "execution_count": 150,
     "metadata": {},
     "output_type": "execute_result"
    }
   ],
   "source": [
    "np.sqrt(np.mean(rf_resid**2))"
   ]
  },
  {
   "cell_type": "code",
   "execution_count": 151,
   "id": "fb332998",
   "metadata": {},
   "outputs": [],
   "source": [
    "rf_test_predict=rfmodel.predict(bigmarttest_df)"
   ]
  },
  {
   "cell_type": "code",
   "execution_count": 152,
   "id": "f465f6c6",
   "metadata": {},
   "outputs": [],
   "source": [
    "rf_test_predict=np.exp(rf_test_predict)"
   ]
  },
  {
   "cell_type": "code",
   "execution_count": 153,
   "id": "044d24c2",
   "metadata": {},
   "outputs": [],
   "source": [
    "pd.DataFrame(rf_test_predict).to_csv(\"bigmart_rf.csv\")"
   ]
  },
  {
   "cell_type": "code",
   "execution_count": null,
   "id": "1696be7b",
   "metadata": {},
   "outputs": [],
   "source": []
  }
 ],
 "metadata": {
  "kernelspec": {
   "display_name": "Python 3 (ipykernel)",
   "language": "python",
   "name": "python3"
  },
  "language_info": {
   "codemirror_mode": {
    "name": "ipython",
    "version": 3
   },
   "file_extension": ".py",
   "mimetype": "text/x-python",
   "name": "python",
   "nbconvert_exporter": "python",
   "pygments_lexer": "ipython3",
   "version": "3.9.16"
  }
 },
 "nbformat": 4,
 "nbformat_minor": 5
}
