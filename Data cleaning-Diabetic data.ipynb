{
 "cells": [
  {
   "cell_type": "code",
   "execution_count": 1,
   "id": "a2b3d60e",
   "metadata": {},
   "outputs": [],
   "source": [
    "import pandas as pd\n",
    "import numpy as np\n",
    "import matplotlib.pyplot as plt\n",
    "%matplotlib inline"
   ]
  },
  {
   "cell_type": "code",
   "execution_count": 2,
   "id": "4f37737e",
   "metadata": {},
   "outputs": [
    {
     "name": "stdout",
     "output_type": "stream",
     "text": [
      "C:\\Users\\chkee\\Downloads\\Imarticus Learning\\Python\n"
     ]
    }
   ],
   "source": [
    "import io\n",
    "%cd \"C:\\Users\\chkee\\Downloads\\Imarticus Learning\\Python\""
   ]
  },
  {
   "cell_type": "code",
   "execution_count": 3,
   "id": "53fd5eae",
   "metadata": {},
   "outputs": [],
   "source": [
    "metabolicdata=pd.read_excel(\"metabolic_syndrome multinomial dataset.xlsx\")"
   ]
  },
  {
   "cell_type": "code",
   "execution_count": 4,
   "id": "e661c4b3",
   "metadata": {},
   "outputs": [
    {
     "name": "stdout",
     "output_type": "stream",
     "text": [
      "<class 'pandas.core.frame.DataFrame'>\n",
      "RangeIndex: 4340 entries, 0 to 4339\n",
      "Data columns (total 21 columns):\n",
      " #   Column    Non-Null Count  Dtype  \n",
      "---  ------    --------------  -----  \n",
      " 0   codesub   4340 non-null   object \n",
      " 1   age       4340 non-null   int64  \n",
      " 2   hpt       4340 non-null   object \n",
      " 3   smoking   4340 non-null   object \n",
      " 4   dmdx      4340 non-null   object \n",
      " 5   height    4339 non-null   float64\n",
      " 6   weight    4338 non-null   float64\n",
      " 7   waist     4338 non-null   float64\n",
      " 8   hip       4338 non-null   float64\n",
      " 9   msbpr     4340 non-null   float64\n",
      " 10  mdbpr     4340 non-null   float64\n",
      " 11  hba1c     4270 non-null   float64\n",
      " 12  fbs       4092 non-null   float64\n",
      " 13  mogtt1h   3736 non-null   float64\n",
      " 14  mogtt2h   3732 non-null   float64\n",
      " 15  totchol   4286 non-null   float64\n",
      " 16  ftrigliz  4287 non-null   float64\n",
      " 17  hdl       4288 non-null   float64\n",
      " 18  ldl       4287 non-null   float64\n",
      " 19  gender    4340 non-null   object \n",
      " 20  crural    4340 non-null   object \n",
      "dtypes: float64(14), int64(1), object(6)\n",
      "memory usage: 712.2+ KB\n"
     ]
    }
   ],
   "source": [
    "metabolicdata.info()\n",
    "#hba1c is the dependent variable"
   ]
  },
  {
   "cell_type": "code",
   "execution_count": 5,
   "id": "6f60cec1",
   "metadata": {},
   "outputs": [],
   "source": [
    "#separate num and non num cols in preprocessing\n",
    "numcols=metabolicdata.select_dtypes(include=np.number)\n",
    "objcols=metabolicdata.select_dtypes(include=['object'])"
   ]
  },
  {
   "cell_type": "code",
   "execution_count": 6,
   "id": "88a6b6bd",
   "metadata": {},
   "outputs": [
    {
     "data": {
      "text/html": [
       "<div>\n",
       "<style scoped>\n",
       "    .dataframe tbody tr th:only-of-type {\n",
       "        vertical-align: middle;\n",
       "    }\n",
       "\n",
       "    .dataframe tbody tr th {\n",
       "        vertical-align: top;\n",
       "    }\n",
       "\n",
       "    .dataframe thead th {\n",
       "        text-align: right;\n",
       "    }\n",
       "</style>\n",
       "<table border=\"1\" class=\"dataframe\">\n",
       "  <thead>\n",
       "    <tr style=\"text-align: right;\">\n",
       "      <th></th>\n",
       "      <th>age</th>\n",
       "      <th>height</th>\n",
       "      <th>weight</th>\n",
       "      <th>waist</th>\n",
       "      <th>hip</th>\n",
       "      <th>msbpr</th>\n",
       "      <th>mdbpr</th>\n",
       "      <th>hba1c</th>\n",
       "      <th>fbs</th>\n",
       "      <th>mogtt1h</th>\n",
       "      <th>mogtt2h</th>\n",
       "      <th>totchol</th>\n",
       "      <th>ftrigliz</th>\n",
       "      <th>hdl</th>\n",
       "      <th>ldl</th>\n",
       "    </tr>\n",
       "  </thead>\n",
       "  <tbody>\n",
       "    <tr>\n",
       "      <th>count</th>\n",
       "      <td>4340.000000</td>\n",
       "      <td>4339.000000</td>\n",
       "      <td>4338.000000</td>\n",
       "      <td>4338.000000</td>\n",
       "      <td>4338.000000</td>\n",
       "      <td>4340.000000</td>\n",
       "      <td>4340.000000</td>\n",
       "      <td>4270.000000</td>\n",
       "      <td>4092.000000</td>\n",
       "      <td>3736.00000</td>\n",
       "      <td>3732.000000</td>\n",
       "      <td>4286.000000</td>\n",
       "      <td>4287.000000</td>\n",
       "      <td>4288.000000</td>\n",
       "      <td>4287.000000</td>\n",
       "    </tr>\n",
       "    <tr>\n",
       "      <th>mean</th>\n",
       "      <td>47.841244</td>\n",
       "      <td>1.567534</td>\n",
       "      <td>63.751814</td>\n",
       "      <td>86.323642</td>\n",
       "      <td>97.883806</td>\n",
       "      <td>133.537002</td>\n",
       "      <td>78.467108</td>\n",
       "      <td>5.805199</td>\n",
       "      <td>5.733876</td>\n",
       "      <td>9.10625</td>\n",
       "      <td>7.343365</td>\n",
       "      <td>5.791594</td>\n",
       "      <td>1.533944</td>\n",
       "      <td>1.345406</td>\n",
       "      <td>3.549153</td>\n",
       "    </tr>\n",
       "    <tr>\n",
       "      <th>std</th>\n",
       "      <td>14.514511</td>\n",
       "      <td>0.085950</td>\n",
       "      <td>14.170264</td>\n",
       "      <td>12.942197</td>\n",
       "      <td>10.583373</td>\n",
       "      <td>23.429004</td>\n",
       "      <td>12.053125</td>\n",
       "      <td>1.448404</td>\n",
       "      <td>2.551954</td>\n",
       "      <td>3.85036</td>\n",
       "      <td>3.716139</td>\n",
       "      <td>1.279834</td>\n",
       "      <td>1.052120</td>\n",
       "      <td>0.360008</td>\n",
       "      <td>1.122977</td>\n",
       "    </tr>\n",
       "    <tr>\n",
       "      <th>min</th>\n",
       "      <td>18.000000</td>\n",
       "      <td>1.270000</td>\n",
       "      <td>30.000000</td>\n",
       "      <td>50.800000</td>\n",
       "      <td>61.000000</td>\n",
       "      <td>68.500000</td>\n",
       "      <td>41.500000</td>\n",
       "      <td>0.200000</td>\n",
       "      <td>2.500000</td>\n",
       "      <td>0.16000</td>\n",
       "      <td>0.160000</td>\n",
       "      <td>0.180000</td>\n",
       "      <td>0.110000</td>\n",
       "      <td>0.080000</td>\n",
       "      <td>0.140000</td>\n",
       "    </tr>\n",
       "    <tr>\n",
       "      <th>25%</th>\n",
       "      <td>38.000000</td>\n",
       "      <td>1.510000</td>\n",
       "      <td>53.800000</td>\n",
       "      <td>77.000000</td>\n",
       "      <td>91.000000</td>\n",
       "      <td>117.000000</td>\n",
       "      <td>70.000000</td>\n",
       "      <td>5.100000</td>\n",
       "      <td>4.480000</td>\n",
       "      <td>6.54000</td>\n",
       "      <td>5.150000</td>\n",
       "      <td>4.970000</td>\n",
       "      <td>0.930000</td>\n",
       "      <td>1.110000</td>\n",
       "      <td>2.790000</td>\n",
       "    </tr>\n",
       "    <tr>\n",
       "      <th>50%</th>\n",
       "      <td>48.000000</td>\n",
       "      <td>1.560000</td>\n",
       "      <td>62.000000</td>\n",
       "      <td>86.000000</td>\n",
       "      <td>97.000000</td>\n",
       "      <td>130.000000</td>\n",
       "      <td>77.500000</td>\n",
       "      <td>5.400000</td>\n",
       "      <td>5.180000</td>\n",
       "      <td>8.59000</td>\n",
       "      <td>6.600000</td>\n",
       "      <td>5.700000</td>\n",
       "      <td>1.260000</td>\n",
       "      <td>1.320000</td>\n",
       "      <td>3.460000</td>\n",
       "    </tr>\n",
       "    <tr>\n",
       "      <th>75%</th>\n",
       "      <td>58.000000</td>\n",
       "      <td>1.630000</td>\n",
       "      <td>71.975000</td>\n",
       "      <td>95.000000</td>\n",
       "      <td>104.000000</td>\n",
       "      <td>146.500000</td>\n",
       "      <td>86.000000</td>\n",
       "      <td>5.800000</td>\n",
       "      <td>6.020000</td>\n",
       "      <td>10.84000</td>\n",
       "      <td>8.410000</td>\n",
       "      <td>6.530000</td>\n",
       "      <td>1.770000</td>\n",
       "      <td>1.540000</td>\n",
       "      <td>4.245000</td>\n",
       "    </tr>\n",
       "    <tr>\n",
       "      <th>max</th>\n",
       "      <td>89.000000</td>\n",
       "      <td>1.960000</td>\n",
       "      <td>187.800000</td>\n",
       "      <td>154.500000</td>\n",
       "      <td>160.000000</td>\n",
       "      <td>237.000000</td>\n",
       "      <td>128.500000</td>\n",
       "      <td>15.000000</td>\n",
       "      <td>28.010000</td>\n",
       "      <td>41.50000</td>\n",
       "      <td>37.370000</td>\n",
       "      <td>23.140000</td>\n",
       "      <td>12.660000</td>\n",
       "      <td>4.430000</td>\n",
       "      <td>10.560000</td>\n",
       "    </tr>\n",
       "  </tbody>\n",
       "</table>\n",
       "</div>"
      ],
      "text/plain": [
       "               age       height       weight        waist          hip  \\\n",
       "count  4340.000000  4339.000000  4338.000000  4338.000000  4338.000000   \n",
       "mean     47.841244     1.567534    63.751814    86.323642    97.883806   \n",
       "std      14.514511     0.085950    14.170264    12.942197    10.583373   \n",
       "min      18.000000     1.270000    30.000000    50.800000    61.000000   \n",
       "25%      38.000000     1.510000    53.800000    77.000000    91.000000   \n",
       "50%      48.000000     1.560000    62.000000    86.000000    97.000000   \n",
       "75%      58.000000     1.630000    71.975000    95.000000   104.000000   \n",
       "max      89.000000     1.960000   187.800000   154.500000   160.000000   \n",
       "\n",
       "             msbpr        mdbpr        hba1c          fbs     mogtt1h  \\\n",
       "count  4340.000000  4340.000000  4270.000000  4092.000000  3736.00000   \n",
       "mean    133.537002    78.467108     5.805199     5.733876     9.10625   \n",
       "std      23.429004    12.053125     1.448404     2.551954     3.85036   \n",
       "min      68.500000    41.500000     0.200000     2.500000     0.16000   \n",
       "25%     117.000000    70.000000     5.100000     4.480000     6.54000   \n",
       "50%     130.000000    77.500000     5.400000     5.180000     8.59000   \n",
       "75%     146.500000    86.000000     5.800000     6.020000    10.84000   \n",
       "max     237.000000   128.500000    15.000000    28.010000    41.50000   \n",
       "\n",
       "           mogtt2h      totchol     ftrigliz          hdl          ldl  \n",
       "count  3732.000000  4286.000000  4287.000000  4288.000000  4287.000000  \n",
       "mean      7.343365     5.791594     1.533944     1.345406     3.549153  \n",
       "std       3.716139     1.279834     1.052120     0.360008     1.122977  \n",
       "min       0.160000     0.180000     0.110000     0.080000     0.140000  \n",
       "25%       5.150000     4.970000     0.930000     1.110000     2.790000  \n",
       "50%       6.600000     5.700000     1.260000     1.320000     3.460000  \n",
       "75%       8.410000     6.530000     1.770000     1.540000     4.245000  \n",
       "max      37.370000    23.140000    12.660000     4.430000    10.560000  "
      ]
     },
     "execution_count": 6,
     "metadata": {},
     "output_type": "execute_result"
    }
   ],
   "source": [
    "numcols.describe()\n",
    "#check mean and median they should be near\n",
    "#check if there are categorical var in numerical var\n",
    "# we can check above stat by-min=0 and max=1 then its categoric var."
   ]
  },
  {
   "cell_type": "code",
   "execution_count": 7,
   "id": "498d5f80",
   "metadata": {},
   "outputs": [],
   "source": [
    "#impute the missing columns-height,weight,waist,hip,hba1c,fbs,mogtt1h,mogtt2h,totchol,ftrigliz,hdl,ldl\n",
    "numcols.weight=numcols.weight.fillna(numcols.weight.mean())"
   ]
  },
  {
   "cell_type": "code",
   "execution_count": 8,
   "id": "008de241",
   "metadata": {},
   "outputs": [],
   "source": [
    "numcols.height=numcols.height.fillna(numcols.height.mean())"
   ]
  },
  {
   "cell_type": "code",
   "execution_count": 9,
   "id": "30a0f38b",
   "metadata": {},
   "outputs": [],
   "source": [
    "numcols.waist=numcols.waist.fillna(numcols.waist.mean())"
   ]
  },
  {
   "cell_type": "code",
   "execution_count": 10,
   "id": "48f0736c",
   "metadata": {},
   "outputs": [],
   "source": [
    "numcols.hip=numcols.hip.fillna(numcols.hip.mean())"
   ]
  },
  {
   "cell_type": "code",
   "execution_count": 11,
   "id": "f7df2a4f",
   "metadata": {},
   "outputs": [],
   "source": [
    "numcols.hba1c=numcols.hba1c.fillna(numcols.hba1c.mean())"
   ]
  },
  {
   "cell_type": "code",
   "execution_count": 12,
   "id": "18fde614",
   "metadata": {},
   "outputs": [],
   "source": [
    "numcols.fbs=numcols.fbs.fillna(numcols.fbs.mean())"
   ]
  },
  {
   "cell_type": "code",
   "execution_count": 13,
   "id": "447ba81f",
   "metadata": {},
   "outputs": [],
   "source": [
    "numcols.mogtt1h=numcols.mogtt1h.fillna(numcols.mogtt1h.mean())"
   ]
  },
  {
   "cell_type": "code",
   "execution_count": 14,
   "id": "d8583b43",
   "metadata": {},
   "outputs": [],
   "source": [
    "numcols.mogtt2h=numcols.mogtt2h.fillna(numcols.mogtt2h.mean())"
   ]
  },
  {
   "cell_type": "code",
   "execution_count": 15,
   "id": "1a830a5b",
   "metadata": {},
   "outputs": [],
   "source": [
    "numcols.totchol=numcols.totchol.fillna(numcols.totchol.mean())"
   ]
  },
  {
   "cell_type": "code",
   "execution_count": 16,
   "id": "f6d67891",
   "metadata": {},
   "outputs": [],
   "source": [
    "numcols.ftrigliz=numcols.ftrigliz.fillna(numcols.ftrigliz.mean())"
   ]
  },
  {
   "cell_type": "code",
   "execution_count": 17,
   "id": "429079df",
   "metadata": {},
   "outputs": [],
   "source": [
    "numcols.hdl=numcols.hdl.fillna(numcols.hdl.mean())"
   ]
  },
  {
   "cell_type": "code",
   "execution_count": 18,
   "id": "e0bf4c53",
   "metadata": {},
   "outputs": [],
   "source": [
    "numcols.ldl=numcols.ldl.fillna(numcols.ldl.mean())"
   ]
  },
  {
   "cell_type": "code",
   "execution_count": 19,
   "id": "89c362ea",
   "metadata": {},
   "outputs": [],
   "source": [
    "#for imputing the missing columns at a time we use for loop\n",
    "#syntax-dfname.colname=df.colname.fillna(dfname.colname.mean()/median())"
   ]
  },
  {
   "attachments": {
    "image.png": {
     "image/png": "[encoded data removed]"
    }
   },
   "cell_type": "markdown",
   "id": "f038aa15",
   "metadata": {},
   "source": [
    "![image.png](attachment:image.png)"
   ]
  },
  {
   "cell_type": "code",
   "execution_count": 20,
   "id": "72c48f1a",
   "metadata": {},
   "outputs": [],
   "source": [
    "#in the statement of loop we use i\n",
    "for i in numcols.columns:\n",
    "    numcols[i]=numcols[i].fillna(numcols[i].mean())"
   ]
  },
  {
   "cell_type": "code",
   "execution_count": 21,
   "id": "7e39c399",
   "metadata": {},
   "outputs": [
    {
     "data": {
      "text/plain": [
       "Index(['codesub', 'hpt', 'smoking', 'dmdx', 'gender', 'crural'], dtype='object')"
      ]
     },
     "execution_count": 21,
     "metadata": {},
     "output_type": "execute_result"
    }
   ],
   "source": [
    "objcols.columns"
   ]
  },
  {
   "cell_type": "code",
   "execution_count": 22,
   "id": "6cec85a7",
   "metadata": {},
   "outputs": [
    {
     "data": {
      "text/plain": [
       "no     3836\n",
       "yes     504\n",
       "Name: hpt, dtype: int64"
      ]
     },
     "execution_count": 22,
     "metadata": {},
     "output_type": "execute_result"
    }
   ],
   "source": [
    "objcols.hpt.value_counts()"
   ]
  },
  {
   "cell_type": "code",
   "execution_count": 23,
   "id": "96066571",
   "metadata": {},
   "outputs": [
    {
     "data": {
      "text/plain": [
       "never smoked       3307\n",
       "still smoking       698\n",
       "quitted smoking     335\n",
       "Name: smoking, dtype: int64"
      ]
     },
     "execution_count": 23,
     "metadata": {},
     "output_type": "execute_result"
    }
   ],
   "source": [
    "objcols.smoking.value_counts()"
   ]
  },
  {
   "cell_type": "code",
   "execution_count": 24,
   "id": "b82e079c",
   "metadata": {},
   "outputs": [
    {
     "data": {
      "text/plain": [
       "no     3870\n",
       "yes     470\n",
       "Name: dmdx, dtype: int64"
      ]
     },
     "execution_count": 24,
     "metadata": {},
     "output_type": "execute_result"
    }
   ],
   "source": [
    "objcols.dmdx.value_counts()"
   ]
  },
  {
   "cell_type": "code",
   "execution_count": 25,
   "id": "64e3af0a",
   "metadata": {},
   "outputs": [
    {
     "data": {
      "text/plain": [
       "female    2817\n",
       "male      1523\n",
       "Name: gender, dtype: int64"
      ]
     },
     "execution_count": 25,
     "metadata": {},
     "output_type": "execute_result"
    }
   ],
   "source": [
    "objcols.gender.value_counts()"
   ]
  },
  {
   "cell_type": "code",
   "execution_count": 26,
   "id": "441505ad",
   "metadata": {},
   "outputs": [
    {
     "data": {
      "text/plain": [
       "urban    2218\n",
       "rural    2122\n",
       "Name: crural, dtype: int64"
      ]
     },
     "execution_count": 26,
     "metadata": {},
     "output_type": "execute_result"
    }
   ],
   "source": [
    "objcols.crural.value_counts()"
   ]
  },
  {
   "cell_type": "code",
   "execution_count": 27,
   "id": "ba33005e",
   "metadata": {},
   "outputs": [],
   "source": [
    "#Drop the dependent variable\n",
    "numcols1=numcols.drop('hba1c',axis=1)"
   ]
  },
  {
   "cell_type": "code",
   "execution_count": 28,
   "id": "100c93a9",
   "metadata": {},
   "outputs": [
    {
     "data": {
      "text/plain": [
       "Index(['age', 'height', 'weight', 'waist', 'hip', 'msbpr', 'mdbpr', 'fbs',\n",
       "       'mogtt1h', 'mogtt2h', 'totchol', 'ftrigliz', 'hdl', 'ldl'],\n",
       "      dtype='object')"
      ]
     },
     "execution_count": 28,
     "metadata": {},
     "output_type": "execute_result"
    }
   ],
   "source": [
    "numcols1.columns"
   ]
  },
  {
   "cell_type": "code",
   "execution_count": 29,
   "id": "c9b3fa8d",
   "metadata": {},
   "outputs": [
    {
     "ename": "NameError",
     "evalue": "name 'sns' is not defined",
     "output_type": "error",
     "traceback": [
      "\u001b[1;31m---------------------------------------------------------------------------\u001b[0m",
      "\u001b[1;31mNameError\u001b[0m                                 Traceback (most recent call last)",
      "Cell \u001b[1;32mIn[29], line 2\u001b[0m\n\u001b[0;32m      1\u001b[0m plt\u001b[38;5;241m.\u001b[39mfigure(figsize\u001b[38;5;241m=\u001b[39m(\u001b[38;5;241m20\u001b[39m,\u001b[38;5;241m10\u001b[39m))\n\u001b[1;32m----> 2\u001b[0m \u001b[43msns\u001b[49m\u001b[38;5;241m.\u001b[39mboxplot(numcols,orient\u001b[38;5;241m=\u001b[39m\u001b[38;5;124m'\u001b[39m\u001b[38;5;124mh\u001b[39m\u001b[38;5;124m'\u001b[39m)\n",
      "\u001b[1;31mNameError\u001b[0m: name 'sns' is not defined"
     ]
    },
    {
     "data": {
      "text/plain": [
       "<Figure size 2000x1000 with 0 Axes>"
      ]
     },
     "metadata": {},
     "output_type": "display_data"
    }
   ],
   "source": [
    "plt.figure(figsize=(20,10))\n",
    "sns.boxplot(numcols,orient='h')"
   ]
  },
  {
   "cell_type": "code",
   "execution_count": null,
   "id": "7a025f57",
   "metadata": {},
   "outputs": [],
   "source": [
    "#data transformation for independent numeric values\n",
    "from sklearn.preprocessing import StandardScaler,MinMaxScaler,RobustScaler"
   ]
  },
  {
   "cell_type": "code",
   "execution_count": null,
   "id": "8406a04f",
   "metadata": {},
   "outputs": [],
   "source": [
    "stdscaler=StandardScaler()"
   ]
  },
  {
   "cell_type": "code",
   "execution_count": null,
   "id": "397df8e5",
   "metadata": {},
   "outputs": [],
   "source": [
    "numcols1_scaled=stdscaler.fit_transform(numcols1)\n",
    "#all the numeric data is converted into similar datatype"
   ]
  },
  {
   "cell_type": "code",
   "execution_count": null,
   "id": "a1ea98c8",
   "metadata": {},
   "outputs": [],
   "source": [
    "#converting arrays to dstaframe\n",
    "numcols1_scaled=pd.DataFrame(numcols1_scaled,columns=numcols1.columns)"
   ]
  },
  {
   "cell_type": "code",
   "execution_count": null,
   "id": "026fa4d9",
   "metadata": {},
   "outputs": [],
   "source": [
    "numcols1_scaled.head()"
   ]
  },
  {
   "cell_type": "code",
   "execution_count": null,
   "id": "10a3fa26",
   "metadata": {},
   "outputs": [],
   "source": [
    "plt.figure(figsize=(20,10))\n",
    "sns.boxplot(numcols1_scaled,orient='h')"
   ]
  },
  {
   "cell_type": "code",
   "execution_count": null,
   "id": "f8cb72cc",
   "metadata": {},
   "outputs": [],
   "source": [
    "#Normalisation or MINMAXscaler\n",
    "minmax=MinMaxScaler()"
   ]
  },
  {
   "cell_type": "code",
   "execution_count": null,
   "id": "83887283",
   "metadata": {},
   "outputs": [],
   "source": [
    "numcols1_minmax=minmax.fit_transform(numcols1)"
   ]
  },
  {
   "cell_type": "code",
   "execution_count": null,
   "id": "c1a0683d",
   "metadata": {},
   "outputs": [],
   "source": [
    "numcols1_minmax=pd.DataFrame(numcols1_minmax,columns=numcols1.columns)"
   ]
  },
  {
   "cell_type": "code",
   "execution_count": null,
   "id": "944240b9",
   "metadata": {},
   "outputs": [],
   "source": [
    "numcols1_minmax.head()\n",
    "#there are no negative values and rnge is only 0-1 in normalisation"
   ]
  },
  {
   "cell_type": "code",
   "execution_count": null,
   "id": "919c9d89",
   "metadata": {},
   "outputs": [],
   "source": [
    "plt.figure(figsize=(20,10))\n",
    "sns.boxplot(numcols1_minmax,orient='h')"
   ]
  },
  {
   "cell_type": "code",
   "execution_count": null,
   "id": "792cc99f",
   "metadata": {},
   "outputs": [],
   "source": [
    "#ROBUST SCALER-Uses quartiles used in case of outliers\n",
    "robust=RobustScaler()"
   ]
  },
  {
   "cell_type": "code",
   "execution_count": null,
   "id": "a34568f5",
   "metadata": {},
   "outputs": [],
   "source": [
    "numcols1_robust=robust.fit_transform(numcols1)"
   ]
  },
  {
   "cell_type": "code",
   "execution_count": null,
   "id": "5bea8019",
   "metadata": {},
   "outputs": [],
   "source": [
    "numcols1_robust=pd.DataFrame(numcols1_robust,columns=numcols1.columns)"
   ]
  },
  {
   "cell_type": "code",
   "execution_count": null,
   "id": "c05c0064",
   "metadata": {},
   "outputs": [],
   "source": [
    "numcols1_robust.head()"
   ]
  },
  {
   "cell_type": "code",
   "execution_count": null,
   "id": "4266dde1",
   "metadata": {},
   "outputs": [],
   "source": [
    "plt.figure(figsize=(20,10))\n",
    "sns.boxplot(numcols1_robust,orient='h')"
   ]
  },
  {
   "cell_type": "code",
   "execution_count": null,
   "id": "2cd86afe",
   "metadata": {},
   "outputs": [],
   "source": [
    "#check for relationship\n",
    "\n",
    "#corelation and covariance\n",
    "numcols1.cov()"
   ]
  },
  {
   "cell_type": "code",
   "execution_count": null,
   "id": "bb6a305c",
   "metadata": {},
   "outputs": [],
   "source": [
    "sns.heatmap(numcols1.cov(),annot=True)"
   ]
  },
  {
   "cell_type": "code",
   "execution_count": null,
   "id": "ca46c775",
   "metadata": {},
   "outputs": [],
   "source": [
    "import seaborn as sns"
   ]
  },
  {
   "cell_type": "code",
   "execution_count": null,
   "id": "feaf4254",
   "metadata": {
    "scrolled": true
   },
   "outputs": [],
   "source": [
    "sns.pairplot(numcols1)"
   ]
  },
  {
   "cell_type": "code",
   "execution_count": null,
   "id": "7994d72d",
   "metadata": {},
   "outputs": [],
   "source": [
    "# multicollinearity-very strong corelation(>0.95)\n",
    "plt.figure(figsize=(20,10))\n",
    "sns.heatmap(numcols1.corr(),annot=True,cmap='coolwarm')\n",
    "#cmap=coolwarm,plasma,rocket,flare,magma,crest"
   ]
  },
  {
   "cell_type": "code",
   "execution_count": null,
   "id": "f7c0f69d",
   "metadata": {},
   "outputs": [],
   "source": [
    "numcols1.corr()"
   ]
  },
  {
   "cell_type": "code",
   "execution_count": null,
   "id": "ce44bc69",
   "metadata": {},
   "outputs": [],
   "source": [
    "meta_df=pd.concat([numcols,objcols],axis=1)"
   ]
  },
  {
   "cell_type": "code",
   "execution_count": null,
   "id": "c3cebc68",
   "metadata": {},
   "outputs": [],
   "source": [
    "#Hypothesis testing\n",
    "#test null average hba1c of gender male/female equal\n",
    "#test null average waist of gender male/female equal\n",
    "\n",
    "#test null average totchol of smoking equal\n",
    "#test null average fbs of smoking equal\n",
    "\n",
    "#test null no association between smoking and gender\n",
    "#test null no association between smoking and crural"
   ]
  },
  {
   "cell_type": "code",
   "execution_count": null,
   "id": "8f5ebe39",
   "metadata": {},
   "outputs": [],
   "source": [
    "#test null average hba1c of gender male/female equal\n",
    "meta_df.hba1c.groupby(meta_df.gender).mean()"
   ]
  },
  {
   "cell_type": "code",
   "execution_count": null,
   "id": "251fcb60",
   "metadata": {},
   "outputs": [],
   "source": [
    "#2 classes we use 2 independent ttest\n",
    "#check variance\n",
    "meta_df.hba1c.groupby(meta_df.gender).var()"
   ]
  },
  {
   "cell_type": "code",
   "execution_count": null,
   "id": "3f6761fd",
   "metadata": {},
   "outputs": [],
   "source": [
    "#split the data\n",
    "gf=meta_df[meta_df.gender=='female']  #genderfemale\n",
    "gm=meta_df[meta_df.gender=='male']    #gender male"
   ]
  },
  {
   "cell_type": "code",
   "execution_count": null,
   "id": "6dec55ff",
   "metadata": {},
   "outputs": [],
   "source": [
    "#null-there is no significant diff b/w gender and hba1c\n",
    "#alt-there is a significant diff b/w gender and hba1c"
   ]
  },
  {
   "cell_type": "code",
   "execution_count": null,
   "id": "9a448c04",
   "metadata": {},
   "outputs": [],
   "source": [
    "#2 independent ttest of unequal variance\n",
    "from scipy.stats import ttest_ind"
   ]
  },
  {
   "cell_type": "code",
   "execution_count": null,
   "id": "22effc1c",
   "metadata": {},
   "outputs": [],
   "source": [
    "ttest_ind(gf.hba1c,gm.hba1c,equal_var=False)\n",
    "##null-there is no significant diff b/w gender and hba1c\n",
    "#pvalue=0.4186540140235876- fail to reject null"
   ]
  },
  {
   "cell_type": "code",
   "execution_count": null,
   "id": "3ce3e9f7",
   "metadata": {},
   "outputs": [],
   "source": [
    "##test null average waist of gender male/female equal\n",
    "meta_df.waist.groupby(meta_df.gender).mean()"
   ]
  },
  {
   "cell_type": "code",
   "execution_count": null,
   "id": "e958d14c",
   "metadata": {},
   "outputs": [],
   "source": [
    "#check variance\n",
    "meta_df.waist.groupby(meta_df.gender).var()"
   ]
  },
  {
   "cell_type": "code",
   "execution_count": null,
   "id": "7947beb6",
   "metadata": {},
   "outputs": [],
   "source": [
    "ttest_ind(gf.waist,gm.waist,equal_var=False)\n",
    "##alt-there is a significant diff b/w gender and waist\n",
    "#pvalue=1.6606918519162976e-15- fail to reject null"
   ]
  },
  {
   "cell_type": "code",
   "execution_count": null,
   "id": "d95fee9c",
   "metadata": {},
   "outputs": [],
   "source": [
    "#test null average totchol of smoking equal\n",
    "meta_df.totchol.groupby(meta_df.smoking).mean()"
   ]
  },
  {
   "cell_type": "code",
   "execution_count": null,
   "id": "82754fba",
   "metadata": {},
   "outputs": [],
   "source": [
    "#>3 classes ANNOVA\n",
    "from scipy.stats import f_oneway"
   ]
  },
  {
   "cell_type": "code",
   "execution_count": null,
   "id": "27210788",
   "metadata": {},
   "outputs": [],
   "source": [
    "#null-there is no significant diff b/w smoking and totchol\n",
    "#alt-there is a significant diff b/w smoking and totchol"
   ]
  },
  {
   "cell_type": "code",
   "execution_count": null,
   "id": "c2a74b22",
   "metadata": {},
   "outputs": [],
   "source": [
    "#split data\n",
    "ns=meta_df[meta_df.smoking=='never smoked']\n",
    "qs=meta_df[meta_df.smoking=='quitted smoking']\n",
    "ss=meta_df[meta_df.smoking=='still smoking']"
   ]
  },
  {
   "cell_type": "code",
   "execution_count": null,
   "id": "09623f50",
   "metadata": {},
   "outputs": [],
   "source": [
    "f_oneway(ns.totchol,qs.totchol,ss.totchol)\n",
    "##alt-there is a significant diff b/w smoking and totchol"
   ]
  },
  {
   "cell_type": "code",
   "execution_count": null,
   "id": "16bb212f",
   "metadata": {},
   "outputs": [],
   "source": [
    "#test null average fbs of smoking equal\n",
    "meta_df.fbs.groupby(meta_df.smoking).mean()"
   ]
  },
  {
   "cell_type": "code",
   "execution_count": null,
   "id": "e6453792",
   "metadata": {},
   "outputs": [],
   "source": [
    "f_oneway(ns.fbs,qs.fbs,ss.fbs)\n",
    "#alt-there is a significant diff b/w smoking and fbs\n",
    "#pvalue=0.014134689163183814 <0.05"
   ]
  },
  {
   "cell_type": "code",
   "execution_count": null,
   "id": "467a17fe",
   "metadata": {},
   "outputs": [],
   "source": [
    "#test null no association between smoking and gender\n",
    "#both are categoric\n",
    "pd.crosstab(meta_df.smoking,meta_df.gender)"
   ]
  },
  {
   "cell_type": "code",
   "execution_count": null,
   "id": "bf89841f",
   "metadata": {},
   "outputs": [],
   "source": [
    "#null-there is a significant relationship b/w smoking and gender\n",
    "#Alt-there is no significant relationship b/w smoking and gender"
   ]
  },
  {
   "cell_type": "code",
   "execution_count": null,
   "id": "718d0bb0",
   "metadata": {},
   "outputs": [],
   "source": [
    "from scipy.stats import chi2_contingency"
   ]
  },
  {
   "cell_type": "code",
   "execution_count": null,
   "id": "f4f688cb",
   "metadata": {},
   "outputs": [],
   "source": [
    "chi2_contingency(pd.crosstab(meta_df.smoking,meta_df.gender))\n",
    "##Alt-there is no significant relationship b/w smoking and gender"
   ]
  },
  {
   "cell_type": "code",
   "execution_count": null,
   "id": "abc1485e",
   "metadata": {},
   "outputs": [],
   "source": [
    "#null-there is a significant relationship b/w smoking and crural\n",
    "#Alt-there is no significant relationship b/w smoking and crural"
   ]
  },
  {
   "cell_type": "code",
   "execution_count": null,
   "id": "38279d80",
   "metadata": {},
   "outputs": [],
   "source": [
    "#test null no association between smoking and crural\n",
    "chi2_contingency(pd.crosstab(meta_df.smoking,meta_df.crural))\n",
    "##Alt-there is no significant relationship b/w smoking and crural"
   ]
  },
  {
   "cell_type": "code",
   "execution_count": null,
   "id": "0b1ccf99",
   "metadata": {},
   "outputs": [],
   "source": [
    " "
   ]
  }
 ],
 "metadata": {
  "kernelspec": {
   "display_name": "Python 3 (ipykernel)",
   "language": "python",
   "name": "python3"
  },
  "language_info": {
   "codemirror_mode": {
    "name": "ipython",
    "version": 3
   },
   "file_extension": ".py",
   "mimetype": "text/x-python",
   "name": "python",
   "nbconvert_exporter": "python",
   "pygments_lexer": "ipython3",
   "version": "3.9.16"
  }
 },
 "nbformat": 4,
 "nbformat_minor": 5
}
