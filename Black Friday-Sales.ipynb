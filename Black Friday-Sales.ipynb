{
 "cells": [
  {
   "cell_type": "code",
   "execution_count": 47,
   "id": "2f64449a",
   "metadata": {},
   "outputs": [],
   "source": [
    "import pandas as pd\n",
    "import numpy as np\n",
    "import matplotlib.pyplot as plt\n",
    "%matplotlib inline"
   ]
  },
  {
   "cell_type": "code",
   "execution_count": 48,
   "id": "a08658e5",
   "metadata": {},
   "outputs": [
    {
     "name": "stdout",
     "output_type": "stream",
     "text": [
      "C:\\Users\\chkee\\Downloads\\Imarticus Learning\\Python\\Blackfriday\n"
     ]
    }
   ],
   "source": [
    "import io\n",
    "%cd \"C:\\Users\\chkee\\Downloads\\Imarticus Learning\\Python\\Blackfriday\""
   ]
  },
  {
   "cell_type": "code",
   "execution_count": 49,
   "id": "91681298",
   "metadata": {},
   "outputs": [],
   "source": [
    "blackfriday_test=pd.read_csv(\"Blackfriday_test.csv\")"
   ]
  },
  {
   "cell_type": "code",
   "execution_count": 50,
   "id": "484ee038",
   "metadata": {},
   "outputs": [],
   "source": [
    "blackfriday_train=pd.read_csv(\"blackfriday_train.csv\")"
   ]
  },
  {
   "cell_type": "code",
   "execution_count": 51,
   "id": "8bd485ea",
   "metadata": {},
   "outputs": [
    {
     "name": "stdout",
     "output_type": "stream",
     "text": [
      "<class 'pandas.core.frame.DataFrame'>\n",
      "RangeIndex: 550068 entries, 0 to 550067\n",
      "Data columns (total 12 columns):\n",
      " #   Column                      Non-Null Count   Dtype  \n",
      "---  ------                      --------------   -----  \n",
      " 0   User_ID                     550068 non-null  int64  \n",
      " 1   Product_ID                  550068 non-null  object \n",
      " 2   Gender                      550068 non-null  object \n",
      " 3   Age                         550068 non-null  object \n",
      " 4   Occupation                  550068 non-null  int64  \n",
      " 5   City_Category               550068 non-null  object \n",
      " 6   Stay_In_Current_City_Years  550068 non-null  object \n",
      " 7   Marital_Status              550068 non-null  int64  \n",
      " 8   Product_Category_1          550068 non-null  int64  \n",
      " 9   Product_Category_2          376430 non-null  float64\n",
      " 10  Product_Category_3          166821 non-null  float64\n",
      " 11  Purchase                    550068 non-null  int64  \n",
      "dtypes: float64(2), int64(5), object(5)\n",
      "memory usage: 50.4+ MB\n"
     ]
    }
   ],
   "source": [
    "blackfriday_train.info()"
   ]
  },
  {
   "cell_type": "code",
   "execution_count": 52,
   "id": "b5dbb52a",
   "metadata": {},
   "outputs": [
    {
     "name": "stdout",
     "output_type": "stream",
     "text": [
      "<class 'pandas.core.frame.DataFrame'>\n",
      "RangeIndex: 233599 entries, 0 to 233598\n",
      "Data columns (total 11 columns):\n",
      " #   Column                      Non-Null Count   Dtype  \n",
      "---  ------                      --------------   -----  \n",
      " 0   User_ID                     233599 non-null  int64  \n",
      " 1   Product_ID                  233599 non-null  object \n",
      " 2   Gender                      233599 non-null  object \n",
      " 3   Age                         233599 non-null  object \n",
      " 4   Occupation                  233599 non-null  int64  \n",
      " 5   City_Category               233599 non-null  object \n",
      " 6   Stay_In_Current_City_Years  233599 non-null  object \n",
      " 7   Marital_Status              233599 non-null  int64  \n",
      " 8   Product_Category_1          233599 non-null  int64  \n",
      " 9   Product_Category_2          161255 non-null  float64\n",
      " 10  Product_Category_3          71037 non-null   float64\n",
      "dtypes: float64(2), int64(4), object(5)\n",
      "memory usage: 19.6+ MB\n"
     ]
    }
   ],
   "source": [
    "blackfriday_test.info()"
   ]
  },
  {
   "cell_type": "code",
   "execution_count": 8,
   "id": "d4fec7fd",
   "metadata": {},
   "outputs": [],
   "source": [
    "#concat both the files\n",
    "# To concat same number of colums in both tables"
   ]
  },
  {
   "cell_type": "code",
   "execution_count": 53,
   "id": "4635f92f",
   "metadata": {},
   "outputs": [],
   "source": [
    "#Add temporarily a column in test table as purchase and fill it with test\n",
    "blackfriday_test['Purchase']='test'"
   ]
  },
  {
   "cell_type": "code",
   "execution_count": 54,
   "id": "f4f1c049",
   "metadata": {},
   "outputs": [],
   "source": [
    "combinedf=pd.concat([blackfriday_test,blackfriday_train],axis=0)\n",
    "#row wise concatination"
   ]
  },
  {
   "cell_type": "code",
   "execution_count": 55,
   "id": "a522df7f",
   "metadata": {},
   "outputs": [
    {
     "name": "stdout",
     "output_type": "stream",
     "text": [
      "<class 'pandas.core.frame.DataFrame'>\n",
      "Int64Index: 783667 entries, 0 to 550067\n",
      "Data columns (total 12 columns):\n",
      " #   Column                      Non-Null Count   Dtype  \n",
      "---  ------                      --------------   -----  \n",
      " 0   User_ID                     783667 non-null  int64  \n",
      " 1   Product_ID                  783667 non-null  object \n",
      " 2   Gender                      783667 non-null  object \n",
      " 3   Age                         783667 non-null  object \n",
      " 4   Occupation                  783667 non-null  int64  \n",
      " 5   City_Category               783667 non-null  object \n",
      " 6   Stay_In_Current_City_Years  783667 non-null  object \n",
      " 7   Marital_Status              783667 non-null  int64  \n",
      " 8   Product_Category_1          783667 non-null  int64  \n",
      " 9   Product_Category_2          537685 non-null  float64\n",
      " 10  Product_Category_3          237858 non-null  float64\n",
      " 11  Purchase                    783667 non-null  object \n",
      "dtypes: float64(2), int64(4), object(6)\n",
      "memory usage: 77.7+ MB\n"
     ]
    }
   ],
   "source": [
    "combinedf.info()"
   ]
  },
  {
   "cell_type": "code",
   "execution_count": 57,
   "id": "2bc95c18",
   "metadata": {},
   "outputs": [
    {
     "data": {
      "text/plain": [
       "User_ID                            0\n",
       "Product_ID                         0\n",
       "Gender                             0\n",
       "Age                                0\n",
       "Occupation                         0\n",
       "City_Category                      0\n",
       "Stay_In_Current_City_Years         0\n",
       "Marital_Status                     0\n",
       "Product_Category_1                 0\n",
       "Product_Category_2            245982\n",
       "Product_Category_3            545809\n",
       "Purchase                           0\n",
       "dtype: int64"
      ]
     },
     "execution_count": 57,
     "metadata": {},
     "output_type": "execute_result"
    }
   ],
   "source": [
    "combinedf.isnull().sum()"
   ]
  },
  {
   "cell_type": "code",
   "execution_count": 58,
   "id": "9d5041ab",
   "metadata": {},
   "outputs": [],
   "source": [
    "#separate num and obj cols for preprocessing\n",
    "numcols=combinedf.select_dtypes(include=np.number)\n",
    "objcols=combinedf.select_dtypes(include=['object'])"
   ]
  },
  {
   "cell_type": "code",
   "execution_count": 59,
   "id": "ac4a1e7f",
   "metadata": {},
   "outputs": [
    {
     "name": "stdout",
     "output_type": "stream",
     "text": [
      "<class 'pandas.core.frame.DataFrame'>\n",
      "Int64Index: 783667 entries, 0 to 550067\n",
      "Data columns (total 6 columns):\n",
      " #   Column              Non-Null Count   Dtype  \n",
      "---  ------              --------------   -----  \n",
      " 0   User_ID             783667 non-null  int64  \n",
      " 1   Occupation          783667 non-null  int64  \n",
      " 2   Marital_Status      783667 non-null  int64  \n",
      " 3   Product_Category_1  783667 non-null  int64  \n",
      " 4   Product_Category_2  537685 non-null  float64\n",
      " 5   Product_Category_3  237858 non-null  float64\n",
      "dtypes: float64(2), int64(4)\n",
      "memory usage: 41.9 MB\n"
     ]
    }
   ],
   "source": [
    "numcols.info()"
   ]
  },
  {
   "cell_type": "code",
   "execution_count": 64,
   "id": "79888c58",
   "metadata": {},
   "outputs": [
    {
     "data": {
      "text/plain": [
       "NaN     245982\n",
       "8.0      91317\n",
       "14.0     78834\n",
       "2.0      70498\n",
       "16.0     61687\n",
       "15.0     54114\n",
       "5.0      37165\n",
       "4.0      36705\n",
       "6.0      23575\n",
       "11.0     20230\n",
       "17.0     19104\n",
       "13.0     15054\n",
       "9.0       8177\n",
       "12.0      7801\n",
       "10.0      4420\n",
       "3.0       4123\n",
       "18.0      4027\n",
       "7.0        854\n",
       "Name: Product_Category_2, dtype: int64"
      ]
     },
     "execution_count": 64,
     "metadata": {},
     "output_type": "execute_result"
    }
   ],
   "source": [
    "numcols.Product_Category_2.value_counts(dropna=False)"
   ]
  },
  {
   "cell_type": "code",
   "execution_count": 13,
   "id": "6dc822db",
   "metadata": {},
   "outputs": [
    {
     "data": {
      "text/plain": [
       "16.0    32636\n",
       "15.0    28013\n",
       "14.0    18428\n",
       "17.0    16702\n",
       "5.0     16658\n",
       "8.0     12562\n",
       "9.0     11579\n",
       "12.0     9246\n",
       "13.0     5459\n",
       "6.0      4890\n",
       "18.0     4629\n",
       "4.0      1875\n",
       "11.0     1805\n",
       "10.0     1726\n",
       "3.0       613\n",
       "Name: Product_Category_3, dtype: int64"
      ]
     },
     "execution_count": 13,
     "metadata": {},
     "output_type": "execute_result"
    }
   ],
   "source": [
    "blackfriday_train.Product_Category_3.value_counts().sort_values(ascending=False)"
   ]
  },
  {
   "cell_type": "code",
   "execution_count": 65,
   "id": "32604e63",
   "metadata": {},
   "outputs": [],
   "source": [
    "for col in numcols.columns:\n",
    "    numcols[col]=numcols[col].fillna('missing')"
   ]
  },
  {
   "cell_type": "code",
   "execution_count": 67,
   "id": "864886d4",
   "metadata": {},
   "outputs": [
    {
     "data": {
      "text/html": [
       "<div>\n",
       "<style scoped>\n",
       "    .dataframe tbody tr th:only-of-type {\n",
       "        vertical-align: middle;\n",
       "    }\n",
       "\n",
       "    .dataframe tbody tr th {\n",
       "        vertical-align: top;\n",
       "    }\n",
       "\n",
       "    .dataframe thead th {\n",
       "        text-align: right;\n",
       "    }\n",
       "</style>\n",
       "<table border=\"1\" class=\"dataframe\">\n",
       "  <thead>\n",
       "    <tr style=\"text-align: right;\">\n",
       "      <th></th>\n",
       "      <th>User_ID</th>\n",
       "      <th>Occupation</th>\n",
       "      <th>Marital_Status</th>\n",
       "      <th>Product_Category_1</th>\n",
       "      <th>Product_Category_2</th>\n",
       "      <th>Product_Category_3</th>\n",
       "    </tr>\n",
       "  </thead>\n",
       "  <tbody>\n",
       "    <tr>\n",
       "      <th>0</th>\n",
       "      <td>1000004</td>\n",
       "      <td>7</td>\n",
       "      <td>1</td>\n",
       "      <td>1</td>\n",
       "      <td>11.0</td>\n",
       "      <td>missing</td>\n",
       "    </tr>\n",
       "    <tr>\n",
       "      <th>1</th>\n",
       "      <td>1000009</td>\n",
       "      <td>17</td>\n",
       "      <td>0</td>\n",
       "      <td>3</td>\n",
       "      <td>5.0</td>\n",
       "      <td>missing</td>\n",
       "    </tr>\n",
       "    <tr>\n",
       "      <th>2</th>\n",
       "      <td>1000010</td>\n",
       "      <td>1</td>\n",
       "      <td>1</td>\n",
       "      <td>5</td>\n",
       "      <td>14.0</td>\n",
       "      <td>missing</td>\n",
       "    </tr>\n",
       "    <tr>\n",
       "      <th>3</th>\n",
       "      <td>1000010</td>\n",
       "      <td>1</td>\n",
       "      <td>1</td>\n",
       "      <td>4</td>\n",
       "      <td>9.0</td>\n",
       "      <td>missing</td>\n",
       "    </tr>\n",
       "    <tr>\n",
       "      <th>4</th>\n",
       "      <td>1000011</td>\n",
       "      <td>1</td>\n",
       "      <td>0</td>\n",
       "      <td>4</td>\n",
       "      <td>5.0</td>\n",
       "      <td>12.0</td>\n",
       "    </tr>\n",
       "  </tbody>\n",
       "</table>\n",
       "</div>"
      ],
      "text/plain": [
       "   User_ID  Occupation  Marital_Status  Product_Category_1 Product_Category_2  \\\n",
       "0  1000004           7               1                   1               11.0   \n",
       "1  1000009          17               0                   3                5.0   \n",
       "2  1000010           1               1                   5               14.0   \n",
       "3  1000010           1               1                   4                9.0   \n",
       "4  1000011           1               0                   4                5.0   \n",
       "\n",
       "  Product_Category_3  \n",
       "0            missing  \n",
       "1            missing  \n",
       "2            missing  \n",
       "3            missing  \n",
       "4               12.0  "
      ]
     },
     "execution_count": 67,
     "metadata": {},
     "output_type": "execute_result"
    }
   ],
   "source": [
    "numcols.head()"
   ]
  },
  {
   "cell_type": "code",
   "execution_count": 71,
   "id": "553f818c",
   "metadata": {},
   "outputs": [
    {
     "data": {
      "text/html": [
       "<div>\n",
       "<style scoped>\n",
       "    .dataframe tbody tr th:only-of-type {\n",
       "        vertical-align: middle;\n",
       "    }\n",
       "\n",
       "    .dataframe tbody tr th {\n",
       "        vertical-align: top;\n",
       "    }\n",
       "\n",
       "    .dataframe thead th {\n",
       "        text-align: right;\n",
       "    }\n",
       "</style>\n",
       "<table border=\"1\" class=\"dataframe\">\n",
       "  <thead>\n",
       "    <tr style=\"text-align: right;\">\n",
       "      <th></th>\n",
       "      <th>Product_ID</th>\n",
       "      <th>Gender</th>\n",
       "      <th>Age</th>\n",
       "      <th>City_Category</th>\n",
       "      <th>Stay_In_Current_City_Years</th>\n",
       "      <th>Purchase</th>\n",
       "    </tr>\n",
       "  </thead>\n",
       "  <tbody>\n",
       "    <tr>\n",
       "      <th>0</th>\n",
       "      <td>P00128942</td>\n",
       "      <td>M</td>\n",
       "      <td>46-50</td>\n",
       "      <td>B</td>\n",
       "      <td>2</td>\n",
       "      <td>test</td>\n",
       "    </tr>\n",
       "    <tr>\n",
       "      <th>1</th>\n",
       "      <td>P00113442</td>\n",
       "      <td>M</td>\n",
       "      <td>26-35</td>\n",
       "      <td>C</td>\n",
       "      <td>0</td>\n",
       "      <td>test</td>\n",
       "    </tr>\n",
       "    <tr>\n",
       "      <th>2</th>\n",
       "      <td>P00288442</td>\n",
       "      <td>F</td>\n",
       "      <td>36-45</td>\n",
       "      <td>B</td>\n",
       "      <td>4+</td>\n",
       "      <td>test</td>\n",
       "    </tr>\n",
       "    <tr>\n",
       "      <th>3</th>\n",
       "      <td>P00145342</td>\n",
       "      <td>F</td>\n",
       "      <td>36-45</td>\n",
       "      <td>B</td>\n",
       "      <td>4+</td>\n",
       "      <td>test</td>\n",
       "    </tr>\n",
       "    <tr>\n",
       "      <th>4</th>\n",
       "      <td>P00053842</td>\n",
       "      <td>F</td>\n",
       "      <td>26-35</td>\n",
       "      <td>C</td>\n",
       "      <td>1</td>\n",
       "      <td>test</td>\n",
       "    </tr>\n",
       "  </tbody>\n",
       "</table>\n",
       "</div>"
      ],
      "text/plain": [
       "  Product_ID Gender    Age City_Category Stay_In_Current_City_Years Purchase\n",
       "0  P00128942      M  46-50             B                          2     test\n",
       "1  P00113442      M  26-35             C                          0     test\n",
       "2  P00288442      F  36-45             B                         4+     test\n",
       "3  P00145342      F  36-45             B                         4+     test\n",
       "4  P00053842      F  26-35             C                          1     test"
      ]
     },
     "execution_count": 71,
     "metadata": {},
     "output_type": "execute_result"
    }
   ],
   "source": [
    "objcols.head()"
   ]
  },
  {
   "cell_type": "code",
   "execution_count": 16,
   "id": "7eea233e",
   "metadata": {},
   "outputs": [
    {
     "data": {
      "text/plain": [
       "0-17      21334\n",
       "55+       30579\n",
       "51-55     54784\n",
       "46-50     65278\n",
       "18-25    141953\n",
       "36-45    156724\n",
       "26-35    313015\n",
       "Name: Age, dtype: int64"
      ]
     },
     "execution_count": 16,
     "metadata": {},
     "output_type": "execute_result"
    }
   ],
   "source": [
    "objcols.Age.value_counts(dropna=False).sort_values(ascending=True)"
   ]
  },
  {
   "cell_type": "code",
   "execution_count": 17,
   "id": "f16694db",
   "metadata": {},
   "outputs": [
    {
     "data": {
      "text/plain": [
       "A    210244\n",
       "C    243684\n",
       "B    329739\n",
       "Name: City_Category, dtype: int64"
      ]
     },
     "execution_count": 17,
     "metadata": {},
     "output_type": "execute_result"
    }
   ],
   "source": [
    "objcols.City_Category.value_counts(dropna=False).sort_values(ascending=True)"
   ]
  },
  {
   "cell_type": "code",
   "execution_count": 18,
   "id": "16689c12",
   "metadata": {},
   "outputs": [
    {
     "data": {
      "text/plain": [
       "0     105716\n",
       "4+    120671\n",
       "3     135428\n",
       "2     145427\n",
       "1     276425\n",
       "Name: Stay_In_Current_City_Years, dtype: int64"
      ]
     },
     "execution_count": 18,
     "metadata": {},
     "output_type": "execute_result"
    }
   ],
   "source": [
    "objcols.Stay_In_Current_City_Years.value_counts(dropna=False).sort_values(ascending=True)"
   ]
  },
  {
   "cell_type": "code",
   "execution_count": 72,
   "id": "23babbcc",
   "metadata": {},
   "outputs": [],
   "source": [
    "#combine all the dataframes to do EDA which is after preprocessing\n",
    "combinedf_eda=pd.concat([numcols,objcols],axis=1)"
   ]
  },
  {
   "cell_type": "code",
   "execution_count": 73,
   "id": "d9d9a9aa",
   "metadata": {},
   "outputs": [
    {
     "data": {
      "text/html": [
       "<div>\n",
       "<style scoped>\n",
       "    .dataframe tbody tr th:only-of-type {\n",
       "        vertical-align: middle;\n",
       "    }\n",
       "\n",
       "    .dataframe tbody tr th {\n",
       "        vertical-align: top;\n",
       "    }\n",
       "\n",
       "    .dataframe thead th {\n",
       "        text-align: right;\n",
       "    }\n",
       "</style>\n",
       "<table border=\"1\" class=\"dataframe\">\n",
       "  <thead>\n",
       "    <tr style=\"text-align: right;\">\n",
       "      <th></th>\n",
       "      <th>User_ID</th>\n",
       "      <th>Occupation</th>\n",
       "      <th>Marital_Status</th>\n",
       "      <th>Product_Category_1</th>\n",
       "      <th>Product_Category_2</th>\n",
       "      <th>Product_Category_3</th>\n",
       "      <th>Product_ID</th>\n",
       "      <th>Gender</th>\n",
       "      <th>Age</th>\n",
       "      <th>City_Category</th>\n",
       "      <th>Stay_In_Current_City_Years</th>\n",
       "      <th>Purchase</th>\n",
       "    </tr>\n",
       "  </thead>\n",
       "  <tbody>\n",
       "    <tr>\n",
       "      <th>0</th>\n",
       "      <td>1000004</td>\n",
       "      <td>7</td>\n",
       "      <td>1</td>\n",
       "      <td>1</td>\n",
       "      <td>11.0</td>\n",
       "      <td>missing</td>\n",
       "      <td>P00128942</td>\n",
       "      <td>M</td>\n",
       "      <td>46-50</td>\n",
       "      <td>B</td>\n",
       "      <td>2</td>\n",
       "      <td>test</td>\n",
       "    </tr>\n",
       "    <tr>\n",
       "      <th>1</th>\n",
       "      <td>1000009</td>\n",
       "      <td>17</td>\n",
       "      <td>0</td>\n",
       "      <td>3</td>\n",
       "      <td>5.0</td>\n",
       "      <td>missing</td>\n",
       "      <td>P00113442</td>\n",
       "      <td>M</td>\n",
       "      <td>26-35</td>\n",
       "      <td>C</td>\n",
       "      <td>0</td>\n",
       "      <td>test</td>\n",
       "    </tr>\n",
       "    <tr>\n",
       "      <th>2</th>\n",
       "      <td>1000010</td>\n",
       "      <td>1</td>\n",
       "      <td>1</td>\n",
       "      <td>5</td>\n",
       "      <td>14.0</td>\n",
       "      <td>missing</td>\n",
       "      <td>P00288442</td>\n",
       "      <td>F</td>\n",
       "      <td>36-45</td>\n",
       "      <td>B</td>\n",
       "      <td>4+</td>\n",
       "      <td>test</td>\n",
       "    </tr>\n",
       "    <tr>\n",
       "      <th>3</th>\n",
       "      <td>1000010</td>\n",
       "      <td>1</td>\n",
       "      <td>1</td>\n",
       "      <td>4</td>\n",
       "      <td>9.0</td>\n",
       "      <td>missing</td>\n",
       "      <td>P00145342</td>\n",
       "      <td>F</td>\n",
       "      <td>36-45</td>\n",
       "      <td>B</td>\n",
       "      <td>4+</td>\n",
       "      <td>test</td>\n",
       "    </tr>\n",
       "    <tr>\n",
       "      <th>4</th>\n",
       "      <td>1000011</td>\n",
       "      <td>1</td>\n",
       "      <td>0</td>\n",
       "      <td>4</td>\n",
       "      <td>5.0</td>\n",
       "      <td>12.0</td>\n",
       "      <td>P00053842</td>\n",
       "      <td>F</td>\n",
       "      <td>26-35</td>\n",
       "      <td>C</td>\n",
       "      <td>1</td>\n",
       "      <td>test</td>\n",
       "    </tr>\n",
       "    <tr>\n",
       "      <th>...</th>\n",
       "      <td>...</td>\n",
       "      <td>...</td>\n",
       "      <td>...</td>\n",
       "      <td>...</td>\n",
       "      <td>...</td>\n",
       "      <td>...</td>\n",
       "      <td>...</td>\n",
       "      <td>...</td>\n",
       "      <td>...</td>\n",
       "      <td>...</td>\n",
       "      <td>...</td>\n",
       "      <td>...</td>\n",
       "    </tr>\n",
       "    <tr>\n",
       "      <th>550063</th>\n",
       "      <td>1006033</td>\n",
       "      <td>13</td>\n",
       "      <td>1</td>\n",
       "      <td>20</td>\n",
       "      <td>missing</td>\n",
       "      <td>missing</td>\n",
       "      <td>P00372445</td>\n",
       "      <td>M</td>\n",
       "      <td>51-55</td>\n",
       "      <td>B</td>\n",
       "      <td>1</td>\n",
       "      <td>368</td>\n",
       "    </tr>\n",
       "    <tr>\n",
       "      <th>550064</th>\n",
       "      <td>1006035</td>\n",
       "      <td>1</td>\n",
       "      <td>0</td>\n",
       "      <td>20</td>\n",
       "      <td>missing</td>\n",
       "      <td>missing</td>\n",
       "      <td>P00375436</td>\n",
       "      <td>F</td>\n",
       "      <td>26-35</td>\n",
       "      <td>C</td>\n",
       "      <td>3</td>\n",
       "      <td>371</td>\n",
       "    </tr>\n",
       "    <tr>\n",
       "      <th>550065</th>\n",
       "      <td>1006036</td>\n",
       "      <td>15</td>\n",
       "      <td>1</td>\n",
       "      <td>20</td>\n",
       "      <td>missing</td>\n",
       "      <td>missing</td>\n",
       "      <td>P00375436</td>\n",
       "      <td>F</td>\n",
       "      <td>26-35</td>\n",
       "      <td>B</td>\n",
       "      <td>4+</td>\n",
       "      <td>137</td>\n",
       "    </tr>\n",
       "    <tr>\n",
       "      <th>550066</th>\n",
       "      <td>1006038</td>\n",
       "      <td>1</td>\n",
       "      <td>0</td>\n",
       "      <td>20</td>\n",
       "      <td>missing</td>\n",
       "      <td>missing</td>\n",
       "      <td>P00375436</td>\n",
       "      <td>F</td>\n",
       "      <td>55+</td>\n",
       "      <td>C</td>\n",
       "      <td>2</td>\n",
       "      <td>365</td>\n",
       "    </tr>\n",
       "    <tr>\n",
       "      <th>550067</th>\n",
       "      <td>1006039</td>\n",
       "      <td>0</td>\n",
       "      <td>1</td>\n",
       "      <td>20</td>\n",
       "      <td>missing</td>\n",
       "      <td>missing</td>\n",
       "      <td>P00371644</td>\n",
       "      <td>F</td>\n",
       "      <td>46-50</td>\n",
       "      <td>B</td>\n",
       "      <td>4+</td>\n",
       "      <td>490</td>\n",
       "    </tr>\n",
       "  </tbody>\n",
       "</table>\n",
       "<p>783667 rows × 12 columns</p>\n",
       "</div>"
      ],
      "text/plain": [
       "        User_ID  Occupation  Marital_Status  Product_Category_1  \\\n",
       "0       1000004           7               1                   1   \n",
       "1       1000009          17               0                   3   \n",
       "2       1000010           1               1                   5   \n",
       "3       1000010           1               1                   4   \n",
       "4       1000011           1               0                   4   \n",
       "...         ...         ...             ...                 ...   \n",
       "550063  1006033          13               1                  20   \n",
       "550064  1006035           1               0                  20   \n",
       "550065  1006036          15               1                  20   \n",
       "550066  1006038           1               0                  20   \n",
       "550067  1006039           0               1                  20   \n",
       "\n",
       "       Product_Category_2 Product_Category_3 Product_ID Gender    Age  \\\n",
       "0                    11.0            missing  P00128942      M  46-50   \n",
       "1                     5.0            missing  P00113442      M  26-35   \n",
       "2                    14.0            missing  P00288442      F  36-45   \n",
       "3                     9.0            missing  P00145342      F  36-45   \n",
       "4                     5.0               12.0  P00053842      F  26-35   \n",
       "...                   ...                ...        ...    ...    ...   \n",
       "550063            missing            missing  P00372445      M  51-55   \n",
       "550064            missing            missing  P00375436      F  26-35   \n",
       "550065            missing            missing  P00375436      F  26-35   \n",
       "550066            missing            missing  P00375436      F    55+   \n",
       "550067            missing            missing  P00371644      F  46-50   \n",
       "\n",
       "       City_Category Stay_In_Current_City_Years Purchase  \n",
       "0                  B                          2     test  \n",
       "1                  C                          0     test  \n",
       "2                  B                         4+     test  \n",
       "3                  B                         4+     test  \n",
       "4                  C                          1     test  \n",
       "...              ...                        ...      ...  \n",
       "550063             B                          1      368  \n",
       "550064             C                          3      371  \n",
       "550065             B                         4+      137  \n",
       "550066             C                          2      365  \n",
       "550067             B                         4+      490  \n",
       "\n",
       "[783667 rows x 12 columns]"
      ]
     },
     "execution_count": 73,
     "metadata": {},
     "output_type": "execute_result"
    }
   ],
   "source": [
    "combinedf_eda"
   ]
  },
  {
   "cell_type": "code",
   "execution_count": 21,
   "id": "61e66aaa",
   "metadata": {},
   "outputs": [
    {
     "name": "stdout",
     "output_type": "stream",
     "text": [
      "<class 'pandas.core.frame.DataFrame'>\n",
      "Int64Index: 783667 entries, 0 to 550067\n",
      "Data columns (total 6 columns):\n",
      " #   Column                      Non-Null Count   Dtype \n",
      "---  ------                      --------------   ----- \n",
      " 0   Product_ID                  783667 non-null  object\n",
      " 1   Gender                      783667 non-null  object\n",
      " 2   Age                         783667 non-null  object\n",
      " 3   City_Category               783667 non-null  object\n",
      " 4   Stay_In_Current_City_Years  783667 non-null  object\n",
      " 5   Purchase                    783667 non-null  object\n",
      "dtypes: object(6)\n",
      "memory usage: 41.9+ MB\n"
     ]
    }
   ],
   "source": [
    "objcols.info()"
   ]
  },
  {
   "cell_type": "code",
   "execution_count": 74,
   "id": "1d8d49c3",
   "metadata": {},
   "outputs": [],
   "source": [
    "y = combinedf_eda.Purchase"
   ]
  },
  {
   "cell_type": "code",
   "execution_count": 75,
   "id": "2b5e07a5",
   "metadata": {},
   "outputs": [],
   "source": [
    "combinedf_eda=combinedf_eda.drop('Purchase',axis=1)"
   ]
  },
  {
   "cell_type": "code",
   "execution_count": 76,
   "id": "9b93071e",
   "metadata": {},
   "outputs": [
    {
     "data": {
      "text/plain": [
       "Index(['User_ID', 'Occupation', 'Marital_Status', 'Product_Category_1',\n",
       "       'Product_Category_2', 'Product_Category_3', 'Product_ID', 'Gender',\n",
       "       'Age', 'City_Category', 'Stay_In_Current_City_Years'],\n",
       "      dtype='object')"
      ]
     },
     "execution_count": 76,
     "metadata": {},
     "output_type": "execute_result"
    }
   ],
   "source": [
    "combinedf_eda.columns\n"
   ]
  },
  {
   "cell_type": "code",
   "execution_count": 78,
   "id": "20b33a41",
   "metadata": {},
   "outputs": [],
   "source": [
    "combinedf_eda = pd.get_dummies(combinedf_eda,columns=['Occupation', 'Marital_Status', 'Product_Category_1','Product_Category_2', 'Product_Category_3', 'Gender','Age', 'City_Category', 'Stay_In_Current_City_Years'])"
   ]
  },
  {
   "cell_type": "code",
   "execution_count": 83,
   "id": "592a6fd7",
   "metadata": {},
   "outputs": [
    {
     "data": {
      "text/html": [
       "<div>\n",
       "<style scoped>\n",
       "    .dataframe tbody tr th:only-of-type {\n",
       "        vertical-align: middle;\n",
       "    }\n",
       "\n",
       "    .dataframe tbody tr th {\n",
       "        vertical-align: top;\n",
       "    }\n",
       "\n",
       "    .dataframe thead th {\n",
       "        text-align: right;\n",
       "    }\n",
       "</style>\n",
       "<table border=\"1\" class=\"dataframe\">\n",
       "  <thead>\n",
       "    <tr style=\"text-align: right;\">\n",
       "      <th></th>\n",
       "      <th>Occupation_0</th>\n",
       "      <th>Occupation_1</th>\n",
       "      <th>Occupation_2</th>\n",
       "      <th>Occupation_3</th>\n",
       "      <th>Occupation_4</th>\n",
       "      <th>Occupation_5</th>\n",
       "      <th>Occupation_6</th>\n",
       "      <th>Occupation_7</th>\n",
       "      <th>Occupation_8</th>\n",
       "      <th>Occupation_9</th>\n",
       "      <th>...</th>\n",
       "      <th>Age_51-55</th>\n",
       "      <th>Age_55+</th>\n",
       "      <th>City_Category_A</th>\n",
       "      <th>City_Category_B</th>\n",
       "      <th>City_Category_C</th>\n",
       "      <th>Stay_In_Current_City_Years_0</th>\n",
       "      <th>Stay_In_Current_City_Years_1</th>\n",
       "      <th>Stay_In_Current_City_Years_2</th>\n",
       "      <th>Stay_In_Current_City_Years_3</th>\n",
       "      <th>Stay_In_Current_City_Years_4+</th>\n",
       "    </tr>\n",
       "  </thead>\n",
       "  <tbody>\n",
       "    <tr>\n",
       "      <th>0</th>\n",
       "      <td>0</td>\n",
       "      <td>0</td>\n",
       "      <td>0</td>\n",
       "      <td>0</td>\n",
       "      <td>0</td>\n",
       "      <td>0</td>\n",
       "      <td>0</td>\n",
       "      <td>1</td>\n",
       "      <td>0</td>\n",
       "      <td>0</td>\n",
       "      <td>...</td>\n",
       "      <td>0</td>\n",
       "      <td>0</td>\n",
       "      <td>0</td>\n",
       "      <td>1</td>\n",
       "      <td>0</td>\n",
       "      <td>0</td>\n",
       "      <td>0</td>\n",
       "      <td>1</td>\n",
       "      <td>0</td>\n",
       "      <td>0</td>\n",
       "    </tr>\n",
       "    <tr>\n",
       "      <th>1</th>\n",
       "      <td>0</td>\n",
       "      <td>0</td>\n",
       "      <td>0</td>\n",
       "      <td>0</td>\n",
       "      <td>0</td>\n",
       "      <td>0</td>\n",
       "      <td>0</td>\n",
       "      <td>0</td>\n",
       "      <td>0</td>\n",
       "      <td>0</td>\n",
       "      <td>...</td>\n",
       "      <td>0</td>\n",
       "      <td>0</td>\n",
       "      <td>0</td>\n",
       "      <td>0</td>\n",
       "      <td>1</td>\n",
       "      <td>1</td>\n",
       "      <td>0</td>\n",
       "      <td>0</td>\n",
       "      <td>0</td>\n",
       "      <td>0</td>\n",
       "    </tr>\n",
       "    <tr>\n",
       "      <th>2</th>\n",
       "      <td>0</td>\n",
       "      <td>1</td>\n",
       "      <td>0</td>\n",
       "      <td>0</td>\n",
       "      <td>0</td>\n",
       "      <td>0</td>\n",
       "      <td>0</td>\n",
       "      <td>0</td>\n",
       "      <td>0</td>\n",
       "      <td>0</td>\n",
       "      <td>...</td>\n",
       "      <td>0</td>\n",
       "      <td>0</td>\n",
       "      <td>0</td>\n",
       "      <td>1</td>\n",
       "      <td>0</td>\n",
       "      <td>0</td>\n",
       "      <td>0</td>\n",
       "      <td>0</td>\n",
       "      <td>0</td>\n",
       "      <td>1</td>\n",
       "    </tr>\n",
       "    <tr>\n",
       "      <th>3</th>\n",
       "      <td>0</td>\n",
       "      <td>1</td>\n",
       "      <td>0</td>\n",
       "      <td>0</td>\n",
       "      <td>0</td>\n",
       "      <td>0</td>\n",
       "      <td>0</td>\n",
       "      <td>0</td>\n",
       "      <td>0</td>\n",
       "      <td>0</td>\n",
       "      <td>...</td>\n",
       "      <td>0</td>\n",
       "      <td>0</td>\n",
       "      <td>0</td>\n",
       "      <td>1</td>\n",
       "      <td>0</td>\n",
       "      <td>0</td>\n",
       "      <td>0</td>\n",
       "      <td>0</td>\n",
       "      <td>0</td>\n",
       "      <td>1</td>\n",
       "    </tr>\n",
       "    <tr>\n",
       "      <th>4</th>\n",
       "      <td>0</td>\n",
       "      <td>1</td>\n",
       "      <td>0</td>\n",
       "      <td>0</td>\n",
       "      <td>0</td>\n",
       "      <td>0</td>\n",
       "      <td>0</td>\n",
       "      <td>0</td>\n",
       "      <td>0</td>\n",
       "      <td>0</td>\n",
       "      <td>...</td>\n",
       "      <td>0</td>\n",
       "      <td>0</td>\n",
       "      <td>0</td>\n",
       "      <td>0</td>\n",
       "      <td>1</td>\n",
       "      <td>0</td>\n",
       "      <td>1</td>\n",
       "      <td>0</td>\n",
       "      <td>0</td>\n",
       "      <td>0</td>\n",
       "    </tr>\n",
       "    <tr>\n",
       "      <th>...</th>\n",
       "      <td>...</td>\n",
       "      <td>...</td>\n",
       "      <td>...</td>\n",
       "      <td>...</td>\n",
       "      <td>...</td>\n",
       "      <td>...</td>\n",
       "      <td>...</td>\n",
       "      <td>...</td>\n",
       "      <td>...</td>\n",
       "      <td>...</td>\n",
       "      <td>...</td>\n",
       "      <td>...</td>\n",
       "      <td>...</td>\n",
       "      <td>...</td>\n",
       "      <td>...</td>\n",
       "      <td>...</td>\n",
       "      <td>...</td>\n",
       "      <td>...</td>\n",
       "      <td>...</td>\n",
       "      <td>...</td>\n",
       "      <td>...</td>\n",
       "    </tr>\n",
       "    <tr>\n",
       "      <th>550063</th>\n",
       "      <td>0</td>\n",
       "      <td>0</td>\n",
       "      <td>0</td>\n",
       "      <td>0</td>\n",
       "      <td>0</td>\n",
       "      <td>0</td>\n",
       "      <td>0</td>\n",
       "      <td>0</td>\n",
       "      <td>0</td>\n",
       "      <td>0</td>\n",
       "      <td>...</td>\n",
       "      <td>1</td>\n",
       "      <td>0</td>\n",
       "      <td>0</td>\n",
       "      <td>1</td>\n",
       "      <td>0</td>\n",
       "      <td>0</td>\n",
       "      <td>1</td>\n",
       "      <td>0</td>\n",
       "      <td>0</td>\n",
       "      <td>0</td>\n",
       "    </tr>\n",
       "    <tr>\n",
       "      <th>550064</th>\n",
       "      <td>0</td>\n",
       "      <td>1</td>\n",
       "      <td>0</td>\n",
       "      <td>0</td>\n",
       "      <td>0</td>\n",
       "      <td>0</td>\n",
       "      <td>0</td>\n",
       "      <td>0</td>\n",
       "      <td>0</td>\n",
       "      <td>0</td>\n",
       "      <td>...</td>\n",
       "      <td>0</td>\n",
       "      <td>0</td>\n",
       "      <td>0</td>\n",
       "      <td>0</td>\n",
       "      <td>1</td>\n",
       "      <td>0</td>\n",
       "      <td>0</td>\n",
       "      <td>0</td>\n",
       "      <td>1</td>\n",
       "      <td>0</td>\n",
       "    </tr>\n",
       "    <tr>\n",
       "      <th>550065</th>\n",
       "      <td>0</td>\n",
       "      <td>0</td>\n",
       "      <td>0</td>\n",
       "      <td>0</td>\n",
       "      <td>0</td>\n",
       "      <td>0</td>\n",
       "      <td>0</td>\n",
       "      <td>0</td>\n",
       "      <td>0</td>\n",
       "      <td>0</td>\n",
       "      <td>...</td>\n",
       "      <td>0</td>\n",
       "      <td>0</td>\n",
       "      <td>0</td>\n",
       "      <td>1</td>\n",
       "      <td>0</td>\n",
       "      <td>0</td>\n",
       "      <td>0</td>\n",
       "      <td>0</td>\n",
       "      <td>0</td>\n",
       "      <td>1</td>\n",
       "    </tr>\n",
       "    <tr>\n",
       "      <th>550066</th>\n",
       "      <td>0</td>\n",
       "      <td>1</td>\n",
       "      <td>0</td>\n",
       "      <td>0</td>\n",
       "      <td>0</td>\n",
       "      <td>0</td>\n",
       "      <td>0</td>\n",
       "      <td>0</td>\n",
       "      <td>0</td>\n",
       "      <td>0</td>\n",
       "      <td>...</td>\n",
       "      <td>0</td>\n",
       "      <td>1</td>\n",
       "      <td>0</td>\n",
       "      <td>0</td>\n",
       "      <td>1</td>\n",
       "      <td>0</td>\n",
       "      <td>0</td>\n",
       "      <td>1</td>\n",
       "      <td>0</td>\n",
       "      <td>0</td>\n",
       "    </tr>\n",
       "    <tr>\n",
       "      <th>550067</th>\n",
       "      <td>1</td>\n",
       "      <td>0</td>\n",
       "      <td>0</td>\n",
       "      <td>0</td>\n",
       "      <td>0</td>\n",
       "      <td>0</td>\n",
       "      <td>0</td>\n",
       "      <td>0</td>\n",
       "      <td>0</td>\n",
       "      <td>0</td>\n",
       "      <td>...</td>\n",
       "      <td>0</td>\n",
       "      <td>0</td>\n",
       "      <td>0</td>\n",
       "      <td>1</td>\n",
       "      <td>0</td>\n",
       "      <td>0</td>\n",
       "      <td>0</td>\n",
       "      <td>0</td>\n",
       "      <td>0</td>\n",
       "      <td>1</td>\n",
       "    </tr>\n",
       "  </tbody>\n",
       "</table>\n",
       "<p>783667 rows × 94 columns</p>\n",
       "</div>"
      ],
      "text/plain": [
       "        Occupation_0  Occupation_1  Occupation_2  Occupation_3  Occupation_4  \\\n",
       "0                  0             0             0             0             0   \n",
       "1                  0             0             0             0             0   \n",
       "2                  0             1             0             0             0   \n",
       "3                  0             1             0             0             0   \n",
       "4                  0             1             0             0             0   \n",
       "...              ...           ...           ...           ...           ...   \n",
       "550063             0             0             0             0             0   \n",
       "550064             0             1             0             0             0   \n",
       "550065             0             0             0             0             0   \n",
       "550066             0             1             0             0             0   \n",
       "550067             1             0             0             0             0   \n",
       "\n",
       "        Occupation_5  Occupation_6  Occupation_7  Occupation_8  Occupation_9  \\\n",
       "0                  0             0             1             0             0   \n",
       "1                  0             0             0             0             0   \n",
       "2                  0             0             0             0             0   \n",
       "3                  0             0             0             0             0   \n",
       "4                  0             0             0             0             0   \n",
       "...              ...           ...           ...           ...           ...   \n",
       "550063             0             0             0             0             0   \n",
       "550064             0             0             0             0             0   \n",
       "550065             0             0             0             0             0   \n",
       "550066             0             0             0             0             0   \n",
       "550067             0             0             0             0             0   \n",
       "\n",
       "        ...  Age_51-55  Age_55+  City_Category_A  City_Category_B  \\\n",
       "0       ...          0        0                0                1   \n",
       "1       ...          0        0                0                0   \n",
       "2       ...          0        0                0                1   \n",
       "3       ...          0        0                0                1   \n",
       "4       ...          0        0                0                0   \n",
       "...     ...        ...      ...              ...              ...   \n",
       "550063  ...          1        0                0                1   \n",
       "550064  ...          0        0                0                0   \n",
       "550065  ...          0        0                0                1   \n",
       "550066  ...          0        1                0                0   \n",
       "550067  ...          0        0                0                1   \n",
       "\n",
       "        City_Category_C  Stay_In_Current_City_Years_0  \\\n",
       "0                     0                             0   \n",
       "1                     1                             1   \n",
       "2                     0                             0   \n",
       "3                     0                             0   \n",
       "4                     1                             0   \n",
       "...                 ...                           ...   \n",
       "550063                0                             0   \n",
       "550064                1                             0   \n",
       "550065                0                             0   \n",
       "550066                1                             0   \n",
       "550067                0                             0   \n",
       "\n",
       "        Stay_In_Current_City_Years_1  Stay_In_Current_City_Years_2  \\\n",
       "0                                  0                             1   \n",
       "1                                  0                             0   \n",
       "2                                  0                             0   \n",
       "3                                  0                             0   \n",
       "4                                  1                             0   \n",
       "...                              ...                           ...   \n",
       "550063                             1                             0   \n",
       "550064                             0                             0   \n",
       "550065                             0                             0   \n",
       "550066                             0                             1   \n",
       "550067                             0                             0   \n",
       "\n",
       "        Stay_In_Current_City_Years_3  Stay_In_Current_City_Years_4+  \n",
       "0                                  0                              0  \n",
       "1                                  0                              0  \n",
       "2                                  0                              1  \n",
       "3                                  0                              1  \n",
       "4                                  0                              0  \n",
       "...                              ...                            ...  \n",
       "550063                             0                              0  \n",
       "550064                             1                              0  \n",
       "550065                             0                              1  \n",
       "550066                             0                              0  \n",
       "550067                             0                              1  \n",
       "\n",
       "[783667 rows x 94 columns]"
      ]
     },
     "execution_count": 83,
     "metadata": {},
     "output_type": "execute_result"
    }
   ],
   "source": [
    "combinedf_eda.drop(['User_ID','Product_ID'],axis=1,inplace=True)"
   ]
  },
  {
   "cell_type": "code",
   "execution_count": 84,
   "id": "359e2d15",
   "metadata": {},
   "outputs": [],
   "source": [
    "combinedf_eda['Purchase'] = y"
   ]
  },
  {
   "cell_type": "code",
   "execution_count": 86,
   "id": "40a2d904",
   "metadata": {},
   "outputs": [],
   "source": [
    "train_df = combinedf_eda[combinedf_eda.Purchase != 'test']\n",
    "test_df = combinedf_eda[combinedf_eda.Purchase == 'test']"
   ]
  },
  {
   "cell_type": "code",
   "execution_count": 87,
   "id": "0c9abff5",
   "metadata": {},
   "outputs": [],
   "source": [
    "X = train_df.drop('Purchase',axis=1)\n",
    "y = train_df.Purchase\n",
    "test_df = test_df.drop('Purchase',axis=1)"
   ]
  },
  {
   "cell_type": "code",
   "execution_count": 88,
   "id": "da3ff333",
   "metadata": {},
   "outputs": [
    {
     "data": {
      "text/plain": [
       "((550068, 94), (233599, 94))"
      ]
     },
     "execution_count": 88,
     "metadata": {},
     "output_type": "execute_result"
    }
   ],
   "source": [
    "X.shape, test_df.shape"
   ]
  },
  {
   "cell_type": "code",
   "execution_count": 90,
   "id": "6185ccc4",
   "metadata": {},
   "outputs": [],
   "source": [
    "#Change the type of y to float as its in object-\n",
    "#Its done to ensure that the dependent variable is numeric to build regression model\n",
    "y=y.astype(float)"
   ]
  },
  {
   "cell_type": "code",
   "execution_count": 91,
   "id": "2040ca85",
   "metadata": {},
   "outputs": [],
   "source": [
    "#LINEAR REGRESSION MODEL\n",
    "from sklearn.linear_model import LinearRegression"
   ]
  },
  {
   "cell_type": "code",
   "execution_count": 92,
   "id": "25c08764",
   "metadata": {},
   "outputs": [],
   "source": [
    "reg=LinearRegression()"
   ]
  },
  {
   "cell_type": "code",
   "execution_count": 93,
   "id": "6ac185d2",
   "metadata": {},
   "outputs": [],
   "source": [
    "reg_model=reg.fit(X,y)"
   ]
  },
  {
   "cell_type": "code",
   "execution_count": 94,
   "id": "247b7015",
   "metadata": {},
   "outputs": [
    {
     "data": {
      "text/plain": [
       "0.6478862267179023"
      ]
     },
     "execution_count": 94,
     "metadata": {},
     "output_type": "execute_result"
    }
   ],
   "source": [
    "reg_model.score(X,y)"
   ]
  },
  {
   "cell_type": "code",
   "execution_count": 95,
   "id": "df21814c",
   "metadata": {},
   "outputs": [],
   "source": [
    "#As the Rsquare value is less than 0.60 the model is undefitting so we will do lograthmeic transformation of y\n",
    "# Build a model with lograthemic transformation\n",
    "reg_model_log=reg.fit(X,np.log(y))"
   ]
  },
  {
   "cell_type": "code",
   "execution_count": 96,
   "id": "6555b53a",
   "metadata": {},
   "outputs": [
    {
     "data": {
      "text/plain": [
       "0.7405294979396583"
      ]
     },
     "execution_count": 96,
     "metadata": {},
     "output_type": "execute_result"
    }
   ],
   "source": [
    "reg_model_log.score(X,np.log(y))"
   ]
  },
  {
   "cell_type": "code",
   "execution_count": 97,
   "id": "7cc583f8",
   "metadata": {},
   "outputs": [],
   "source": [
    "from sklearn.model_selection import cross_val_score"
   ]
  },
  {
   "cell_type": "code",
   "execution_count": 99,
   "id": "c644f1c1",
   "metadata": {},
   "outputs": [
    {
     "data": {
      "text/plain": [
       "-6.162352288633688e+18"
      ]
     },
     "execution_count": 99,
     "metadata": {},
     "output_type": "execute_result"
    }
   ],
   "source": [
    "np.mean(cross_val_score(reg,X,np.log(y)))"
   ]
  },
  {
   "cell_type": "code",
   "execution_count": 100,
   "id": "10039d1d",
   "metadata": {},
   "outputs": [],
   "source": [
    "#prediction of test data\n",
    "reg_predict=reg_model.predict(X)"
   ]
  },
  {
   "cell_type": "code",
   "execution_count": 101,
   "id": "9cfc30f3",
   "metadata": {},
   "outputs": [],
   "source": [
    "reg_resid=y-reg_predict"
   ]
  },
  {
   "cell_type": "code",
   "execution_count": 102,
   "id": "355495d9",
   "metadata": {},
   "outputs": [
    {
     "data": {
      "text/plain": [
       "10530.0673843547"
      ]
     },
     "execution_count": 102,
     "metadata": {},
     "output_type": "execute_result"
    }
   ],
   "source": [
    "np.sqrt(np.mean(reg_resid**2))"
   ]
  },
  {
   "cell_type": "code",
   "execution_count": null,
   "id": "1ffc96c2",
   "metadata": {},
   "outputs": [],
   "source": []
  }
 ],
 "metadata": {
  "kernelspec": {
   "display_name": "Python 3 (ipykernel)",
   "language": "python",
   "name": "python3"
  },
  "language_info": {
   "codemirror_mode": {
    "name": "ipython",
    "version": 3
   },
   "file_extension": ".py",
   "mimetype": "text/x-python",
   "name": "python",
   "nbconvert_exporter": "python",
   "pygments_lexer": "ipython3",
   "version": "3.9.16"
  }
 },
 "nbformat": 4,
 "nbformat_minor": 5
}
